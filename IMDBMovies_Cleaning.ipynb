{
  "nbformat": 4,
  "nbformat_minor": 0,
  "metadata": {
    "colab": {
      "name": "Chris_IMDBMovies_Cleaning.ipynb",
      "provenance": [],
      "collapsed_sections": []
    },
    "kernelspec": {
      "display_name": "Python 3",
      "name": "python3"
    }
  },
  "cells": [
    {
      "cell_type": "code",
      "metadata": {
        "id": "SUv1T4KeOjI8"
      },
      "source": [
        "# !pip install hdbscan\n",
        "# !pip install umap-learn"
      ],
      "execution_count": null,
      "outputs": []
    },
    {
      "cell_type": "code",
      "metadata": {
        "id": "VPHWSr4w977W"
      },
      "source": [
        "import re\n",
        "# import umap\n",
        "import numpy as np\n",
        "import pandas as pd\n",
        "import seaborn as sns\n",
        "import matplotlib.pyplot as plt\n",
        "import sklearn.manifold as manifold\n",
        "\n",
        "# import hdbscan\n",
        "from nltk.corpus import stopwords\n",
        "from sklearn.decomposition import PCA\n",
        "from sklearn.feature_extraction.text import TfidfVectorizer\n",
        "from sklearn.preprocessing import StandardScaler, MinMaxScaler, LabelEncoder\n",
        "from sklearn.cluster import KMeans, DBSCAN, AgglomerativeClustering\n",
        "from sklearn.metrics import silhouette_score\n",
        "\n",
        "from bokeh.plotting import figure, show\n",
        "from bokeh.io import output_notebook\n",
        "from bokeh.models import HoverTool, ColumnDataSource, CategoricalColorMapper\n",
        "from bokeh.palettes import Spectral10\n",
        "output_notebook()"
      ],
      "execution_count": null,
      "outputs": []
    },
    {
      "cell_type": "code",
      "metadata": {
        "colab": {
          "base_uri": "https://localhost:8080/"
        },
        "id": "so2ni2SnI60S",
        "outputId": "0d5bb170-1a37-4636-d863-50efdcab8af1"
      },
      "source": [
        "!gdown --id 1o31_gh2MLtfu0gpXkhyyZBoAdnKbvyQr #title.basics.tsv\n",
        "!gdown --id 1XruIRqJFTB7lTrc2aAIjWfY7AbxdgKzj #title.ratings.tsv\n",
        "!gdown --id 1Eu12S_gsiliEzLMbXIi3esZ2g4wOmQuN #title.principals.tsv\n",
        "!gdown --id 13LF4mnwAQU3HN3wgXGrgc6dNuZa5sGOU #title.akas.tsv"
      ],
      "execution_count": null,
      "outputs": [
        {
          "output_type": "stream",
          "text": [
            "Downloading...\n",
            "From: https://drive.google.com/uc?id=1o31_gh2MLtfu0gpXkhyyZBoAdnKbvyQr\n",
            "To: /content/title.basics.tsv\n",
            "657MB [00:12, 53.9MB/s]\n",
            "Downloading...\n",
            "From: https://drive.google.com/uc?id=1XruIRqJFTB7lTrc2aAIjWfY7AbxdgKzj\n",
            "To: /content/title.ratings.tsv\n",
            "19.3MB [00:00, 34.2MB/s]\n",
            "Downloading...\n",
            "From: https://drive.google.com/uc?id=1Eu12S_gsiliEzLMbXIi3esZ2g4wOmQuN\n",
            "To: /content/title.principals.tsv\n",
            "1.92GB [00:26, 71.4MB/s]\n",
            "Downloading...\n",
            "From: https://drive.google.com/uc?id=13LF4mnwAQU3HN3wgXGrgc6dNuZa5sGOU\n",
            "To: /content/title.akas.tsv\n",
            "1.26GB [00:20, 60.5MB/s]\n"
          ],
          "name": "stdout"
        }
      ]
    },
    {
      "cell_type": "code",
      "metadata": {
        "colab": {
          "base_uri": "https://localhost:8080/"
        },
        "id": "Cs87ZODl-hL3",
        "outputId": "ced58084-80a0-42bb-9a9b-cc878a38b606"
      },
      "source": [
        "dfMovies1 = pd.read_csv(\"/content/title.basics.tsv\", sep='\\t')\n",
        "dfMovies2 = pd.read_csv(\"/content/title.ratings.tsv\", sep='\\t')\n",
        "dfMovies3 = pd.read_csv(\"/content/title.principals.tsv\", sep='\\t')\n",
        "dfMovies4 = pd.read_csv(\"/content/title.akas.tsv\", sep='\\t')"
      ],
      "execution_count": null,
      "outputs": [
        {
          "output_type": "stream",
          "text": [
            "/usr/local/lib/python3.7/dist-packages/IPython/core/interactiveshell.py:2718: DtypeWarning: Columns (4,5) have mixed types.Specify dtype option on import or set low_memory=False.\n",
            "  interactivity=interactivity, compiler=compiler, result=result)\n",
            "/usr/local/lib/python3.7/dist-packages/IPython/core/interactiveshell.py:2718: DtypeWarning: Columns (7) have mixed types.Specify dtype option on import or set low_memory=False.\n",
            "  interactivity=interactivity, compiler=compiler, result=result)\n"
          ],
          "name": "stderr"
        }
      ]
    },
    {
      "cell_type": "code",
      "metadata": {
        "colab": {
          "base_uri": "https://localhost:8080/",
          "height": 204
        },
        "id": "MDZM-sh8UkWp",
        "outputId": "6a29a254-6699-4f6f-9593-b17ede423307"
      },
      "source": [
        "dfMovies1.head()"
      ],
      "execution_count": null,
      "outputs": [
        {
          "output_type": "execute_result",
          "data": {
            "text/html": [
              "<div>\n",
              "<style scoped>\n",
              "    .dataframe tbody tr th:only-of-type {\n",
              "        vertical-align: middle;\n",
              "    }\n",
              "\n",
              "    .dataframe tbody tr th {\n",
              "        vertical-align: top;\n",
              "    }\n",
              "\n",
              "    .dataframe thead th {\n",
              "        text-align: right;\n",
              "    }\n",
              "</style>\n",
              "<table border=\"1\" class=\"dataframe\">\n",
              "  <thead>\n",
              "    <tr style=\"text-align: right;\">\n",
              "      <th></th>\n",
              "      <th>tconst</th>\n",
              "      <th>titleType</th>\n",
              "      <th>primaryTitle</th>\n",
              "      <th>originalTitle</th>\n",
              "      <th>isAdult</th>\n",
              "      <th>startYear</th>\n",
              "      <th>endYear</th>\n",
              "      <th>runtimeMinutes</th>\n",
              "      <th>genres</th>\n",
              "    </tr>\n",
              "  </thead>\n",
              "  <tbody>\n",
              "    <tr>\n",
              "      <th>0</th>\n",
              "      <td>tt0000001</td>\n",
              "      <td>short</td>\n",
              "      <td>Carmencita</td>\n",
              "      <td>Carmencita</td>\n",
              "      <td>0</td>\n",
              "      <td>1894</td>\n",
              "      <td>\\N</td>\n",
              "      <td>1</td>\n",
              "      <td>Documentary,Short</td>\n",
              "    </tr>\n",
              "    <tr>\n",
              "      <th>1</th>\n",
              "      <td>tt0000002</td>\n",
              "      <td>short</td>\n",
              "      <td>Le clown et ses chiens</td>\n",
              "      <td>Le clown et ses chiens</td>\n",
              "      <td>0</td>\n",
              "      <td>1892</td>\n",
              "      <td>\\N</td>\n",
              "      <td>5</td>\n",
              "      <td>Animation,Short</td>\n",
              "    </tr>\n",
              "    <tr>\n",
              "      <th>2</th>\n",
              "      <td>tt0000003</td>\n",
              "      <td>short</td>\n",
              "      <td>Pauvre Pierrot</td>\n",
              "      <td>Pauvre Pierrot</td>\n",
              "      <td>0</td>\n",
              "      <td>1892</td>\n",
              "      <td>\\N</td>\n",
              "      <td>4</td>\n",
              "      <td>Animation,Comedy,Romance</td>\n",
              "    </tr>\n",
              "    <tr>\n",
              "      <th>3</th>\n",
              "      <td>tt0000004</td>\n",
              "      <td>short</td>\n",
              "      <td>Un bon bock</td>\n",
              "      <td>Un bon bock</td>\n",
              "      <td>0</td>\n",
              "      <td>1892</td>\n",
              "      <td>\\N</td>\n",
              "      <td>12</td>\n",
              "      <td>Animation,Short</td>\n",
              "    </tr>\n",
              "    <tr>\n",
              "      <th>4</th>\n",
              "      <td>tt0000005</td>\n",
              "      <td>short</td>\n",
              "      <td>Blacksmith Scene</td>\n",
              "      <td>Blacksmith Scene</td>\n",
              "      <td>0</td>\n",
              "      <td>1893</td>\n",
              "      <td>\\N</td>\n",
              "      <td>1</td>\n",
              "      <td>Comedy,Short</td>\n",
              "    </tr>\n",
              "  </tbody>\n",
              "</table>\n",
              "</div>"
            ],
            "text/plain": [
              "      tconst titleType  ... runtimeMinutes                    genres\n",
              "0  tt0000001     short  ...              1         Documentary,Short\n",
              "1  tt0000002     short  ...              5           Animation,Short\n",
              "2  tt0000003     short  ...              4  Animation,Comedy,Romance\n",
              "3  tt0000004     short  ...             12           Animation,Short\n",
              "4  tt0000005     short  ...              1              Comedy,Short\n",
              "\n",
              "[5 rows x 9 columns]"
            ]
          },
          "metadata": {
            "tags": []
          },
          "execution_count": 5
        }
      ]
    },
    {
      "cell_type": "code",
      "metadata": {
        "colab": {
          "base_uri": "https://localhost:8080/"
        },
        "id": "vTESZdJIUmok",
        "outputId": "3230c219-eee4-4997-f459-fc416f7618e5"
      },
      "source": [
        "dfMovies1.shape"
      ],
      "execution_count": null,
      "outputs": [
        {
          "output_type": "execute_result",
          "data": {
            "text/plain": [
              "(7697093, 9)"
            ]
          },
          "metadata": {
            "tags": []
          },
          "execution_count": 6
        }
      ]
    },
    {
      "cell_type": "code",
      "metadata": {
        "colab": {
          "base_uri": "https://localhost:8080/",
          "height": 204
        },
        "id": "jJRJwFsNMpHq",
        "outputId": "5d05de85-42ea-42ec-eb67-48337675a6a5"
      },
      "source": [
        "dfMovies2.head()"
      ],
      "execution_count": null,
      "outputs": [
        {
          "output_type": "execute_result",
          "data": {
            "text/html": [
              "<div>\n",
              "<style scoped>\n",
              "    .dataframe tbody tr th:only-of-type {\n",
              "        vertical-align: middle;\n",
              "    }\n",
              "\n",
              "    .dataframe tbody tr th {\n",
              "        vertical-align: top;\n",
              "    }\n",
              "\n",
              "    .dataframe thead th {\n",
              "        text-align: right;\n",
              "    }\n",
              "</style>\n",
              "<table border=\"1\" class=\"dataframe\">\n",
              "  <thead>\n",
              "    <tr style=\"text-align: right;\">\n",
              "      <th></th>\n",
              "      <th>tconst</th>\n",
              "      <th>averageRating</th>\n",
              "      <th>numVotes</th>\n",
              "    </tr>\n",
              "  </thead>\n",
              "  <tbody>\n",
              "    <tr>\n",
              "      <th>0</th>\n",
              "      <td>tt0000001</td>\n",
              "      <td>5.7</td>\n",
              "      <td>1688</td>\n",
              "    </tr>\n",
              "    <tr>\n",
              "      <th>1</th>\n",
              "      <td>tt0000002</td>\n",
              "      <td>6.0</td>\n",
              "      <td>209</td>\n",
              "    </tr>\n",
              "    <tr>\n",
              "      <th>2</th>\n",
              "      <td>tt0000003</td>\n",
              "      <td>6.5</td>\n",
              "      <td>1431</td>\n",
              "    </tr>\n",
              "    <tr>\n",
              "      <th>3</th>\n",
              "      <td>tt0000004</td>\n",
              "      <td>6.1</td>\n",
              "      <td>122</td>\n",
              "    </tr>\n",
              "    <tr>\n",
              "      <th>4</th>\n",
              "      <td>tt0000005</td>\n",
              "      <td>6.1</td>\n",
              "      <td>2229</td>\n",
              "    </tr>\n",
              "  </tbody>\n",
              "</table>\n",
              "</div>"
            ],
            "text/plain": [
              "      tconst  averageRating  numVotes\n",
              "0  tt0000001            5.7      1688\n",
              "1  tt0000002            6.0       209\n",
              "2  tt0000003            6.5      1431\n",
              "3  tt0000004            6.1       122\n",
              "4  tt0000005            6.1      2229"
            ]
          },
          "metadata": {
            "tags": []
          },
          "execution_count": 7
        }
      ]
    },
    {
      "cell_type": "code",
      "metadata": {
        "colab": {
          "base_uri": "https://localhost:8080/"
        },
        "id": "Ax0favKcsi47",
        "outputId": "c607ed88-e155-447f-f21b-28fc9f5b11f8"
      },
      "source": [
        "dfMovies2.shape"
      ],
      "execution_count": null,
      "outputs": [
        {
          "output_type": "execute_result",
          "data": {
            "text/plain": [
              "(1131280, 3)"
            ]
          },
          "metadata": {
            "tags": []
          },
          "execution_count": 8
        }
      ]
    },
    {
      "cell_type": "code",
      "metadata": {
        "colab": {
          "base_uri": "https://localhost:8080/",
          "height": 204
        },
        "id": "6T44n5Hds7qs",
        "outputId": "e4dd2c75-d99b-4e83-c9a0-d276d5f38108"
      },
      "source": [
        "dfMovies3.head()"
      ],
      "execution_count": null,
      "outputs": [
        {
          "output_type": "execute_result",
          "data": {
            "text/html": [
              "<div>\n",
              "<style scoped>\n",
              "    .dataframe tbody tr th:only-of-type {\n",
              "        vertical-align: middle;\n",
              "    }\n",
              "\n",
              "    .dataframe tbody tr th {\n",
              "        vertical-align: top;\n",
              "    }\n",
              "\n",
              "    .dataframe thead th {\n",
              "        text-align: right;\n",
              "    }\n",
              "</style>\n",
              "<table border=\"1\" class=\"dataframe\">\n",
              "  <thead>\n",
              "    <tr style=\"text-align: right;\">\n",
              "      <th></th>\n",
              "      <th>tconst</th>\n",
              "      <th>ordering</th>\n",
              "      <th>nconst</th>\n",
              "      <th>category</th>\n",
              "      <th>job</th>\n",
              "      <th>characters</th>\n",
              "    </tr>\n",
              "  </thead>\n",
              "  <tbody>\n",
              "    <tr>\n",
              "      <th>0</th>\n",
              "      <td>tt0000001</td>\n",
              "      <td>1</td>\n",
              "      <td>nm1588970</td>\n",
              "      <td>self</td>\n",
              "      <td>\\N</td>\n",
              "      <td>[\"Self\"]</td>\n",
              "    </tr>\n",
              "    <tr>\n",
              "      <th>1</th>\n",
              "      <td>tt0000001</td>\n",
              "      <td>2</td>\n",
              "      <td>nm0005690</td>\n",
              "      <td>director</td>\n",
              "      <td>\\N</td>\n",
              "      <td>\\N</td>\n",
              "    </tr>\n",
              "    <tr>\n",
              "      <th>2</th>\n",
              "      <td>tt0000001</td>\n",
              "      <td>3</td>\n",
              "      <td>nm0374658</td>\n",
              "      <td>cinematographer</td>\n",
              "      <td>director of photography</td>\n",
              "      <td>\\N</td>\n",
              "    </tr>\n",
              "    <tr>\n",
              "      <th>3</th>\n",
              "      <td>tt0000002</td>\n",
              "      <td>1</td>\n",
              "      <td>nm0721526</td>\n",
              "      <td>director</td>\n",
              "      <td>\\N</td>\n",
              "      <td>\\N</td>\n",
              "    </tr>\n",
              "    <tr>\n",
              "      <th>4</th>\n",
              "      <td>tt0000002</td>\n",
              "      <td>2</td>\n",
              "      <td>nm1335271</td>\n",
              "      <td>composer</td>\n",
              "      <td>\\N</td>\n",
              "      <td>\\N</td>\n",
              "    </tr>\n",
              "  </tbody>\n",
              "</table>\n",
              "</div>"
            ],
            "text/plain": [
              "      tconst  ordering  ...                      job characters\n",
              "0  tt0000001         1  ...                       \\N   [\"Self\"]\n",
              "1  tt0000001         2  ...                       \\N         \\N\n",
              "2  tt0000001         3  ...  director of photography         \\N\n",
              "3  tt0000002         1  ...                       \\N         \\N\n",
              "4  tt0000002         2  ...                       \\N         \\N\n",
              "\n",
              "[5 rows x 6 columns]"
            ]
          },
          "metadata": {
            "tags": []
          },
          "execution_count": 9
        }
      ]
    },
    {
      "cell_type": "code",
      "metadata": {
        "colab": {
          "base_uri": "https://localhost:8080/"
        },
        "id": "y2SmWkFOtQdZ",
        "outputId": "92029a8a-21d2-4a9f-fce5-eac7268d27e2"
      },
      "source": [
        "dfMovies3.shape"
      ],
      "execution_count": null,
      "outputs": [
        {
          "output_type": "execute_result",
          "data": {
            "text/plain": [
              "(43512883, 6)"
            ]
          },
          "metadata": {
            "tags": []
          },
          "execution_count": 10
        }
      ]
    },
    {
      "cell_type": "code",
      "metadata": {
        "colab": {
          "base_uri": "https://localhost:8080/",
          "height": 204
        },
        "id": "uGzwGp0QyWMc",
        "outputId": "156968a8-c25a-4ba8-c608-efddec12521d"
      },
      "source": [
        "dfMovies4.head()"
      ],
      "execution_count": null,
      "outputs": [
        {
          "output_type": "execute_result",
          "data": {
            "text/html": [
              "<div>\n",
              "<style scoped>\n",
              "    .dataframe tbody tr th:only-of-type {\n",
              "        vertical-align: middle;\n",
              "    }\n",
              "\n",
              "    .dataframe tbody tr th {\n",
              "        vertical-align: top;\n",
              "    }\n",
              "\n",
              "    .dataframe thead th {\n",
              "        text-align: right;\n",
              "    }\n",
              "</style>\n",
              "<table border=\"1\" class=\"dataframe\">\n",
              "  <thead>\n",
              "    <tr style=\"text-align: right;\">\n",
              "      <th></th>\n",
              "      <th>titleId</th>\n",
              "      <th>ordering</th>\n",
              "      <th>title</th>\n",
              "      <th>region</th>\n",
              "      <th>language</th>\n",
              "      <th>types</th>\n",
              "      <th>attributes</th>\n",
              "      <th>isOriginalTitle</th>\n",
              "    </tr>\n",
              "  </thead>\n",
              "  <tbody>\n",
              "    <tr>\n",
              "      <th>0</th>\n",
              "      <td>tt0000001</td>\n",
              "      <td>1</td>\n",
              "      <td>Карменсіта</td>\n",
              "      <td>UA</td>\n",
              "      <td>\\N</td>\n",
              "      <td>imdbDisplay</td>\n",
              "      <td>\\N</td>\n",
              "      <td>0</td>\n",
              "    </tr>\n",
              "    <tr>\n",
              "      <th>1</th>\n",
              "      <td>tt0000001</td>\n",
              "      <td>2</td>\n",
              "      <td>Carmencita</td>\n",
              "      <td>DE</td>\n",
              "      <td>\\N</td>\n",
              "      <td>\\N</td>\n",
              "      <td>literal title</td>\n",
              "      <td>0</td>\n",
              "    </tr>\n",
              "    <tr>\n",
              "      <th>2</th>\n",
              "      <td>tt0000001</td>\n",
              "      <td>3</td>\n",
              "      <td>Carmencita - spanyol tánc</td>\n",
              "      <td>HU</td>\n",
              "      <td>\\N</td>\n",
              "      <td>imdbDisplay</td>\n",
              "      <td>\\N</td>\n",
              "      <td>0</td>\n",
              "    </tr>\n",
              "    <tr>\n",
              "      <th>3</th>\n",
              "      <td>tt0000001</td>\n",
              "      <td>4</td>\n",
              "      <td>Καρμενσίτα</td>\n",
              "      <td>GR</td>\n",
              "      <td>\\N</td>\n",
              "      <td>imdbDisplay</td>\n",
              "      <td>\\N</td>\n",
              "      <td>0</td>\n",
              "    </tr>\n",
              "    <tr>\n",
              "      <th>4</th>\n",
              "      <td>tt0000001</td>\n",
              "      <td>5</td>\n",
              "      <td>Карменсита</td>\n",
              "      <td>RU</td>\n",
              "      <td>\\N</td>\n",
              "      <td>imdbDisplay</td>\n",
              "      <td>\\N</td>\n",
              "      <td>0</td>\n",
              "    </tr>\n",
              "  </tbody>\n",
              "</table>\n",
              "</div>"
            ],
            "text/plain": [
              "     titleId  ordering  ...     attributes isOriginalTitle\n",
              "0  tt0000001         1  ...             \\N               0\n",
              "1  tt0000001         2  ...  literal title               0\n",
              "2  tt0000001         3  ...             \\N               0\n",
              "3  tt0000001         4  ...             \\N               0\n",
              "4  tt0000001         5  ...             \\N               0\n",
              "\n",
              "[5 rows x 8 columns]"
            ]
          },
          "metadata": {
            "tags": []
          },
          "execution_count": 11
        }
      ]
    },
    {
      "cell_type": "code",
      "metadata": {
        "colab": {
          "base_uri": "https://localhost:8080/"
        },
        "id": "KdX7-ElzyWMr",
        "outputId": "3e02e52a-5407-49f3-a4ea-85019293470b"
      },
      "source": [
        "dfMovies4.shape"
      ],
      "execution_count": null,
      "outputs": [
        {
          "output_type": "execute_result",
          "data": {
            "text/plain": [
              "(25485617, 8)"
            ]
          },
          "metadata": {
            "tags": []
          },
          "execution_count": 12
        }
      ]
    },
    {
      "cell_type": "code",
      "metadata": {
        "colab": {
          "base_uri": "https://localhost:8080/"
        },
        "id": "g87m7Zqbzkl9",
        "outputId": "dd8b392a-0826-403f-e805-a487d1ed7120"
      },
      "source": [
        "dfMovies4['region'].unique()"
      ],
      "execution_count": null,
      "outputs": [
        {
          "output_type": "execute_result",
          "data": {
            "text/plain": [
              "array(['UA', 'DE', 'HU', 'GR', 'RU', 'US', '\\\\N', 'JP', 'FR', 'RO', 'GB',\n",
              "       'PT', 'RS', 'ES', 'UY', 'IT', 'AR', 'FI', 'PL', 'BR', 'DK', 'TR',\n",
              "       'XWW', 'XEU', 'SK', 'CZ', 'SE', 'MX', 'NO', 'XYU', 'AT', 'VE',\n",
              "       'CSHH', 'SI', 'AU', 'TW', 'LT', 'IN', 'CA', 'NL', 'CO', 'IR', 'BG',\n",
              "       'BE', 'DZ', 'CH', 'NZ', 'BF', 'XWG', 'VN', 'XSA', 'SUHH', 'EE',\n",
              "       'IS', 'HR', 'DDDE', 'HK', 'XKO', 'CL', 'PE', 'EG', 'GE', 'BY',\n",
              "       'BA', 'PA', 'CN', 'TJ', 'XSI', 'YUCS', 'IE', 'IL', 'LV', 'CU',\n",
              "       'AL', 'BO', 'ID', 'ZA', 'KR', 'UZ', 'MY', 'SG', 'BUMM', 'XPI',\n",
              "       'BJ', 'PR', 'CM', 'AZ', 'TH', 'DO', 'EC', 'MA', 'PH', 'GL', 'MN',\n",
              "       'LI', 'LU', 'PY', 'MZ', 'GT', 'BM', 'JM', 'MD', 'CR', 'LB', 'IQ',\n",
              "       'TM', 'MK', 'TN', 'NG', 'HT', 'AM', 'SN', 'GH', 'CI', 'JO', 'KG',\n",
              "       'PK', 'LK', 'KZ', 'NE', 'GN', 'VDVN', 'TD', 'SO', 'SD', 'MC', 'CG',\n",
              "       'TT', 'GA', 'BS', 'LY', 'SY', 'AO', 'KH', 'SV', 'MR', 'AF', 'MG',\n",
              "       'ML', 'GY', 'CY', 'ET', 'GU', 'XAS', 'SR', 'MT', 'TG', 'PG', 'AE',\n",
              "       'MU', 'BI', 'CF', 'NI', 'ZW', 'BD', 'ZM', 'GW', 'DJ', 'KP', 'RW',\n",
              "       'TZ', 'GI', 'LA', 'SC', 'NP', 'GP', 'FO', 'PS', 'ZRCD', 'MO', 'AW',\n",
              "       'KW', 'CV', 'SL', 'SM', 'CD', 'TO', 'BT', 'LS', 'HN', 'KE', 'MQ',\n",
              "       'AD', 'ER', nan, 'SA', 'CSXX', 'IM', 'XKV', 'BH', 'BB', 'BZ', 'UG',\n",
              "       'AG', 'NU', 'OM', 'QA', 'BW', 'LR', 'VC', 'AN', 'MV', 'YE', 'GM',\n",
              "       'KY', 'MM', 'ME', 'NC', 'DM', 'MP', 'VA', 'GQ', 'FJ', 'SZ', 'RE',\n",
              "       'EH', 'PF', 'VG', 'LC', 'XAU', 'MW', 'BN', 'TL', 'ST', 'KM', 'FM',\n",
              "       'AI', 'GD', 'VI', 'SB', 'GF', 'AQ', 'MH', 'XNA', 'VU', 'SH', 'MS',\n",
              "       'AS', 'WS', 'TV', 'CK', 'PW', 'NR', 'KN', 'JE', 'KI', 'TC'],\n",
              "      dtype=object)"
            ]
          },
          "metadata": {
            "tags": []
          },
          "execution_count": 13
        }
      ]
    },
    {
      "cell_type": "code",
      "metadata": {
        "colab": {
          "base_uri": "https://localhost:8080/",
          "height": 359
        },
        "id": "OmGS_QICzdg_",
        "outputId": "8f20d6f8-914c-46cc-cb4e-36f36895d2cb"
      },
      "source": [
        "dfMovies4 = dfMovies4[dfMovies4['region'] == 'US'][['titleId', 'title']].rename(columns={'titleId': 'tconst'})\n",
        "dfMovies4.head(10)"
      ],
      "execution_count": null,
      "outputs": [
        {
          "output_type": "execute_result",
          "data": {
            "text/html": [
              "<div>\n",
              "<style scoped>\n",
              "    .dataframe tbody tr th:only-of-type {\n",
              "        vertical-align: middle;\n",
              "    }\n",
              "\n",
              "    .dataframe tbody tr th {\n",
              "        vertical-align: top;\n",
              "    }\n",
              "\n",
              "    .dataframe thead th {\n",
              "        text-align: right;\n",
              "    }\n",
              "</style>\n",
              "<table border=\"1\" class=\"dataframe\">\n",
              "  <thead>\n",
              "    <tr style=\"text-align: right;\">\n",
              "      <th></th>\n",
              "      <th>tconst</th>\n",
              "      <th>title</th>\n",
              "    </tr>\n",
              "  </thead>\n",
              "  <tbody>\n",
              "    <tr>\n",
              "      <th>5</th>\n",
              "      <td>tt0000001</td>\n",
              "      <td>Carmencita</td>\n",
              "    </tr>\n",
              "    <tr>\n",
              "      <th>14</th>\n",
              "      <td>tt0000002</td>\n",
              "      <td>The Clown and His Dogs</td>\n",
              "    </tr>\n",
              "    <tr>\n",
              "      <th>35</th>\n",
              "      <td>tt0000005</td>\n",
              "      <td>Blacksmithing Scene</td>\n",
              "    </tr>\n",
              "    <tr>\n",
              "      <th>39</th>\n",
              "      <td>tt0000005</td>\n",
              "      <td>Blacksmith Scene #1</td>\n",
              "    </tr>\n",
              "    <tr>\n",
              "      <th>40</th>\n",
              "      <td>tt0000005</td>\n",
              "      <td>Blacksmithing</td>\n",
              "    </tr>\n",
              "    <tr>\n",
              "      <th>43</th>\n",
              "      <td>tt0000005</td>\n",
              "      <td>Blacksmith Scene</td>\n",
              "    </tr>\n",
              "    <tr>\n",
              "      <th>46</th>\n",
              "      <td>tt0000006</td>\n",
              "      <td>Chinese Opium Den</td>\n",
              "    </tr>\n",
              "    <tr>\n",
              "      <th>50</th>\n",
              "      <td>tt0000007</td>\n",
              "      <td>Corbett and Courtney Before the Kinetograph</td>\n",
              "    </tr>\n",
              "    <tr>\n",
              "      <th>54</th>\n",
              "      <td>tt0000007</td>\n",
              "      <td>The Corbett-Courtney Fight</td>\n",
              "    </tr>\n",
              "    <tr>\n",
              "      <th>55</th>\n",
              "      <td>tt0000007</td>\n",
              "      <td>Jim Corbett vs. Peter Courtney</td>\n",
              "    </tr>\n",
              "  </tbody>\n",
              "</table>\n",
              "</div>"
            ],
            "text/plain": [
              "       tconst                                        title\n",
              "5   tt0000001                                   Carmencita\n",
              "14  tt0000002                       The Clown and His Dogs\n",
              "35  tt0000005                          Blacksmithing Scene\n",
              "39  tt0000005                          Blacksmith Scene #1\n",
              "40  tt0000005                                Blacksmithing\n",
              "43  tt0000005                             Blacksmith Scene\n",
              "46  tt0000006                            Chinese Opium Den\n",
              "50  tt0000007  Corbett and Courtney Before the Kinetograph\n",
              "54  tt0000007                   The Corbett-Courtney Fight\n",
              "55  tt0000007               Jim Corbett vs. Peter Courtney"
            ]
          },
          "metadata": {
            "tags": []
          },
          "execution_count": 14
        }
      ]
    },
    {
      "cell_type": "code",
      "metadata": {
        "colab": {
          "base_uri": "https://localhost:8080/",
          "height": 204
        },
        "id": "SdAhSb6H0wHS",
        "outputId": "774eb943-424c-4f4c-ee04-8c165ce56943"
      },
      "source": [
        "dfMovieTitles = pd.merge(dfMovies1, dfMovies4[['tconst', 'title']], on=['tconst'], how='inner')\n",
        "dfMovieTitles.head()"
      ],
      "execution_count": null,
      "outputs": [
        {
          "output_type": "execute_result",
          "data": {
            "text/html": [
              "<div>\n",
              "<style scoped>\n",
              "    .dataframe tbody tr th:only-of-type {\n",
              "        vertical-align: middle;\n",
              "    }\n",
              "\n",
              "    .dataframe tbody tr th {\n",
              "        vertical-align: top;\n",
              "    }\n",
              "\n",
              "    .dataframe thead th {\n",
              "        text-align: right;\n",
              "    }\n",
              "</style>\n",
              "<table border=\"1\" class=\"dataframe\">\n",
              "  <thead>\n",
              "    <tr style=\"text-align: right;\">\n",
              "      <th></th>\n",
              "      <th>tconst</th>\n",
              "      <th>titleType</th>\n",
              "      <th>primaryTitle</th>\n",
              "      <th>originalTitle</th>\n",
              "      <th>isAdult</th>\n",
              "      <th>startYear</th>\n",
              "      <th>endYear</th>\n",
              "      <th>runtimeMinutes</th>\n",
              "      <th>genres</th>\n",
              "      <th>title</th>\n",
              "    </tr>\n",
              "  </thead>\n",
              "  <tbody>\n",
              "    <tr>\n",
              "      <th>0</th>\n",
              "      <td>tt0000001</td>\n",
              "      <td>short</td>\n",
              "      <td>Carmencita</td>\n",
              "      <td>Carmencita</td>\n",
              "      <td>0</td>\n",
              "      <td>1894</td>\n",
              "      <td>\\N</td>\n",
              "      <td>1</td>\n",
              "      <td>Documentary,Short</td>\n",
              "      <td>Carmencita</td>\n",
              "    </tr>\n",
              "    <tr>\n",
              "      <th>1</th>\n",
              "      <td>tt0000002</td>\n",
              "      <td>short</td>\n",
              "      <td>Le clown et ses chiens</td>\n",
              "      <td>Le clown et ses chiens</td>\n",
              "      <td>0</td>\n",
              "      <td>1892</td>\n",
              "      <td>\\N</td>\n",
              "      <td>5</td>\n",
              "      <td>Animation,Short</td>\n",
              "      <td>The Clown and His Dogs</td>\n",
              "    </tr>\n",
              "    <tr>\n",
              "      <th>2</th>\n",
              "      <td>tt0000005</td>\n",
              "      <td>short</td>\n",
              "      <td>Blacksmith Scene</td>\n",
              "      <td>Blacksmith Scene</td>\n",
              "      <td>0</td>\n",
              "      <td>1893</td>\n",
              "      <td>\\N</td>\n",
              "      <td>1</td>\n",
              "      <td>Comedy,Short</td>\n",
              "      <td>Blacksmithing Scene</td>\n",
              "    </tr>\n",
              "    <tr>\n",
              "      <th>3</th>\n",
              "      <td>tt0000005</td>\n",
              "      <td>short</td>\n",
              "      <td>Blacksmith Scene</td>\n",
              "      <td>Blacksmith Scene</td>\n",
              "      <td>0</td>\n",
              "      <td>1893</td>\n",
              "      <td>\\N</td>\n",
              "      <td>1</td>\n",
              "      <td>Comedy,Short</td>\n",
              "      <td>Blacksmith Scene #1</td>\n",
              "    </tr>\n",
              "    <tr>\n",
              "      <th>4</th>\n",
              "      <td>tt0000005</td>\n",
              "      <td>short</td>\n",
              "      <td>Blacksmith Scene</td>\n",
              "      <td>Blacksmith Scene</td>\n",
              "      <td>0</td>\n",
              "      <td>1893</td>\n",
              "      <td>\\N</td>\n",
              "      <td>1</td>\n",
              "      <td>Comedy,Short</td>\n",
              "      <td>Blacksmithing</td>\n",
              "    </tr>\n",
              "  </tbody>\n",
              "</table>\n",
              "</div>"
            ],
            "text/plain": [
              "      tconst titleType  ...             genres                   title\n",
              "0  tt0000001     short  ...  Documentary,Short              Carmencita\n",
              "1  tt0000002     short  ...    Animation,Short  The Clown and His Dogs\n",
              "2  tt0000005     short  ...       Comedy,Short     Blacksmithing Scene\n",
              "3  tt0000005     short  ...       Comedy,Short     Blacksmith Scene #1\n",
              "4  tt0000005     short  ...       Comedy,Short           Blacksmithing\n",
              "\n",
              "[5 rows x 10 columns]"
            ]
          },
          "metadata": {
            "tags": []
          },
          "execution_count": 15
        }
      ]
    },
    {
      "cell_type": "code",
      "metadata": {
        "colab": {
          "base_uri": "https://localhost:8080/",
          "height": 359
        },
        "id": "fqX2RWJKAMOe",
        "outputId": "5f8083f2-597a-4f3e-8947-5a642a3d77c4"
      },
      "source": [
        "dfMovieTitles = dfMovieTitles.drop_duplicates(['tconst'])\n",
        "dfMovieTitles.head(10)"
      ],
      "execution_count": null,
      "outputs": [
        {
          "output_type": "execute_result",
          "data": {
            "text/html": [
              "<div>\n",
              "<style scoped>\n",
              "    .dataframe tbody tr th:only-of-type {\n",
              "        vertical-align: middle;\n",
              "    }\n",
              "\n",
              "    .dataframe tbody tr th {\n",
              "        vertical-align: top;\n",
              "    }\n",
              "\n",
              "    .dataframe thead th {\n",
              "        text-align: right;\n",
              "    }\n",
              "</style>\n",
              "<table border=\"1\" class=\"dataframe\">\n",
              "  <thead>\n",
              "    <tr style=\"text-align: right;\">\n",
              "      <th></th>\n",
              "      <th>tconst</th>\n",
              "      <th>titleType</th>\n",
              "      <th>primaryTitle</th>\n",
              "      <th>originalTitle</th>\n",
              "      <th>isAdult</th>\n",
              "      <th>startYear</th>\n",
              "      <th>endYear</th>\n",
              "      <th>runtimeMinutes</th>\n",
              "      <th>genres</th>\n",
              "      <th>title</th>\n",
              "    </tr>\n",
              "  </thead>\n",
              "  <tbody>\n",
              "    <tr>\n",
              "      <th>0</th>\n",
              "      <td>tt0000001</td>\n",
              "      <td>short</td>\n",
              "      <td>Carmencita</td>\n",
              "      <td>Carmencita</td>\n",
              "      <td>0</td>\n",
              "      <td>1894</td>\n",
              "      <td>\\N</td>\n",
              "      <td>1</td>\n",
              "      <td>Documentary,Short</td>\n",
              "      <td>Carmencita</td>\n",
              "    </tr>\n",
              "    <tr>\n",
              "      <th>1</th>\n",
              "      <td>tt0000002</td>\n",
              "      <td>short</td>\n",
              "      <td>Le clown et ses chiens</td>\n",
              "      <td>Le clown et ses chiens</td>\n",
              "      <td>0</td>\n",
              "      <td>1892</td>\n",
              "      <td>\\N</td>\n",
              "      <td>5</td>\n",
              "      <td>Animation,Short</td>\n",
              "      <td>The Clown and His Dogs</td>\n",
              "    </tr>\n",
              "    <tr>\n",
              "      <th>2</th>\n",
              "      <td>tt0000005</td>\n",
              "      <td>short</td>\n",
              "      <td>Blacksmith Scene</td>\n",
              "      <td>Blacksmith Scene</td>\n",
              "      <td>0</td>\n",
              "      <td>1893</td>\n",
              "      <td>\\N</td>\n",
              "      <td>1</td>\n",
              "      <td>Comedy,Short</td>\n",
              "      <td>Blacksmithing Scene</td>\n",
              "    </tr>\n",
              "    <tr>\n",
              "      <th>6</th>\n",
              "      <td>tt0000006</td>\n",
              "      <td>short</td>\n",
              "      <td>Chinese Opium Den</td>\n",
              "      <td>Chinese Opium Den</td>\n",
              "      <td>0</td>\n",
              "      <td>1894</td>\n",
              "      <td>\\N</td>\n",
              "      <td>1</td>\n",
              "      <td>Short</td>\n",
              "      <td>Chinese Opium Den</td>\n",
              "    </tr>\n",
              "    <tr>\n",
              "      <th>7</th>\n",
              "      <td>tt0000007</td>\n",
              "      <td>short</td>\n",
              "      <td>Corbett and Courtney Before the Kinetograph</td>\n",
              "      <td>Corbett and Courtney Before the Kinetograph</td>\n",
              "      <td>0</td>\n",
              "      <td>1894</td>\n",
              "      <td>\\N</td>\n",
              "      <td>1</td>\n",
              "      <td>Short,Sport</td>\n",
              "      <td>Corbett and Courtney Before the Kinetograph</td>\n",
              "    </tr>\n",
              "    <tr>\n",
              "      <th>10</th>\n",
              "      <td>tt0000008</td>\n",
              "      <td>short</td>\n",
              "      <td>Edison Kinetoscopic Record of a Sneeze</td>\n",
              "      <td>Edison Kinetoscopic Record of a Sneeze</td>\n",
              "      <td>0</td>\n",
              "      <td>1894</td>\n",
              "      <td>\\N</td>\n",
              "      <td>1</td>\n",
              "      <td>Documentary,Short</td>\n",
              "      <td>Edison Kinetoscopic Record of a Sneeze, Januar...</td>\n",
              "    </tr>\n",
              "    <tr>\n",
              "      <th>12</th>\n",
              "      <td>tt0000009</td>\n",
              "      <td>short</td>\n",
              "      <td>Miss Jerry</td>\n",
              "      <td>Miss Jerry</td>\n",
              "      <td>0</td>\n",
              "      <td>1894</td>\n",
              "      <td>\\N</td>\n",
              "      <td>40</td>\n",
              "      <td>Romance,Short</td>\n",
              "      <td>Miss Jerry</td>\n",
              "    </tr>\n",
              "    <tr>\n",
              "      <th>13</th>\n",
              "      <td>tt0000010</td>\n",
              "      <td>short</td>\n",
              "      <td>Leaving the Factory</td>\n",
              "      <td>La sortie de l'usine Lumière à Lyon</td>\n",
              "      <td>0</td>\n",
              "      <td>1895</td>\n",
              "      <td>\\N</td>\n",
              "      <td>1</td>\n",
              "      <td>Documentary,Short</td>\n",
              "      <td>Leaving the Factory</td>\n",
              "    </tr>\n",
              "    <tr>\n",
              "      <th>17</th>\n",
              "      <td>tt0000012</td>\n",
              "      <td>short</td>\n",
              "      <td>The Arrival of a Train</td>\n",
              "      <td>L'arrivée d'un train à La Ciotat</td>\n",
              "      <td>0</td>\n",
              "      <td>1896</td>\n",
              "      <td>\\N</td>\n",
              "      <td>1</td>\n",
              "      <td>Documentary,Short</td>\n",
              "      <td>The Arrival of a Train</td>\n",
              "    </tr>\n",
              "    <tr>\n",
              "      <th>19</th>\n",
              "      <td>tt0000013</td>\n",
              "      <td>short</td>\n",
              "      <td>The Photographical Congress Arrives in Lyon</td>\n",
              "      <td>Neuville-sur-Saône: Débarquement du congrès de...</td>\n",
              "      <td>0</td>\n",
              "      <td>1895</td>\n",
              "      <td>\\N</td>\n",
              "      <td>1</td>\n",
              "      <td>Documentary,Short</td>\n",
              "      <td>The Photographical Congress Arrives in Lyon</td>\n",
              "    </tr>\n",
              "  </tbody>\n",
              "</table>\n",
              "</div>"
            ],
            "text/plain": [
              "       tconst  ...                                              title\n",
              "0   tt0000001  ...                                         Carmencita\n",
              "1   tt0000002  ...                             The Clown and His Dogs\n",
              "2   tt0000005  ...                                Blacksmithing Scene\n",
              "6   tt0000006  ...                                  Chinese Opium Den\n",
              "7   tt0000007  ...        Corbett and Courtney Before the Kinetograph\n",
              "10  tt0000008  ...  Edison Kinetoscopic Record of a Sneeze, Januar...\n",
              "12  tt0000009  ...                                         Miss Jerry\n",
              "13  tt0000010  ...                                Leaving the Factory\n",
              "17  tt0000012  ...                             The Arrival of a Train\n",
              "19  tt0000013  ...        The Photographical Congress Arrives in Lyon\n",
              "\n",
              "[10 rows x 10 columns]"
            ]
          },
          "metadata": {
            "tags": []
          },
          "execution_count": 16
        }
      ]
    },
    {
      "cell_type": "code",
      "metadata": {
        "colab": {
          "base_uri": "https://localhost:8080/"
        },
        "id": "vjNOrCAmupSq",
        "outputId": "3a913e1d-716c-4ca7-e6cd-46601e176a1b"
      },
      "source": [
        "print(dfMovies3['category'].unique())"
      ],
      "execution_count": null,
      "outputs": [
        {
          "output_type": "stream",
          "text": [
            "['self' 'director' 'cinematographer' 'composer' 'producer' 'editor'\n",
            " 'actor' 'actress' 'writer' 'production_designer' 'archive_footage'\n",
            " 'archive_sound']\n"
          ],
          "name": "stdout"
        }
      ]
    },
    {
      "cell_type": "code",
      "metadata": {
        "id": "hc-HCTCPu4F8"
      },
      "source": [
        "dfCastActor = dfMovies3[dfMovies3['category'].str.contains('actress|actor', na=False)][['tconst','nconst']].rename(columns={\"nconst\": \"ActorNum\"})\n",
        "dfCastActor['ActorNum'] = dfCastActor['ActorNum'].str.replace(r'\\D', '').astype(int)\n",
        "dfCastDirector = dfMovies3[dfMovies3['category'].str.contains('director', na=False)][['tconst','nconst']].rename(columns={\"nconst\": \"DirectorNum\"})\n",
        "dfCastDirector['DirectorNum'] = dfCastDirector['DirectorNum'].str.replace(r'\\D', '').astype(int)\n",
        "dfCastWriter = dfMovies3[dfMovies3['category'].str.contains('writer', na=False)][['tconst','nconst']].rename(columns={\"nconst\": \"WriterNum\"})\n",
        "dfCastWriter['WriterNum'] = dfCastWriter['WriterNum'].str.replace(r'\\D', '').astype(int)"
      ],
      "execution_count": null,
      "outputs": []
    },
    {
      "cell_type": "code",
      "metadata": {
        "id": "4KICEqa32Ib3"
      },
      "source": [
        "dfCastActor = dfCastActor.groupby(['tconst']).sum().reset_index()\n",
        "dfCastDirector = dfCastDirector.groupby(['tconst']).sum().reset_index()\n",
        "dfCastWriter = dfCastWriter.groupby(['tconst']).sum().reset_index()"
      ],
      "execution_count": null,
      "outputs": []
    },
    {
      "cell_type": "code",
      "metadata": {
        "colab": {
          "base_uri": "https://localhost:8080/"
        },
        "id": "vbo4ZRsk3i1p",
        "outputId": "471a5d39-84be-4313-bc91-0c68213cb86a"
      },
      "source": [
        "dfCastActor.shape"
      ],
      "execution_count": null,
      "outputs": [
        {
          "output_type": "execute_result",
          "data": {
            "text/plain": [
              "(4315940, 2)"
            ]
          },
          "metadata": {
            "tags": []
          },
          "execution_count": 20
        }
      ]
    },
    {
      "cell_type": "code",
      "metadata": {
        "colab": {
          "base_uri": "https://localhost:8080/"
        },
        "id": "CgTKek2H3mqZ",
        "outputId": "c9de2b9c-9446-4bf3-95ba-a0627b1e78d2"
      },
      "source": [
        "dfCastDirector.shape"
      ],
      "execution_count": null,
      "outputs": [
        {
          "output_type": "execute_result",
          "data": {
            "text/plain": [
              "(3921612, 2)"
            ]
          },
          "metadata": {
            "tags": []
          },
          "execution_count": 21
        }
      ]
    },
    {
      "cell_type": "code",
      "metadata": {
        "colab": {
          "base_uri": "https://localhost:8080/",
          "height": 224
        },
        "id": "EYbOSFZk8sHR",
        "outputId": "7fa18b5c-840e-4755-b333-d8016afd404e"
      },
      "source": [
        "dfCastDirector.head()"
      ],
      "execution_count": null,
      "outputs": [
        {
          "output_type": "execute_result",
          "data": {
            "text/html": [
              "<div>\n",
              "<style scoped>\n",
              "    .dataframe tbody tr th:only-of-type {\n",
              "        vertical-align: middle;\n",
              "    }\n",
              "\n",
              "    .dataframe tbody tr th {\n",
              "        vertical-align: top;\n",
              "    }\n",
              "\n",
              "    .dataframe thead th {\n",
              "        text-align: right;\n",
              "    }\n",
              "</style>\n",
              "<table border=\"1\" class=\"dataframe\">\n",
              "  <thead>\n",
              "    <tr style=\"text-align: right;\">\n",
              "      <th></th>\n",
              "      <th>tconst</th>\n",
              "      <th>DirectorNum</th>\n",
              "    </tr>\n",
              "  </thead>\n",
              "  <tbody>\n",
              "    <tr>\n",
              "      <th>0</th>\n",
              "      <td>tt0000001</td>\n",
              "      <td>5690</td>\n",
              "    </tr>\n",
              "    <tr>\n",
              "      <th>1</th>\n",
              "      <td>tt0000002</td>\n",
              "      <td>721526</td>\n",
              "    </tr>\n",
              "    <tr>\n",
              "      <th>2</th>\n",
              "      <td>tt0000003</td>\n",
              "      <td>721526</td>\n",
              "    </tr>\n",
              "    <tr>\n",
              "      <th>3</th>\n",
              "      <td>tt0000004</td>\n",
              "      <td>721526</td>\n",
              "    </tr>\n",
              "    <tr>\n",
              "      <th>4</th>\n",
              "      <td>tt0000005</td>\n",
              "      <td>5690</td>\n",
              "    </tr>\n",
              "  </tbody>\n",
              "</table>\n",
              "</div>"
            ],
            "text/plain": [
              "      tconst  DirectorNum\n",
              "0  tt0000001         5690\n",
              "1  tt0000002       721526\n",
              "2  tt0000003       721526\n",
              "3  tt0000004       721526\n",
              "4  tt0000005         5690"
            ]
          },
          "metadata": {
            "tags": []
          },
          "execution_count": 22
        }
      ]
    },
    {
      "cell_type": "code",
      "metadata": {
        "colab": {
          "base_uri": "https://localhost:8080/"
        },
        "id": "PLG1KKjc3ome",
        "outputId": "78a6f2e5-cba7-4b0e-bd13-bae3dc51836b"
      },
      "source": [
        "dfCastWriter.shape"
      ],
      "execution_count": null,
      "outputs": [
        {
          "output_type": "execute_result",
          "data": {
            "text/plain": [
              "(2748903, 2)"
            ]
          },
          "metadata": {
            "tags": []
          },
          "execution_count": 23
        }
      ]
    },
    {
      "cell_type": "code",
      "metadata": {
        "colab": {
          "base_uri": "https://localhost:8080/",
          "height": 204
        },
        "id": "Dbo2T8PS9de-",
        "outputId": "28e7525b-40dd-41e9-9c73-9e6532d3431b"
      },
      "source": [
        "dfCast = pd.merge(pd.merge(dfCastDirector, dfCastActor, on=['tconst'], how='outer'), dfCastWriter, on=['tconst'], how='outer')\n",
        "dfCast.head()"
      ],
      "execution_count": null,
      "outputs": [
        {
          "output_type": "execute_result",
          "data": {
            "text/html": [
              "<div>\n",
              "<style scoped>\n",
              "    .dataframe tbody tr th:only-of-type {\n",
              "        vertical-align: middle;\n",
              "    }\n",
              "\n",
              "    .dataframe tbody tr th {\n",
              "        vertical-align: top;\n",
              "    }\n",
              "\n",
              "    .dataframe thead th {\n",
              "        text-align: right;\n",
              "    }\n",
              "</style>\n",
              "<table border=\"1\" class=\"dataframe\">\n",
              "  <thead>\n",
              "    <tr style=\"text-align: right;\">\n",
              "      <th></th>\n",
              "      <th>tconst</th>\n",
              "      <th>DirectorNum</th>\n",
              "      <th>ActorNum</th>\n",
              "      <th>WriterNum</th>\n",
              "    </tr>\n",
              "  </thead>\n",
              "  <tbody>\n",
              "    <tr>\n",
              "      <th>0</th>\n",
              "      <td>tt0000001</td>\n",
              "      <td>5690.0</td>\n",
              "      <td>NaN</td>\n",
              "      <td>NaN</td>\n",
              "    </tr>\n",
              "    <tr>\n",
              "      <th>1</th>\n",
              "      <td>tt0000002</td>\n",
              "      <td>721526.0</td>\n",
              "      <td>NaN</td>\n",
              "      <td>NaN</td>\n",
              "    </tr>\n",
              "    <tr>\n",
              "      <th>2</th>\n",
              "      <td>tt0000003</td>\n",
              "      <td>721526.0</td>\n",
              "      <td>NaN</td>\n",
              "      <td>NaN</td>\n",
              "    </tr>\n",
              "    <tr>\n",
              "      <th>3</th>\n",
              "      <td>tt0000004</td>\n",
              "      <td>721526.0</td>\n",
              "      <td>NaN</td>\n",
              "      <td>NaN</td>\n",
              "    </tr>\n",
              "    <tr>\n",
              "      <th>4</th>\n",
              "      <td>tt0000005</td>\n",
              "      <td>5690.0</td>\n",
              "      <td>1096524.0</td>\n",
              "      <td>NaN</td>\n",
              "    </tr>\n",
              "  </tbody>\n",
              "</table>\n",
              "</div>"
            ],
            "text/plain": [
              "      tconst  DirectorNum   ActorNum  WriterNum\n",
              "0  tt0000001       5690.0        NaN        NaN\n",
              "1  tt0000002     721526.0        NaN        NaN\n",
              "2  tt0000003     721526.0        NaN        NaN\n",
              "3  tt0000004     721526.0        NaN        NaN\n",
              "4  tt0000005       5690.0  1096524.0        NaN"
            ]
          },
          "metadata": {
            "tags": []
          },
          "execution_count": 24
        }
      ]
    },
    {
      "cell_type": "code",
      "metadata": {
        "colab": {
          "base_uri": "https://localhost:8080/"
        },
        "id": "t5izj5RT-cz2",
        "outputId": "9312fa9d-4a2b-479f-b1df-67b3c4d16cb5"
      },
      "source": [
        "dfCast.shape"
      ],
      "execution_count": null,
      "outputs": [
        {
          "output_type": "execute_result",
          "data": {
            "text/plain": [
              "(5454370, 4)"
            ]
          },
          "metadata": {
            "tags": []
          },
          "execution_count": 25
        }
      ]
    },
    {
      "cell_type": "code",
      "metadata": {
        "colab": {
          "base_uri": "https://localhost:8080/",
          "height": 224
        },
        "id": "EJ9pojjYAkAL",
        "outputId": "ad958d1f-8945-4423-edbd-20433e718daa"
      },
      "source": [
        "dfCast['crewNum']= dfCast.iloc[:,-3:].sum(axis=1).astype(int)\n",
        "dfCast.head()"
      ],
      "execution_count": null,
      "outputs": [
        {
          "output_type": "execute_result",
          "data": {
            "text/html": [
              "<div>\n",
              "<style scoped>\n",
              "    .dataframe tbody tr th:only-of-type {\n",
              "        vertical-align: middle;\n",
              "    }\n",
              "\n",
              "    .dataframe tbody tr th {\n",
              "        vertical-align: top;\n",
              "    }\n",
              "\n",
              "    .dataframe thead th {\n",
              "        text-align: right;\n",
              "    }\n",
              "</style>\n",
              "<table border=\"1\" class=\"dataframe\">\n",
              "  <thead>\n",
              "    <tr style=\"text-align: right;\">\n",
              "      <th></th>\n",
              "      <th>tconst</th>\n",
              "      <th>DirectorNum</th>\n",
              "      <th>ActorNum</th>\n",
              "      <th>WriterNum</th>\n",
              "      <th>crewNum</th>\n",
              "    </tr>\n",
              "  </thead>\n",
              "  <tbody>\n",
              "    <tr>\n",
              "      <th>0</th>\n",
              "      <td>tt0000001</td>\n",
              "      <td>5690.0</td>\n",
              "      <td>NaN</td>\n",
              "      <td>NaN</td>\n",
              "      <td>5690</td>\n",
              "    </tr>\n",
              "    <tr>\n",
              "      <th>1</th>\n",
              "      <td>tt0000002</td>\n",
              "      <td>721526.0</td>\n",
              "      <td>NaN</td>\n",
              "      <td>NaN</td>\n",
              "      <td>721526</td>\n",
              "    </tr>\n",
              "    <tr>\n",
              "      <th>2</th>\n",
              "      <td>tt0000003</td>\n",
              "      <td>721526.0</td>\n",
              "      <td>NaN</td>\n",
              "      <td>NaN</td>\n",
              "      <td>721526</td>\n",
              "    </tr>\n",
              "    <tr>\n",
              "      <th>3</th>\n",
              "      <td>tt0000004</td>\n",
              "      <td>721526.0</td>\n",
              "      <td>NaN</td>\n",
              "      <td>NaN</td>\n",
              "      <td>721526</td>\n",
              "    </tr>\n",
              "    <tr>\n",
              "      <th>4</th>\n",
              "      <td>tt0000005</td>\n",
              "      <td>5690.0</td>\n",
              "      <td>1096524.0</td>\n",
              "      <td>NaN</td>\n",
              "      <td>1102214</td>\n",
              "    </tr>\n",
              "  </tbody>\n",
              "</table>\n",
              "</div>"
            ],
            "text/plain": [
              "      tconst  DirectorNum   ActorNum  WriterNum  crewNum\n",
              "0  tt0000001       5690.0        NaN        NaN     5690\n",
              "1  tt0000002     721526.0        NaN        NaN   721526\n",
              "2  tt0000003     721526.0        NaN        NaN   721526\n",
              "3  tt0000004     721526.0        NaN        NaN   721526\n",
              "4  tt0000005       5690.0  1096524.0        NaN  1102214"
            ]
          },
          "metadata": {
            "tags": []
          },
          "execution_count": 26
        }
      ]
    },
    {
      "cell_type": "code",
      "metadata": {
        "colab": {
          "base_uri": "https://localhost:8080/",
          "height": 221
        },
        "id": "pV3Daa9bN29m",
        "outputId": "5451ff72-0c14-4b8e-d3e2-8fc626af6ca5"
      },
      "source": [
        "dfMovies = pd.merge(dfMovieTitles, dfMovies2[['tconst', 'averageRating',\t'numVotes']], on=['tconst'], how='left')\n",
        "dfMovies = pd.merge(dfMovies, dfCast[['tconst', 'crewNum']], on=['tconst'], how='inner')\n",
        "dfMovies.head()"
      ],
      "execution_count": null,
      "outputs": [
        {
          "output_type": "execute_result",
          "data": {
            "text/html": [
              "<div>\n",
              "<style scoped>\n",
              "    .dataframe tbody tr th:only-of-type {\n",
              "        vertical-align: middle;\n",
              "    }\n",
              "\n",
              "    .dataframe tbody tr th {\n",
              "        vertical-align: top;\n",
              "    }\n",
              "\n",
              "    .dataframe thead th {\n",
              "        text-align: right;\n",
              "    }\n",
              "</style>\n",
              "<table border=\"1\" class=\"dataframe\">\n",
              "  <thead>\n",
              "    <tr style=\"text-align: right;\">\n",
              "      <th></th>\n",
              "      <th>tconst</th>\n",
              "      <th>titleType</th>\n",
              "      <th>primaryTitle</th>\n",
              "      <th>originalTitle</th>\n",
              "      <th>isAdult</th>\n",
              "      <th>startYear</th>\n",
              "      <th>endYear</th>\n",
              "      <th>runtimeMinutes</th>\n",
              "      <th>genres</th>\n",
              "      <th>title</th>\n",
              "      <th>averageRating</th>\n",
              "      <th>numVotes</th>\n",
              "      <th>crewNum</th>\n",
              "    </tr>\n",
              "  </thead>\n",
              "  <tbody>\n",
              "    <tr>\n",
              "      <th>0</th>\n",
              "      <td>tt0000001</td>\n",
              "      <td>short</td>\n",
              "      <td>Carmencita</td>\n",
              "      <td>Carmencita</td>\n",
              "      <td>0</td>\n",
              "      <td>1894</td>\n",
              "      <td>\\N</td>\n",
              "      <td>1</td>\n",
              "      <td>Documentary,Short</td>\n",
              "      <td>Carmencita</td>\n",
              "      <td>5.7</td>\n",
              "      <td>1688.0</td>\n",
              "      <td>5690</td>\n",
              "    </tr>\n",
              "    <tr>\n",
              "      <th>1</th>\n",
              "      <td>tt0000002</td>\n",
              "      <td>short</td>\n",
              "      <td>Le clown et ses chiens</td>\n",
              "      <td>Le clown et ses chiens</td>\n",
              "      <td>0</td>\n",
              "      <td>1892</td>\n",
              "      <td>\\N</td>\n",
              "      <td>5</td>\n",
              "      <td>Animation,Short</td>\n",
              "      <td>The Clown and His Dogs</td>\n",
              "      <td>6.0</td>\n",
              "      <td>209.0</td>\n",
              "      <td>721526</td>\n",
              "    </tr>\n",
              "    <tr>\n",
              "      <th>2</th>\n",
              "      <td>tt0000005</td>\n",
              "      <td>short</td>\n",
              "      <td>Blacksmith Scene</td>\n",
              "      <td>Blacksmith Scene</td>\n",
              "      <td>0</td>\n",
              "      <td>1893</td>\n",
              "      <td>\\N</td>\n",
              "      <td>1</td>\n",
              "      <td>Comedy,Short</td>\n",
              "      <td>Blacksmithing Scene</td>\n",
              "      <td>6.1</td>\n",
              "      <td>2229.0</td>\n",
              "      <td>1102214</td>\n",
              "    </tr>\n",
              "    <tr>\n",
              "      <th>3</th>\n",
              "      <td>tt0000006</td>\n",
              "      <td>short</td>\n",
              "      <td>Chinese Opium Den</td>\n",
              "      <td>Chinese Opium Den</td>\n",
              "      <td>0</td>\n",
              "      <td>1894</td>\n",
              "      <td>\\N</td>\n",
              "      <td>1</td>\n",
              "      <td>Short</td>\n",
              "      <td>Chinese Opium Den</td>\n",
              "      <td>5.3</td>\n",
              "      <td>123.0</td>\n",
              "      <td>5690</td>\n",
              "    </tr>\n",
              "    <tr>\n",
              "      <th>4</th>\n",
              "      <td>tt0000007</td>\n",
              "      <td>short</td>\n",
              "      <td>Corbett and Courtney Before the Kinetograph</td>\n",
              "      <td>Corbett and Courtney Before the Kinetograph</td>\n",
              "      <td>0</td>\n",
              "      <td>1894</td>\n",
              "      <td>\\N</td>\n",
              "      <td>1</td>\n",
              "      <td>Short,Sport</td>\n",
              "      <td>Corbett and Courtney Before the Kinetograph</td>\n",
              "      <td>5.4</td>\n",
              "      <td>684.0</td>\n",
              "      <td>743458</td>\n",
              "    </tr>\n",
              "  </tbody>\n",
              "</table>\n",
              "</div>"
            ],
            "text/plain": [
              "      tconst titleType  ... numVotes  crewNum\n",
              "0  tt0000001     short  ...   1688.0     5690\n",
              "1  tt0000002     short  ...    209.0   721526\n",
              "2  tt0000005     short  ...   2229.0  1102214\n",
              "3  tt0000006     short  ...    123.0     5690\n",
              "4  tt0000007     short  ...    684.0   743458\n",
              "\n",
              "[5 rows x 13 columns]"
            ]
          },
          "metadata": {
            "tags": []
          },
          "execution_count": 27
        }
      ]
    },
    {
      "cell_type": "code",
      "metadata": {
        "id": "KyedsOjFH2KX"
      },
      "source": [
        "del dfMovies['primaryTitle']\n",
        "del dfMovies['originalTitle']\n",
        "dfMovies = dfMovies.rename(columns={\"title\": \"originalTitle\"})"
      ],
      "execution_count": null,
      "outputs": []
    },
    {
      "cell_type": "code",
      "metadata": {
        "colab": {
          "base_uri": "https://localhost:8080/"
        },
        "id": "wjXDA6hbQt8q",
        "outputId": "5a8ea5b1-79f3-4e41-8993-6b5a17f94957"
      },
      "source": [
        "dfMovies.shape"
      ],
      "execution_count": null,
      "outputs": [
        {
          "output_type": "execute_result",
          "data": {
            "text/plain": [
              "(973371, 11)"
            ]
          },
          "metadata": {
            "tags": []
          },
          "execution_count": 29
        }
      ]
    },
    {
      "cell_type": "code",
      "metadata": {
        "colab": {
          "base_uri": "https://localhost:8080/"
        },
        "id": "oty9qD7ALMMv",
        "outputId": "97501ec6-129a-4c59-ad1d-9079923960c7"
      },
      "source": [
        "dfMovies['titleType'].unique()"
      ],
      "execution_count": null,
      "outputs": [
        {
          "output_type": "execute_result",
          "data": {
            "text/plain": [
              "array(['short', 'movie', 'tvSeries', 'tvMovie', 'tvEpisode', 'tvShort',\n",
              "       'tvMiniSeries', 'video', 'tvSpecial', 'videoGame'], dtype=object)"
            ]
          },
          "metadata": {
            "tags": []
          },
          "execution_count": 30
        }
      ]
    },
    {
      "cell_type": "code",
      "metadata": {
        "id": "Jp7R2SDH6HH8"
      },
      "source": [
        "dfMovies = dfMovies[dfMovies['titleType'].str.contains('movie|tvMovie', na=False)]"
      ],
      "execution_count": null,
      "outputs": []
    },
    {
      "cell_type": "code",
      "metadata": {
        "colab": {
          "base_uri": "https://localhost:8080/"
        },
        "id": "eZbS9-216LLT",
        "outputId": "38b97459-d1a1-411f-b380-c4a4ffdad71a"
      },
      "source": [
        "dfMovies.shape"
      ],
      "execution_count": null,
      "outputs": [
        {
          "output_type": "execute_result",
          "data": {
            "text/plain": [
              "(240181, 11)"
            ]
          },
          "metadata": {
            "tags": []
          },
          "execution_count": 32
        }
      ]
    },
    {
      "cell_type": "code",
      "metadata": {
        "colab": {
          "base_uri": "https://localhost:8080/"
        },
        "id": "41CyrbmMCR_D",
        "outputId": "8d01742f-1648-4698-84ea-d826bd424212"
      },
      "source": [
        "dfMovies[dfMovies['endYear'].str.contains(r\"\\\\N\", na=False)][['tconst','endYear']].shape"
      ],
      "execution_count": null,
      "outputs": [
        {
          "output_type": "execute_result",
          "data": {
            "text/plain": [
              "(240181, 2)"
            ]
          },
          "metadata": {
            "tags": []
          },
          "execution_count": 33
        }
      ]
    },
    {
      "cell_type": "code",
      "metadata": {
        "colab": {
          "base_uri": "https://localhost:8080/"
        },
        "id": "VSS7C3jmD_P0",
        "outputId": "bd30b0b9-06ac-49d9-81d4-9a934cd0256f"
      },
      "source": [
        "dfMovies[dfMovies['runtimeMinutes'].str.contains(r\"\\\\N\", na=False)][['tconst','runtimeMinutes']].shape"
      ],
      "execution_count": null,
      "outputs": [
        {
          "output_type": "execute_result",
          "data": {
            "text/plain": [
              "(78535, 2)"
            ]
          },
          "metadata": {
            "tags": []
          },
          "execution_count": 34
        }
      ]
    },
    {
      "cell_type": "code",
      "metadata": {
        "colab": {
          "base_uri": "https://localhost:8080/"
        },
        "id": "W-kGnI2zy6AC",
        "outputId": "a0107090-ad48-4db7-f976-8a2875189148"
      },
      "source": [
        "dfMovies[dfMovies['genres'].str.contains(r'\\\\N', na=False)][['tconst','genres']].shape"
      ],
      "execution_count": null,
      "outputs": [
        {
          "output_type": "execute_result",
          "data": {
            "text/plain": [
              "(8097, 2)"
            ]
          },
          "metadata": {
            "tags": []
          },
          "execution_count": 35
        }
      ]
    },
    {
      "cell_type": "code",
      "metadata": {
        "colab": {
          "base_uri": "https://localhost:8080/"
        },
        "id": "blqdlvEU1xAs",
        "outputId": "5ad93e21-920d-4a8e-b7b1-3af38a470300"
      },
      "source": [
        "dfMovies[dfMovies['titleType'].str.contains(r\"\\\\N\", na=False)][['tconst','titleType']].shape"
      ],
      "execution_count": null,
      "outputs": [
        {
          "output_type": "execute_result",
          "data": {
            "text/plain": [
              "(0, 2)"
            ]
          },
          "metadata": {
            "tags": []
          },
          "execution_count": 36
        }
      ]
    },
    {
      "cell_type": "code",
      "metadata": {
        "colab": {
          "base_uri": "https://localhost:8080/"
        },
        "id": "CQXLKMtl6d7i",
        "outputId": "a214cf1a-016b-43e6-d3d6-bfc42f4e3bfb"
      },
      "source": [
        "dfMovies[dfMovies['isAdult'].str.contains(r\"\\\\N\", na=False)][['tconst','isAdult']].shape"
      ],
      "execution_count": null,
      "outputs": [
        {
          "output_type": "execute_result",
          "data": {
            "text/plain": [
              "(0, 2)"
            ]
          },
          "metadata": {
            "tags": []
          },
          "execution_count": 37
        }
      ]
    },
    {
      "cell_type": "code",
      "metadata": {
        "colab": {
          "base_uri": "https://localhost:8080/"
        },
        "id": "2hQcSOee1yKP",
        "outputId": "4e4712ad-715f-489e-b04e-09f7509fb8ba"
      },
      "source": [
        "dfMovies[dfMovies['originalTitle'].str.contains(r\"\\\\N\", na=False)][['tconst','originalTitle']].shape"
      ],
      "execution_count": null,
      "outputs": [
        {
          "output_type": "execute_result",
          "data": {
            "text/plain": [
              "(0, 2)"
            ]
          },
          "metadata": {
            "tags": []
          },
          "execution_count": 38
        }
      ]
    },
    {
      "cell_type": "code",
      "metadata": {
        "colab": {
          "base_uri": "https://localhost:8080/"
        },
        "id": "LSBfLs4jMw3c",
        "outputId": "1d5eb5d7-05dc-4b2d-d55b-875e21de0503"
      },
      "source": [
        "dfMovies[dfMovies['startYear'].str.contains(r\"\\\\N\", na=False)][['tconst','startYear']].shape"
      ],
      "execution_count": null,
      "outputs": [
        {
          "output_type": "execute_result",
          "data": {
            "text/plain": [
              "(43787, 2)"
            ]
          },
          "metadata": {
            "tags": []
          },
          "execution_count": 39
        }
      ]
    },
    {
      "cell_type": "code",
      "metadata": {
        "colab": {
          "base_uri": "https://localhost:8080/"
        },
        "id": "bTsfIA_-2Cta",
        "outputId": "9a109e5f-4e85-46fb-e5fd-4906b294e96d"
      },
      "source": [
        "dfMovies[dfMovies['genres'].str.contains(r\"\\\\N\", na=False)][['tconst','genres']].shape"
      ],
      "execution_count": null,
      "outputs": [
        {
          "output_type": "execute_result",
          "data": {
            "text/plain": [
              "(8097, 2)"
            ]
          },
          "metadata": {
            "tags": []
          },
          "execution_count": 40
        }
      ]
    },
    {
      "cell_type": "code",
      "metadata": {
        "id": "a4DxP7BC1sE9"
      },
      "source": [
        "dfMovies = dfMovies[dfMovies['genres'] != r\"\\N\"]"
      ],
      "execution_count": null,
      "outputs": []
    },
    {
      "cell_type": "code",
      "metadata": {
        "colab": {
          "base_uri": "https://localhost:8080/"
        },
        "id": "4vz0CHqE90iS",
        "outputId": "45a64535-09b1-47aa-f3bd-da6ed394e2bb"
      },
      "source": [
        "dfMovies.shape"
      ],
      "execution_count": null,
      "outputs": [
        {
          "output_type": "execute_result",
          "data": {
            "text/plain": [
              "(232084, 11)"
            ]
          },
          "metadata": {
            "tags": []
          },
          "execution_count": 42
        }
      ]
    },
    {
      "cell_type": "code",
      "metadata": {
        "colab": {
          "base_uri": "https://localhost:8080/"
        },
        "id": "12eMsIJqJ0dp",
        "outputId": "0cdb9fd9-5e8e-43d9-b1bb-71e966069462"
      },
      "source": [
        "dfMovies = dfMovies[dfMovies['startYear'] != r\"\\N\"]\n",
        "dfMovies.shape"
      ],
      "execution_count": null,
      "outputs": [
        {
          "output_type": "execute_result",
          "data": {
            "text/plain": [
              "(189219, 11)"
            ]
          },
          "metadata": {
            "tags": []
          },
          "execution_count": 43
        }
      ]
    },
    {
      "cell_type": "code",
      "metadata": {
        "id": "RRJHlzTRDcpx"
      },
      "source": [
        "dfMovies = dfMovies[dfMovies['isAdult'] != 1] #No Adult content in recommender\n",
        "del dfMovies['isAdult']\n",
        "del dfMovies['endYear']\n",
        "del dfMovies['runtimeMinutes']"
      ],
      "execution_count": null,
      "outputs": []
    },
    {
      "cell_type": "code",
      "metadata": {
        "colab": {
          "base_uri": "https://localhost:8080/"
        },
        "id": "4TnhjUREBytv",
        "outputId": "e8c89f10-c751-42c7-d727-9e4dc73145db"
      },
      "source": [
        "dfMovies.shape"
      ],
      "execution_count": null,
      "outputs": [
        {
          "output_type": "execute_result",
          "data": {
            "text/plain": [
              "(183578, 8)"
            ]
          },
          "metadata": {
            "tags": []
          },
          "execution_count": 45
        }
      ]
    },
    {
      "cell_type": "code",
      "metadata": {
        "colab": {
          "base_uri": "https://localhost:8080/"
        },
        "id": "3ncRjyNbhX-V",
        "outputId": "9a9d2f3c-4dc4-496c-94c9-5afe6cf8f2f2"
      },
      "source": [
        "dfMovies.isna().sum()"
      ],
      "execution_count": null,
      "outputs": [
        {
          "output_type": "execute_result",
          "data": {
            "text/plain": [
              "tconst               0\n",
              "titleType            0\n",
              "startYear            0\n",
              "genres               0\n",
              "originalTitle        0\n",
              "averageRating    58309\n",
              "numVotes         58309\n",
              "crewNum              0\n",
              "dtype: int64"
            ]
          },
          "metadata": {
            "tags": []
          },
          "execution_count": 46
        }
      ]
    },
    {
      "cell_type": "code",
      "metadata": {
        "id": "CMFOrsZri54I"
      },
      "source": [
        "dfMovies['averageRating'] = dfMovies['averageRating'].fillna(0)\n",
        "dfMovies['numVotes'] = dfMovies['numVotes'].fillna(0)"
      ],
      "execution_count": null,
      "outputs": []
    },
    {
      "cell_type": "code",
      "metadata": {
        "colab": {
          "base_uri": "https://localhost:8080/"
        },
        "id": "_TF0AFNRCwVh",
        "outputId": "05939c3b-3ef1-4615-cd3e-b0624e4b6ab4"
      },
      "source": [
        "dfMovies.info()"
      ],
      "execution_count": null,
      "outputs": [
        {
          "output_type": "stream",
          "text": [
            "<class 'pandas.core.frame.DataFrame'>\n",
            "Int64Index: 183578 entries, 211 to 973364\n",
            "Data columns (total 8 columns):\n",
            " #   Column         Non-Null Count   Dtype  \n",
            "---  ------         --------------   -----  \n",
            " 0   tconst         183578 non-null  object \n",
            " 1   titleType      183578 non-null  object \n",
            " 2   startYear      183578 non-null  object \n",
            " 3   genres         183578 non-null  object \n",
            " 4   originalTitle  183578 non-null  object \n",
            " 5   averageRating  183578 non-null  float64\n",
            " 6   numVotes       183578 non-null  float64\n",
            " 7   crewNum        183578 non-null  int64  \n",
            "dtypes: float64(2), int64(1), object(5)\n",
            "memory usage: 12.6+ MB\n"
          ],
          "name": "stdout"
        }
      ]
    },
    {
      "cell_type": "code",
      "metadata": {
        "id": "D8YO4vB2Bvnn"
      },
      "source": [
        "dfMovies = dfMovies.dropna()"
      ],
      "execution_count": null,
      "outputs": []
    },
    {
      "cell_type": "code",
      "metadata": {
        "colab": {
          "base_uri": "https://localhost:8080/"
        },
        "id": "PHYo1hvcjk5a",
        "outputId": "c48358fd-171b-4a66-eca4-30075323af82"
      },
      "source": [
        "dfMovies.shape"
      ],
      "execution_count": null,
      "outputs": [
        {
          "output_type": "execute_result",
          "data": {
            "text/plain": [
              "(183578, 8)"
            ]
          },
          "metadata": {
            "tags": []
          },
          "execution_count": 50
        }
      ]
    },
    {
      "cell_type": "code",
      "metadata": {
        "colab": {
          "base_uri": "https://localhost:8080/"
        },
        "id": "QgUHpD0zLZhF",
        "outputId": "cd4c4fd0-74e0-4da7-94e9-8aade29bd0c0"
      },
      "source": [
        "dfMovies.reset_index(drop=True)"
      ],
      "execution_count": null,
      "outputs": [
        {
          "output_type": "execute_result",
          "data": {
            "text/html": [
              "<div>\n",
              "<style scoped>\n",
              "    .dataframe tbody tr th:only-of-type {\n",
              "        vertical-align: middle;\n",
              "    }\n",
              "\n",
              "    .dataframe tbody tr th {\n",
              "        vertical-align: top;\n",
              "    }\n",
              "\n",
              "    .dataframe thead th {\n",
              "        text-align: right;\n",
              "    }\n",
              "</style>\n",
              "<table border=\"1\" class=\"dataframe\">\n",
              "  <thead>\n",
              "    <tr style=\"text-align: right;\">\n",
              "      <th></th>\n",
              "      <th>tconst</th>\n",
              "      <th>titleType</th>\n",
              "      <th>startYear</th>\n",
              "      <th>genres</th>\n",
              "      <th>originalTitle</th>\n",
              "      <th>averageRating</th>\n",
              "      <th>numVotes</th>\n",
              "      <th>crewNum</th>\n",
              "    </tr>\n",
              "  </thead>\n",
              "  <tbody>\n",
              "    <tr>\n",
              "      <th>0</th>\n",
              "      <td>tt0000630</td>\n",
              "      <td>movie</td>\n",
              "      <td>1908</td>\n",
              "      <td>Drama</td>\n",
              "      <td>Hamlet</td>\n",
              "      <td>3.2</td>\n",
              "      <td>11.0</td>\n",
              "      <td>768415</td>\n",
              "    </tr>\n",
              "    <tr>\n",
              "      <th>1</th>\n",
              "      <td>tt0000679</td>\n",
              "      <td>movie</td>\n",
              "      <td>1908</td>\n",
              "      <td>Adventure,Fantasy</td>\n",
              "      <td>The Fairylogue and Radio-Plays</td>\n",
              "      <td>5.2</td>\n",
              "      <td>34.0</td>\n",
              "      <td>4951455</td>\n",
              "    </tr>\n",
              "    <tr>\n",
              "      <th>2</th>\n",
              "      <td>tt0000886</td>\n",
              "      <td>movie</td>\n",
              "      <td>1910</td>\n",
              "      <td>Drama</td>\n",
              "      <td>Hamlet, Prince of Denmark</td>\n",
              "      <td>5.0</td>\n",
              "      <td>23.0</td>\n",
              "      <td>710351</td>\n",
              "    </tr>\n",
              "    <tr>\n",
              "      <th>3</th>\n",
              "      <td>tt0001285</td>\n",
              "      <td>movie</td>\n",
              "      <td>1909</td>\n",
              "      <td>Biography,Drama,Family</td>\n",
              "      <td>Forty Years in the Land of the Midian</td>\n",
              "      <td>5.3</td>\n",
              "      <td>28.0</td>\n",
              "      <td>3686464</td>\n",
              "    </tr>\n",
              "    <tr>\n",
              "      <th>4</th>\n",
              "      <td>tt0001498</td>\n",
              "      <td>movie</td>\n",
              "      <td>1911</td>\n",
              "      <td>War</td>\n",
              "      <td>The Battle of Trafalgar</td>\n",
              "      <td>7.7</td>\n",
              "      <td>6.0</td>\n",
              "      <td>4114934</td>\n",
              "    </tr>\n",
              "    <tr>\n",
              "      <th>...</th>\n",
              "      <td>...</td>\n",
              "      <td>...</td>\n",
              "      <td>...</td>\n",
              "      <td>...</td>\n",
              "      <td>...</td>\n",
              "      <td>...</td>\n",
              "      <td>...</td>\n",
              "      <td>...</td>\n",
              "    </tr>\n",
              "    <tr>\n",
              "      <th>183573</th>\n",
              "      <td>tt9915546</td>\n",
              "      <td>tvMovie</td>\n",
              "      <td>2017</td>\n",
              "      <td>Comedy</td>\n",
              "      <td>Hot Explicit Ladies</td>\n",
              "      <td>0.0</td>\n",
              "      <td>0.0</td>\n",
              "      <td>10187868</td>\n",
              "    </tr>\n",
              "    <tr>\n",
              "      <th>183574</th>\n",
              "      <td>tt9915998</td>\n",
              "      <td>tvMovie</td>\n",
              "      <td>2016</td>\n",
              "      <td>Music</td>\n",
              "      <td>Adidas x Pusha T at Art Basel, Miami</td>\n",
              "      <td>0.0</td>\n",
              "      <td>0.0</td>\n",
              "      <td>2334213</td>\n",
              "    </tr>\n",
              "    <tr>\n",
              "      <th>183575</th>\n",
              "      <td>tt9916190</td>\n",
              "      <td>movie</td>\n",
              "      <td>2020</td>\n",
              "      <td>Action,Adventure,Thriller</td>\n",
              "      <td>Safeguard</td>\n",
              "      <td>3.4</td>\n",
              "      <td>139.0</td>\n",
              "      <td>18735420</td>\n",
              "    </tr>\n",
              "    <tr>\n",
              "      <th>183576</th>\n",
              "      <td>tt9916362</td>\n",
              "      <td>movie</td>\n",
              "      <td>2020</td>\n",
              "      <td>Adventure,Drama,History</td>\n",
              "      <td>Coven</td>\n",
              "      <td>6.2</td>\n",
              "      <td>388.0</td>\n",
              "      <td>20183766</td>\n",
              "    </tr>\n",
              "    <tr>\n",
              "      <th>183577</th>\n",
              "      <td>tt9916560</td>\n",
              "      <td>tvMovie</td>\n",
              "      <td>1963</td>\n",
              "      <td>Family</td>\n",
              "      <td>March of Dimes Presents: Once Upon a Dime</td>\n",
              "      <td>0.0</td>\n",
              "      <td>0.0</td>\n",
              "      <td>335945</td>\n",
              "    </tr>\n",
              "  </tbody>\n",
              "</table>\n",
              "<p>183578 rows × 8 columns</p>\n",
              "</div>"
            ],
            "text/plain": [
              "           tconst titleType startYear  ... averageRating numVotes   crewNum\n",
              "0       tt0000630     movie      1908  ...           3.2     11.0    768415\n",
              "1       tt0000679     movie      1908  ...           5.2     34.0   4951455\n",
              "2       tt0000886     movie      1910  ...           5.0     23.0    710351\n",
              "3       tt0001285     movie      1909  ...           5.3     28.0   3686464\n",
              "4       tt0001498     movie      1911  ...           7.7      6.0   4114934\n",
              "...           ...       ...       ...  ...           ...      ...       ...\n",
              "183573  tt9915546   tvMovie      2017  ...           0.0      0.0  10187868\n",
              "183574  tt9915998   tvMovie      2016  ...           0.0      0.0   2334213\n",
              "183575  tt9916190     movie      2020  ...           3.4    139.0  18735420\n",
              "183576  tt9916362     movie      2020  ...           6.2    388.0  20183766\n",
              "183577  tt9916560   tvMovie      1963  ...           0.0      0.0    335945\n",
              "\n",
              "[183578 rows x 8 columns]"
            ]
          },
          "metadata": {
            "tags": []
          },
          "execution_count": 51
        }
      ]
    },
    {
      "cell_type": "code",
      "metadata": {
        "id": "Ofs4a9TfTNMx"
      },
      "source": [
        "dfMovies['title'] = dfMovies['originalTitle'].str.lower()\n",
        "dfMovies['titleID'] = dfMovies['tconst']"
      ],
      "execution_count": null,
      "outputs": []
    },
    {
      "cell_type": "code",
      "metadata": {
        "id": "u5zEo8Erj7n5"
      },
      "source": [
        "dfMovies['tconst'] = dfMovies['tconst'].str.replace(r'\\D', '').astype(int)\n",
        "dfMovies['startYear'] = dfMovies['startYear'].astype(int)\n",
        "dfMovies['numVotes'] = dfMovies['numVotes'].astype(int)"
      ],
      "execution_count": null,
      "outputs": []
    },
    {
      "cell_type": "code",
      "metadata": {
        "id": "vOWKK0PrPQZ7"
      },
      "source": [
        "def convertToInt(row):\n",
        "  sum = 0\n",
        "  for i in row:\n",
        "      sum+=ord(i)\n",
        "  return sum"
      ],
      "execution_count": null,
      "outputs": []
    },
    {
      "cell_type": "code",
      "metadata": {
        "id": "e2UpoXNUj7tO",
        "colab": {
          "base_uri": "https://localhost:8080/",
          "height": 419
        },
        "outputId": "52c65e96-2b58-49b8-c6c5-feb76b5e967b"
      },
      "source": [
        "#Converting titleType, originalTitle and genres to int\n",
        "dfMovies['genres'] = dfMovies['genres'].apply(lambda x: convertToInt(x))\n",
        "dfMovies['titleType'] = dfMovies['titleType'].apply(lambda x: convertToInt(x))\n",
        "dfMovies['originalTitle'] = dfMovies['originalTitle'].apply(lambda x: convertToInt(x))\n",
        "dfMovies.rename(columns={\"genres\":\"genreNum\", \"originalTitle\":\"titleNum\"})"
      ],
      "execution_count": null,
      "outputs": [
        {
          "output_type": "execute_result",
          "data": {
            "text/html": [
              "<div>\n",
              "<style scoped>\n",
              "    .dataframe tbody tr th:only-of-type {\n",
              "        vertical-align: middle;\n",
              "    }\n",
              "\n",
              "    .dataframe tbody tr th {\n",
              "        vertical-align: top;\n",
              "    }\n",
              "\n",
              "    .dataframe thead th {\n",
              "        text-align: right;\n",
              "    }\n",
              "</style>\n",
              "<table border=\"1\" class=\"dataframe\">\n",
              "  <thead>\n",
              "    <tr style=\"text-align: right;\">\n",
              "      <th></th>\n",
              "      <th>tconst</th>\n",
              "      <th>titleType</th>\n",
              "      <th>startYear</th>\n",
              "      <th>genreNum</th>\n",
              "      <th>titleNum</th>\n",
              "      <th>averageRating</th>\n",
              "      <th>numVotes</th>\n",
              "      <th>crewNum</th>\n",
              "      <th>title</th>\n",
              "      <th>titleID</th>\n",
              "    </tr>\n",
              "  </thead>\n",
              "  <tbody>\n",
              "    <tr>\n",
              "      <th>211</th>\n",
              "      <td>630</td>\n",
              "      <td>544</td>\n",
              "      <td>1908</td>\n",
              "      <td>485</td>\n",
              "      <td>603</td>\n",
              "      <td>3.2</td>\n",
              "      <td>11</td>\n",
              "      <td>768415</td>\n",
              "      <td>hamlet</td>\n",
              "      <td>tt0000630</td>\n",
              "    </tr>\n",
              "    <tr>\n",
              "      <th>240</th>\n",
              "      <td>679</td>\n",
              "      <td>544</td>\n",
              "      <td>1908</td>\n",
              "      <td>1712</td>\n",
              "      <td>2800</td>\n",
              "      <td>5.2</td>\n",
              "      <td>34</td>\n",
              "      <td>4951455</td>\n",
              "      <td>the fairylogue and radio-plays</td>\n",
              "      <td>tt0000679</td>\n",
              "    </tr>\n",
              "    <tr>\n",
              "      <th>390</th>\n",
              "      <td>886</td>\n",
              "      <td>544</td>\n",
              "      <td>1910</td>\n",
              "      <td>485</td>\n",
              "      <td>2271</td>\n",
              "      <td>5.0</td>\n",
              "      <td>23</td>\n",
              "      <td>710351</td>\n",
              "      <td>hamlet, prince of denmark</td>\n",
              "      <td>tt0000886</td>\n",
              "    </tr>\n",
              "    <tr>\n",
              "      <th>657</th>\n",
              "      <td>1285</td>\n",
              "      <td>544</td>\n",
              "      <td>1909</td>\n",
              "      <td>2116</td>\n",
              "      <td>3319</td>\n",
              "      <td>5.3</td>\n",
              "      <td>28</td>\n",
              "      <td>3686464</td>\n",
              "      <td>forty years in the land of the midian</td>\n",
              "      <td>tt0001285</td>\n",
              "    </tr>\n",
              "    <tr>\n",
              "      <th>804</th>\n",
              "      <td>1498</td>\n",
              "      <td>544</td>\n",
              "      <td>1911</td>\n",
              "      <td>298</td>\n",
              "      <td>2118</td>\n",
              "      <td>7.7</td>\n",
              "      <td>6</td>\n",
              "      <td>4114934</td>\n",
              "      <td>the battle of trafalgar</td>\n",
              "      <td>tt0001498</td>\n",
              "    </tr>\n",
              "    <tr>\n",
              "      <th>...</th>\n",
              "      <td>...</td>\n",
              "      <td>...</td>\n",
              "      <td>...</td>\n",
              "      <td>...</td>\n",
              "      <td>...</td>\n",
              "      <td>...</td>\n",
              "      <td>...</td>\n",
              "      <td>...</td>\n",
              "      <td>...</td>\n",
              "      <td>...</td>\n",
              "    </tr>\n",
              "    <tr>\n",
              "      <th>973339</th>\n",
              "      <td>9915546</td>\n",
              "      <td>746</td>\n",
              "      <td>2017</td>\n",
              "      <td>609</td>\n",
              "      <td>1791</td>\n",
              "      <td>0.0</td>\n",
              "      <td>0</td>\n",
              "      <td>10187868</td>\n",
              "      <td>hot explicit ladies</td>\n",
              "      <td>tt9915546</td>\n",
              "    </tr>\n",
              "    <tr>\n",
              "      <th>973353</th>\n",
              "      <td>9915998</td>\n",
              "      <td>746</td>\n",
              "      <td>2016</td>\n",
              "      <td>513</td>\n",
              "      <td>3055</td>\n",
              "      <td>0.0</td>\n",
              "      <td>0</td>\n",
              "      <td>2334213</td>\n",
              "      <td>adidas x pusha t at art basel, miami</td>\n",
              "      <td>tt9915998</td>\n",
              "    </tr>\n",
              "    <tr>\n",
              "      <th>973356</th>\n",
              "      <td>9916190</td>\n",
              "      <td>544</td>\n",
              "      <td>2020</td>\n",
              "      <td>2474</td>\n",
              "      <td>914</td>\n",
              "      <td>3.4</td>\n",
              "      <td>139</td>\n",
              "      <td>18735420</td>\n",
              "      <td>safeguard</td>\n",
              "      <td>tt9916190</td>\n",
              "    </tr>\n",
              "    <tr>\n",
              "      <th>973362</th>\n",
              "      <td>9916362</td>\n",
              "      <td>544</td>\n",
              "      <td>2020</td>\n",
              "      <td>2269</td>\n",
              "      <td>507</td>\n",
              "      <td>6.2</td>\n",
              "      <td>388</td>\n",
              "      <td>20183766</td>\n",
              "      <td>coven</td>\n",
              "      <td>tt9916362</td>\n",
              "    </tr>\n",
              "    <tr>\n",
              "      <th>973364</th>\n",
              "      <td>9916560</td>\n",
              "      <td>746</td>\n",
              "      <td>1963</td>\n",
              "      <td>610</td>\n",
              "      <td>3623</td>\n",
              "      <td>0.0</td>\n",
              "      <td>0</td>\n",
              "      <td>335945</td>\n",
              "      <td>march of dimes presents: once upon a dime</td>\n",
              "      <td>tt9916560</td>\n",
              "    </tr>\n",
              "  </tbody>\n",
              "</table>\n",
              "<p>183578 rows × 10 columns</p>\n",
              "</div>"
            ],
            "text/plain": [
              "         tconst  ...    titleID\n",
              "211         630  ...  tt0000630\n",
              "240         679  ...  tt0000679\n",
              "390         886  ...  tt0000886\n",
              "657        1285  ...  tt0001285\n",
              "804        1498  ...  tt0001498\n",
              "...         ...  ...        ...\n",
              "973339  9915546  ...  tt9915546\n",
              "973353  9915998  ...  tt9915998\n",
              "973356  9916190  ...  tt9916190\n",
              "973362  9916362  ...  tt9916362\n",
              "973364  9916560  ...  tt9916560\n",
              "\n",
              "[183578 rows x 10 columns]"
            ]
          },
          "metadata": {
            "tags": []
          },
          "execution_count": 55
        }
      ]
    },
    {
      "cell_type": "code",
      "metadata": {
        "colab": {
          "base_uri": "https://localhost:8080/",
          "height": 204
        },
        "id": "qMzpKjAjQ3UY",
        "outputId": "ac23f024-89d8-45e2-b63e-69103a0083ea"
      },
      "source": [
        "dfMovies.head()"
      ],
      "execution_count": null,
      "outputs": [
        {
          "output_type": "execute_result",
          "data": {
            "text/html": [
              "<div>\n",
              "<style scoped>\n",
              "    .dataframe tbody tr th:only-of-type {\n",
              "        vertical-align: middle;\n",
              "    }\n",
              "\n",
              "    .dataframe tbody tr th {\n",
              "        vertical-align: top;\n",
              "    }\n",
              "\n",
              "    .dataframe thead th {\n",
              "        text-align: right;\n",
              "    }\n",
              "</style>\n",
              "<table border=\"1\" class=\"dataframe\">\n",
              "  <thead>\n",
              "    <tr style=\"text-align: right;\">\n",
              "      <th></th>\n",
              "      <th>tconst</th>\n",
              "      <th>titleType</th>\n",
              "      <th>startYear</th>\n",
              "      <th>genres</th>\n",
              "      <th>originalTitle</th>\n",
              "      <th>averageRating</th>\n",
              "      <th>numVotes</th>\n",
              "      <th>crewNum</th>\n",
              "      <th>title</th>\n",
              "      <th>titleID</th>\n",
              "    </tr>\n",
              "  </thead>\n",
              "  <tbody>\n",
              "    <tr>\n",
              "      <th>211</th>\n",
              "      <td>630</td>\n",
              "      <td>544</td>\n",
              "      <td>1908</td>\n",
              "      <td>485</td>\n",
              "      <td>603</td>\n",
              "      <td>3.2</td>\n",
              "      <td>11</td>\n",
              "      <td>768415</td>\n",
              "      <td>hamlet</td>\n",
              "      <td>tt0000630</td>\n",
              "    </tr>\n",
              "    <tr>\n",
              "      <th>240</th>\n",
              "      <td>679</td>\n",
              "      <td>544</td>\n",
              "      <td>1908</td>\n",
              "      <td>1712</td>\n",
              "      <td>2800</td>\n",
              "      <td>5.2</td>\n",
              "      <td>34</td>\n",
              "      <td>4951455</td>\n",
              "      <td>the fairylogue and radio-plays</td>\n",
              "      <td>tt0000679</td>\n",
              "    </tr>\n",
              "    <tr>\n",
              "      <th>390</th>\n",
              "      <td>886</td>\n",
              "      <td>544</td>\n",
              "      <td>1910</td>\n",
              "      <td>485</td>\n",
              "      <td>2271</td>\n",
              "      <td>5.0</td>\n",
              "      <td>23</td>\n",
              "      <td>710351</td>\n",
              "      <td>hamlet, prince of denmark</td>\n",
              "      <td>tt0000886</td>\n",
              "    </tr>\n",
              "    <tr>\n",
              "      <th>657</th>\n",
              "      <td>1285</td>\n",
              "      <td>544</td>\n",
              "      <td>1909</td>\n",
              "      <td>2116</td>\n",
              "      <td>3319</td>\n",
              "      <td>5.3</td>\n",
              "      <td>28</td>\n",
              "      <td>3686464</td>\n",
              "      <td>forty years in the land of the midian</td>\n",
              "      <td>tt0001285</td>\n",
              "    </tr>\n",
              "    <tr>\n",
              "      <th>804</th>\n",
              "      <td>1498</td>\n",
              "      <td>544</td>\n",
              "      <td>1911</td>\n",
              "      <td>298</td>\n",
              "      <td>2118</td>\n",
              "      <td>7.7</td>\n",
              "      <td>6</td>\n",
              "      <td>4114934</td>\n",
              "      <td>the battle of trafalgar</td>\n",
              "      <td>tt0001498</td>\n",
              "    </tr>\n",
              "  </tbody>\n",
              "</table>\n",
              "</div>"
            ],
            "text/plain": [
              "     tconst  titleType  ...                                  title    titleID\n",
              "211     630        544  ...                                 hamlet  tt0000630\n",
              "240     679        544  ...         the fairylogue and radio-plays  tt0000679\n",
              "390     886        544  ...              hamlet, prince of denmark  tt0000886\n",
              "657    1285        544  ...  forty years in the land of the midian  tt0001285\n",
              "804    1498        544  ...                the battle of trafalgar  tt0001498\n",
              "\n",
              "[5 rows x 10 columns]"
            ]
          },
          "metadata": {
            "tags": []
          },
          "execution_count": 56
        }
      ]
    },
    {
      "cell_type": "code",
      "metadata": {
        "colab": {
          "base_uri": "https://localhost:8080/"
        },
        "id": "VIWo2TSSQybG",
        "outputId": "fdc11bec-acba-4077-b3a8-c4814c3c8595"
      },
      "source": [
        "dfMovies.info()"
      ],
      "execution_count": null,
      "outputs": [
        {
          "output_type": "stream",
          "text": [
            "<class 'pandas.core.frame.DataFrame'>\n",
            "Int64Index: 183578 entries, 211 to 973364\n",
            "Data columns (total 10 columns):\n",
            " #   Column         Non-Null Count   Dtype  \n",
            "---  ------         --------------   -----  \n",
            " 0   tconst         183578 non-null  int64  \n",
            " 1   titleType      183578 non-null  int64  \n",
            " 2   startYear      183578 non-null  int64  \n",
            " 3   genres         183578 non-null  int64  \n",
            " 4   originalTitle  183578 non-null  int64  \n",
            " 5   averageRating  183578 non-null  float64\n",
            " 6   numVotes       183578 non-null  int64  \n",
            " 7   crewNum        183578 non-null  int64  \n",
            " 8   title          183578 non-null  object \n",
            " 9   titleID        183578 non-null  object \n",
            "dtypes: float64(1), int64(7), object(2)\n",
            "memory usage: 15.4+ MB\n"
          ],
          "name": "stdout"
        }
      ]
    },
    {
      "cell_type": "code",
      "metadata": {
        "id": "-nc4l85cV13w",
        "colab": {
          "base_uri": "https://localhost:8080/"
        },
        "outputId": "dd1b8252-30dd-4add-fc2c-72dd0697df54"
      },
      "source": [
        "from google.colab import drive\n",
        "drive.mount('/content/drive', force_remount=True)"
      ],
      "execution_count": null,
      "outputs": [
        {
          "output_type": "stream",
          "text": [
            "Mounted at /content/drive\n"
          ],
          "name": "stdout"
        }
      ]
    },
    {
      "cell_type": "code",
      "metadata": {
        "id": "hqWoAseSRsby"
      },
      "source": [
        "dfMovies.to_csv('/content/drive/My Drive/Big Data Project/data/IMDBMovies.csv', index=False)"
      ],
      "execution_count": null,
      "outputs": []
    },
    {
      "cell_type": "code",
      "metadata": {
        "id": "mw4_91OgPM21"
      },
      "source": [
        ""
      ],
      "execution_count": null,
      "outputs": []
    }
  ]
}