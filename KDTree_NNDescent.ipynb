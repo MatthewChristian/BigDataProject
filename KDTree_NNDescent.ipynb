{
  "nbformat": 4,
  "nbformat_minor": 0,
  "metadata": {
    "colab": {
      "name": "Chris_IMDBMovies_Analysis.ipynb",
      "provenance": [],
      "collapsed_sections": [
        "s0npTFHWi3in",
        "AcyDFmpSnr-a",
        "uZ13a34aRH7X"
      ]
    },
    "kernelspec": {
      "display_name": "Python 3",
      "name": "python3"
    }
  },
  "cells": [
    {
      "cell_type": "code",
      "metadata": {
        "colab": {
          "background_save": true,
          "base_uri": "https://localhost:8080/"
        },
        "id": "SUv1T4KeOjI8",
        "outputId": "0224ab1b-986b-4d0c-b6a7-8bb5b2a31c19"
      },
      "source": [
        "!pip install hdbscan\n",
        "!pip install umap-learn"
      ],
      "execution_count": null,
      "outputs": [
        {
          "output_type": "stream",
          "text": [
            "Collecting hdbscan\n",
            "\u001b[?25l  Downloading https://files.pythonhosted.org/packages/32/bb/59a75bc5ac66a9b4f9b8f979e4545af0e98bb1ca4e6ae96b3b956b554223/hdbscan-0.8.27.tar.gz (6.4MB)\n",
            "\u001b[K     |████████████████████████████████| 6.4MB 3.8MB/s \n",
            "\u001b[?25h  Installing build dependencies ... \u001b[?25l\u001b[?25hdone\n",
            "  Getting requirements to build wheel ... \u001b[?25l\u001b[?25hdone\n",
            "    Preparing wheel metadata ... \u001b[?25l\u001b[?25hdone\n",
            "Requirement already satisfied: joblib>=1.0 in /usr/local/lib/python3.7/dist-packages (from hdbscan) (1.0.1)\n",
            "Requirement already satisfied: cython>=0.27 in /usr/local/lib/python3.7/dist-packages (from hdbscan) (0.29.22)\n",
            "Requirement already satisfied: scikit-learn>=0.20 in /usr/local/lib/python3.7/dist-packages (from hdbscan) (0.22.2.post1)\n",
            "Requirement already satisfied: scipy>=1.0 in /usr/local/lib/python3.7/dist-packages (from hdbscan) (1.4.1)\n",
            "Requirement already satisfied: six in /usr/local/lib/python3.7/dist-packages (from hdbscan) (1.15.0)\n",
            "Requirement already satisfied: numpy>=1.16 in /usr/local/lib/python3.7/dist-packages (from hdbscan) (1.19.5)\n",
            "Building wheels for collected packages: hdbscan\n",
            "  Building wheel for hdbscan (PEP 517) ... \u001b[?25l\u001b[?25hdone\n",
            "  Created wheel for hdbscan: filename=hdbscan-0.8.27-cp37-cp37m-linux_x86_64.whl size=2311624 sha256=cbe727597b0553529fd38f055ec280ce2c8a6220f14732cd24507e21101298a1\n",
            "  Stored in directory: /root/.cache/pip/wheels/42/63/fb/314ad6c3b270887a3ecb588b8e5aac50b0fad38ff89bb6dff2\n",
            "Successfully built hdbscan\n",
            "Installing collected packages: hdbscan\n",
            "Successfully installed hdbscan-0.8.27\n",
            "Collecting umap-learn\n",
            "\u001b[?25l  Downloading https://files.pythonhosted.org/packages/75/69/85e7f950bb75792ad5d666d86c5f3e62eedbb942848e7e3126513af9999c/umap-learn-0.5.1.tar.gz (80kB)\n",
            "\u001b[K     |████████████████████████████████| 81kB 2.9MB/s \n",
            "\u001b[?25hRequirement already satisfied: numpy>=1.17 in /usr/local/lib/python3.7/dist-packages (from umap-learn) (1.19.5)\n",
            "Requirement already satisfied: scikit-learn>=0.22 in /usr/local/lib/python3.7/dist-packages (from umap-learn) (0.22.2.post1)\n",
            "Requirement already satisfied: scipy>=1.0 in /usr/local/lib/python3.7/dist-packages (from umap-learn) (1.4.1)\n",
            "Requirement already satisfied: numba>=0.49 in /usr/local/lib/python3.7/dist-packages (from umap-learn) (0.51.2)\n",
            "Collecting pynndescent>=0.5\n",
            "\u001b[?25l  Downloading https://files.pythonhosted.org/packages/af/65/8189298dd3a05bbad716ee8e249764ff8800e365d8dc652ad2192ca01b4a/pynndescent-0.5.2.tar.gz (1.1MB)\n",
            "\u001b[K     |████████████████████████████████| 1.2MB 8.6MB/s \n",
            "\u001b[?25hRequirement already satisfied: joblib>=0.11 in /usr/local/lib/python3.7/dist-packages (from scikit-learn>=0.22->umap-learn) (1.0.1)\n",
            "Requirement already satisfied: setuptools in /usr/local/lib/python3.7/dist-packages (from numba>=0.49->umap-learn) (56.0.0)\n",
            "Requirement already satisfied: llvmlite<0.35,>=0.34.0.dev0 in /usr/local/lib/python3.7/dist-packages (from numba>=0.49->umap-learn) (0.34.0)\n",
            "Building wheels for collected packages: umap-learn, pynndescent\n",
            "  Building wheel for umap-learn (setup.py) ... \u001b[?25l\u001b[?25hdone\n",
            "  Created wheel for umap-learn: filename=umap_learn-0.5.1-cp37-none-any.whl size=76569 sha256=ea47d78b9a35ae1fe3c5623d2127cec1071f2b5cf010df17cfcde152414d4288\n",
            "  Stored in directory: /root/.cache/pip/wheels/ad/df/d5/a3691296ff779f25cd1cf415a3af954b987fb53111e3392cf4\n",
            "  Building wheel for pynndescent (setup.py) ... \u001b[?25l\u001b[?25hdone\n",
            "  Created wheel for pynndescent: filename=pynndescent-0.5.2-cp37-none-any.whl size=51351 sha256=caf8836d235ef4625f3f1600b918195ba1d469efff9cf55f77792c9936aa547c\n",
            "  Stored in directory: /root/.cache/pip/wheels/ba/52/4e/4c28d04d144a28f89e2575fb63628df6e6d49b56c5ddd0c74e\n",
            "Successfully built umap-learn pynndescent\n",
            "Installing collected packages: pynndescent, umap-learn\n",
            "Successfully installed pynndescent-0.5.2 umap-learn-0.5.1\n"
          ],
          "name": "stdout"
        }
      ]
    },
    {
      "cell_type": "code",
      "metadata": {
        "colab": {
          "background_save": true
        },
        "id": "VPHWSr4w977W"
      },
      "source": [
        "import re\n",
        "import umap\n",
        "import numpy as np\n",
        "import pandas as pd\n",
        "import seaborn as sns\n",
        "import matplotlib.pyplot as plt\n",
        "import sklearn.manifold as manifold\n",
        "\n",
        "import hdbscan\n",
        "# from textblob import TextBlob\n",
        "from nltk.corpus import stopwords\n",
        "from sklearn.decomposition import PCA\n",
        "from sklearn.feature_extraction.text import TfidfVectorizer\n",
        "from sklearn.preprocessing import StandardScaler, MinMaxScaler\n",
        "from sklearn.cluster import KMeans, DBSCAN, AgglomerativeClustering\n",
        "from sklearn.metrics import silhouette_score\n",
        "from sklearn.neighbors import KDTree\n",
        "from pynndescent import NNDescent\n",
        "\n",
        "from bokeh.plotting import figure, show\n",
        "from bokeh.io import output_notebook\n",
        "from bokeh.models import HoverTool, ColumnDataSource, CategoricalColorMapper\n",
        "from bokeh.palettes import Spectral10\n",
        "output_notebook()"
      ],
      "execution_count": null,
      "outputs": []
    },
    {
      "cell_type": "code",
      "metadata": {
        "colab": {
          "background_save": true,
          "base_uri": "https://localhost:8080/"
        },
        "id": "so2ni2SnI60S",
        "outputId": "c4370a89-8553-4d7a-9a60-2824b028ff1d"
      },
      "source": [
        "!gdown --id 12TxqTPUjYrgsMAoIovRegsotmWKzigth #IMDBMovies.csv\n",
        "# !gdown --id 1--_1YwPpUqMu6-V9_o3gQWopjmk0PW8j #KaggleMovies.csv"
      ],
      "execution_count": null,
      "outputs": [
        {
          "output_type": "stream",
          "text": [
            "Downloading...\n",
            "From: https://drive.google.com/uc?id=12TxqTPUjYrgsMAoIovRegsotmWKzigth\n",
            "To: /content/IMDBMovies.csv\n",
            "13.0MB [00:00, 49.0MB/s]\n"
          ],
          "name": "stdout"
        }
      ]
    },
    {
      "cell_type": "markdown",
      "metadata": {
        "id": "ND0LMPX9idIh"
      },
      "source": [
        "#### Read in the datasets"
      ]
    },
    {
      "cell_type": "code",
      "metadata": {
        "colab": {
          "background_save": true
        },
        "id": "Cs87ZODl-hL3"
      },
      "source": [
        "df = pd.read_csv(\"/content/IMDBMovies.csv\")\n",
        "# df = pd.read_csv(\"/content/KaggleMovies.csv\")"
      ],
      "execution_count": null,
      "outputs": []
    },
    {
      "cell_type": "code",
      "metadata": {
        "colab": {
          "background_save": true,
          "base_uri": "https://localhost:8080/",
          "height": 204
        },
        "id": "IiL2wyDKxG8w",
        "outputId": "6b65f13d-6fc0-47a2-fb1b-23722723b7da"
      },
      "source": [
        "df.head()"
      ],
      "execution_count": null,
      "outputs": [
        {
          "output_type": "execute_result",
          "data": {
            "text/html": [
              "<div>\n",
              "<style scoped>\n",
              "    .dataframe tbody tr th:only-of-type {\n",
              "        vertical-align: middle;\n",
              "    }\n",
              "\n",
              "    .dataframe tbody tr th {\n",
              "        vertical-align: top;\n",
              "    }\n",
              "\n",
              "    .dataframe thead th {\n",
              "        text-align: right;\n",
              "    }\n",
              "</style>\n",
              "<table border=\"1\" class=\"dataframe\">\n",
              "  <thead>\n",
              "    <tr style=\"text-align: right;\">\n",
              "      <th></th>\n",
              "      <th>tconst</th>\n",
              "      <th>titleType</th>\n",
              "      <th>startYear</th>\n",
              "      <th>genres</th>\n",
              "      <th>originalTitle</th>\n",
              "      <th>averageRating</th>\n",
              "      <th>numVotes</th>\n",
              "      <th>crewNum</th>\n",
              "      <th>title</th>\n",
              "      <th>titleID</th>\n",
              "    </tr>\n",
              "  </thead>\n",
              "  <tbody>\n",
              "    <tr>\n",
              "      <th>0</th>\n",
              "      <td>630</td>\n",
              "      <td>544</td>\n",
              "      <td>1908</td>\n",
              "      <td>485</td>\n",
              "      <td>603</td>\n",
              "      <td>3.2</td>\n",
              "      <td>11</td>\n",
              "      <td>768415</td>\n",
              "      <td>hamlet</td>\n",
              "      <td>tt0000630</td>\n",
              "    </tr>\n",
              "    <tr>\n",
              "      <th>1</th>\n",
              "      <td>679</td>\n",
              "      <td>544</td>\n",
              "      <td>1908</td>\n",
              "      <td>1712</td>\n",
              "      <td>2800</td>\n",
              "      <td>5.2</td>\n",
              "      <td>34</td>\n",
              "      <td>4951455</td>\n",
              "      <td>the fairylogue and radio-plays</td>\n",
              "      <td>tt0000679</td>\n",
              "    </tr>\n",
              "    <tr>\n",
              "      <th>2</th>\n",
              "      <td>886</td>\n",
              "      <td>544</td>\n",
              "      <td>1910</td>\n",
              "      <td>485</td>\n",
              "      <td>2271</td>\n",
              "      <td>5.0</td>\n",
              "      <td>23</td>\n",
              "      <td>710351</td>\n",
              "      <td>hamlet, prince of denmark</td>\n",
              "      <td>tt0000886</td>\n",
              "    </tr>\n",
              "    <tr>\n",
              "      <th>3</th>\n",
              "      <td>1285</td>\n",
              "      <td>544</td>\n",
              "      <td>1909</td>\n",
              "      <td>2116</td>\n",
              "      <td>3319</td>\n",
              "      <td>5.3</td>\n",
              "      <td>28</td>\n",
              "      <td>3686464</td>\n",
              "      <td>forty years in the land of the midian</td>\n",
              "      <td>tt0001285</td>\n",
              "    </tr>\n",
              "    <tr>\n",
              "      <th>4</th>\n",
              "      <td>1498</td>\n",
              "      <td>544</td>\n",
              "      <td>1911</td>\n",
              "      <td>298</td>\n",
              "      <td>2118</td>\n",
              "      <td>7.7</td>\n",
              "      <td>6</td>\n",
              "      <td>4114934</td>\n",
              "      <td>the battle of trafalgar</td>\n",
              "      <td>tt0001498</td>\n",
              "    </tr>\n",
              "  </tbody>\n",
              "</table>\n",
              "</div>"
            ],
            "text/plain": [
              "   tconst  titleType  ...                                  title    titleID\n",
              "0     630        544  ...                                 hamlet  tt0000630\n",
              "1     679        544  ...         the fairylogue and radio-plays  tt0000679\n",
              "2     886        544  ...              hamlet, prince of denmark  tt0000886\n",
              "3    1285        544  ...  forty years in the land of the midian  tt0001285\n",
              "4    1498        544  ...                the battle of trafalgar  tt0001498\n",
              "\n",
              "[5 rows x 10 columns]"
            ]
          },
          "metadata": {
            "tags": []
          },
          "execution_count": 0
        }
      ]
    },
    {
      "cell_type": "code",
      "metadata": {
        "colab": {
          "background_save": true,
          "base_uri": "https://localhost:8080/"
        },
        "id": "X7e41dbRqDux",
        "outputId": "5dd6f321-0563-446b-bf9d-253cd7fac14d"
      },
      "source": [
        "df.shape"
      ],
      "execution_count": null,
      "outputs": [
        {
          "output_type": "execute_result",
          "data": {
            "text/plain": [
              "(183578, 10)"
            ]
          },
          "metadata": {
            "tags": []
          },
          "execution_count": 0
        }
      ]
    },
    {
      "cell_type": "markdown",
      "metadata": {
        "id": "X3k16nB7ijF8"
      },
      "source": [
        "#### Normalize the data"
      ]
    },
    {
      "cell_type": "code",
      "metadata": {
        "colab": {
          "background_save": true
        },
        "id": "NeNhODTixIEn"
      },
      "source": [
        "ss = MinMaxScaler()\n",
        "df2 = ss.fit_transform(df[['titleType',\t'startYear',\t'genres',\t'originalTitle', 'averageRating',\t'numVotes',\t'crewNum']])"
      ],
      "execution_count": null,
      "outputs": []
    },
    {
      "cell_type": "markdown",
      "metadata": {
        "id": "sKmKNRJfkN80"
      },
      "source": [
        "## KNN"
      ]
    },
    {
      "cell_type": "markdown",
      "metadata": {
        "id": "30FKg2vT1OJM"
      },
      "source": [
        "#### Find true nearest neighbours to compare against the much faster NNDescent"
      ]
    },
    {
      "cell_type": "code",
      "metadata": {
        "colab": {
          "base_uri": "https://localhost:8080/"
        },
        "id": "qKXByPC91xac",
        "outputId": "80673ca6-4513-4e4c-de3b-becb80a008a3"
      },
      "source": [
        " %%time\n",
        " treeIndex = KDTree(df2, leaf_size=2)"
      ],
      "execution_count": null,
      "outputs": [
        {
          "output_type": "stream",
          "text": [
            "CPU times: user 15.6 s, sys: 113 ms, total: 15.7 s\n",
            "Wall time: 15.8 s\n"
          ],
          "name": "stdout"
        }
      ]
    },
    {
      "cell_type": "code",
      "metadata": {
        "colab": {
          "base_uri": "https://localhost:8080/"
        },
        "id": "N06guGfY1o19",
        "outputId": "57473bec-c848-42ea-d2bb-6bc883442253"
      },
      "source": [
        "%%time\n",
        "neighbours = treeIndex.query(df2, k=11)[1]"
      ],
      "execution_count": null,
      "outputs": [
        {
          "output_type": "stream",
          "text": [
            "CPU times: user 22.3 s, sys: 25.1 ms, total: 22.3 s\n",
            "Wall time: 22.4 s\n"
          ],
          "name": "stdout"
        }
      ]
    },
    {
      "cell_type": "code",
      "metadata": {
        "colab": {
          "base_uri": "https://localhost:8080/"
        },
        "id": "a9a_TiQJ4YgJ",
        "outputId": "de615c7d-ba9d-4c5b-8057-8de486190404"
      },
      "source": [
        "neighbours"
      ],
      "execution_count": null,
      "outputs": [
        {
          "output_type": "execute_result",
          "data": {
            "text/plain": [
              "array([[     0,    205,  50385, ...,   3893,  53353,   3725],\n",
              "       [     1,    792,     96, ...,    267,   3312,  55628],\n",
              "       [     2,    264,  83837, ..., 116498,  56378,  55609],\n",
              "       ...,\n",
              "       [183575, 142170, 179934, ..., 142487, 160697, 181756],\n",
              "       [183576, 177530,  93797, ..., 163132, 152076, 183321],\n",
              "       [183577, 171760,  63372, ...,  73636, 108838,  87779]])"
            ]
          },
          "metadata": {
            "tags": []
          },
          "execution_count": 155
        }
      ]
    },
    {
      "cell_type": "markdown",
      "metadata": {
        "id": "xKCqDv7Xixw4"
      },
      "source": [
        "#### Fit the data and find the k nearest neighbours"
      ]
    },
    {
      "cell_type": "code",
      "metadata": {
        "colab": {
          "base_uri": "https://localhost:8080/"
        },
        "id": "Cgq0Z6H-fSbQ",
        "outputId": "76498189-f5c9-432a-e959-a0c0425697f5"
      },
      "source": [
        "%%time\n",
        "index = NNDescent(df2,  n_neighbors=15, diversify_prob=0.0)\n",
        "index.prepare()"
      ],
      "execution_count": null,
      "outputs": [
        {
          "output_type": "stream",
          "text": [
            "CPU times: user 34.1 s, sys: 383 ms, total: 34.5 s\n",
            "Wall time: 20.9 s\n"
          ],
          "name": "stdout"
        }
      ]
    },
    {
      "cell_type": "code",
      "metadata": {
        "colab": {
          "base_uri": "https://localhost:8080/"
        },
        "id": "WN_fQ5uBmQWB",
        "outputId": "0711927a-1a1b-4b12-c3c5-ab85eeb52c40"
      },
      "source": [
        "%%time\n",
        "top10near = index.query(df2, k=11, epsilon=0.2)[0]\n",
        "top10near = index.query(df2, k=11)[0]\n",
        "top10near"
      ],
      "execution_count": null,
      "outputs": [
        {
          "output_type": "stream",
          "text": [
            "CPU times: user 3.63 s, sys: 34.9 ms, total: 3.66 s\n",
            "Wall time: 3.67 s\n"
          ],
          "name": "stdout"
        }
      ]
    },
    {
      "cell_type": "code",
      "metadata": {
        "id": "q82F2wZK2iSZ"
      },
      "source": [
        "def NNDesaccuracy(top10near, neighbours):\n",
        "    result = np.zeros(top10near.shape[0])\n",
        "    for i in range(top10near.shape[0]):\n",
        "        n_correct = np.intersect1d(top10near[i], neighbours[i]).shape[0]\n",
        "        result[i] = n_correct / neighbours.shape[1]\n",
        "    return result"
      ],
      "execution_count": null,
      "outputs": []
    },
    {
      "cell_type": "code",
      "metadata": {
        "id": "EqcfwR2M2kYQ"
      },
      "source": [
        "accuracy_stats = NNDesaccuracy(top10near, neighbors)"
      ],
      "execution_count": null,
      "outputs": []
    },
    {
      "cell_type": "code",
      "metadata": {
        "colab": {
          "base_uri": "https://localhost:8080/",
          "height": 589
        },
        "id": "Q1vd6hb62o6_",
        "outputId": "2575a171-0b8e-450b-c9e5-6440a064f370"
      },
      "source": [
        "plt.figure(figsize=(11,8))\n",
        "sns.set_style('whitegrid')\n",
        "ax = sns.distplot(accuracy_stats, kde=False, color=\"g\") \n",
        "ax.set_title(\"Accuracy per query point\")\n",
        "ax.set_xlabel(\"Accuracy\")\n",
        "    \n",
        "print(f\"Average accuracy of {np.mean(accuracy_stats)}\")"
      ],
      "execution_count": null,
      "outputs": [
        {
          "output_type": "stream",
          "text": [
            "/usr/local/lib/python3.7/dist-packages/seaborn/distributions.py:2557: FutureWarning: `distplot` is a deprecated function and will be removed in a future version. Please adapt your code to use either `displot` (a figure-level function with similar flexibility) or `histplot` (an axes-level function for histograms).\n",
            "  warnings.warn(msg, FutureWarning)\n"
          ],
          "name": "stderr"
        },
        {
          "output_type": "stream",
          "text": [
            "Average accuracy of 0.999905415483535\n"
          ],
          "name": "stdout"
        },
        {
          "output_type": "display_data",
          "data": {
            "image/png": "[encoded data removed]",
            "text/plain": [
              "<Figure size 792x576 with 1 Axes>"
            ]
          },
          "metadata": {
            "tags": []
          }
        }
      ]
    },
    {
      "cell_type": "markdown",
      "metadata": {
        "id": "ZxJ9SYpsjF-z"
      },
      "source": [
        "#### Find the 10 recommendations for a movie entered by a user (Internal Testing)"
      ]
    },
    {
      "cell_type": "code",
      "metadata": {
        "id": "Xt69uX3OnSxw"
      },
      "source": [
        "def getNearest(value):\n",
        "  a = np.where(df['title'].values == value.lower())\n",
        "  return  df.iloc[neighbours[a[0][0]][1:]].title"
      ],
      "execution_count": null,
      "outputs": []
    },
    {
      "cell_type": "code",
      "metadata": {
        "colab": {
          "base_uri": "https://localhost:8080/"
        },
        "id": "cYeQPuZlvbfg",
        "outputId": "3b260158-72df-455a-e877-0b63e0663d17"
      },
      "source": [
        "value = input(\"Enter a movie: \")\n",
        "getNearest(value)"
      ],
      "execution_count": null,
      "outputs": [
        {
          "output_type": "stream",
          "text": [
            "Enter a movie: mad max\n"
          ],
          "name": "stdout"
        },
        {
          "output_type": "execute_result",
          "data": {
            "text/plain": [
              "36990           tron\n",
              "34634       superman\n",
              "35859    superman ii\n",
              "37568       wargames\n",
              "37728           dune\n",
              "37788       gremlins\n",
              "33288    logan's run\n",
              "40090     spaceballs\n",
              "35803       scanners\n",
              "37558     videodrome\n",
              "Name: title, dtype: object"
            ]
          },
          "metadata": {
            "tags": []
          },
          "execution_count": 162
        }
      ]
    },
    {
      "cell_type": "markdown",
      "metadata": {
        "id": "s0npTFHWi3in"
      },
      "source": [
        "#### Output the recommendations to csv (Optional), uncomment code if needed"
      ]
    },
    {
      "cell_type": "code",
      "metadata": {
        "id": "P_OYCi8UUb3c"
      },
      "source": [
        "def myfunc(row):\n",
        "    return df.iloc[row].title\n",
        "\n",
        "myfunc_vec = np.vectorize(myfunc)\n",
        "top10nearTitles = myfunc_vec(top10near)\n",
        "top10nearTitles"
      ],
      "execution_count": null,
      "outputs": []
    },
    {
      "cell_type": "code",
      "metadata": {
        "colab": {
          "background_save": true
        },
        "id": "V_W5PgwHXXTW",
        "outputId": "df02193f-4771-4492-8804-faa5e42b65ed"
      },
      "source": [
        "movieRec = pd.DataFrame(top10nearTitles)\n",
        "movieRec = movieRec.rename(columns={0: 'Movie', 1: 'Rec1', 2: 'Rec2', 3: 'Rec3', 4: 'Rec4', 5: 'Rec5', 6: 'Rec6', 7: 'Rec7', 8: 'Rec8', 9: 'Rec9', 10: 'Rec10'})\n",
        "movieRec.head()"
      ],
      "execution_count": null,
      "outputs": [
        {
          "output_type": "execute_result",
          "data": {
            "text/html": [
              "<div>\n",
              "<style scoped>\n",
              "    .dataframe tbody tr th:only-of-type {\n",
              "        vertical-align: middle;\n",
              "    }\n",
              "\n",
              "    .dataframe tbody tr th {\n",
              "        vertical-align: top;\n",
              "    }\n",
              "\n",
              "    .dataframe thead th {\n",
              "        text-align: right;\n",
              "    }\n",
              "</style>\n",
              "<table border=\"1\" class=\"dataframe\">\n",
              "  <thead>\n",
              "    <tr style=\"text-align: right;\">\n",
              "      <th></th>\n",
              "      <th>Movie</th>\n",
              "      <th>Rec1</th>\n",
              "      <th>Rec2</th>\n",
              "      <th>Rec3</th>\n",
              "      <th>Rec4</th>\n",
              "      <th>Rec5</th>\n",
              "      <th>Rec6</th>\n",
              "      <th>Rec7</th>\n",
              "      <th>Rec8</th>\n",
              "      <th>Rec9</th>\n",
              "      <th>Rec10</th>\n",
              "    </tr>\n",
              "  </thead>\n",
              "  <tbody>\n",
              "    <tr>\n",
              "      <th>0</th>\n",
              "      <td>hamlet</td>\n",
              "      <td>the house next door</td>\n",
              "      <td>irish eyes</td>\n",
              "      <td>the rail rider</td>\n",
              "      <td>the bible</td>\n",
              "      <td>the slave mart</td>\n",
              "      <td>the girl in number 29</td>\n",
              "      <td>the evil women do</td>\n",
              "      <td>the prince of avenue a</td>\n",
              "      <td>her bleeding heart</td>\n",
              "      <td>help wanted - male</td>\n",
              "    </tr>\n",
              "    <tr>\n",
              "      <th>1</th>\n",
              "      <td>the fairylogue and radio-plays</td>\n",
              "      <td>the new exploits of elaine</td>\n",
              "      <td>the adventures of andy</td>\n",
              "      <td>the ghost breaker</td>\n",
              "      <td>the fighting gringo</td>\n",
              "      <td>who will marry mary?</td>\n",
              "      <td>the hand of vengeance</td>\n",
              "      <td>gretchen blunders in</td>\n",
              "      <td>the million dollar mystery</td>\n",
              "      <td>perils of thunder mountain</td>\n",
              "      <td>the new adventures of j. rufus wallingford</td>\n",
              "    </tr>\n",
              "    <tr>\n",
              "      <th>2</th>\n",
              "      <td>hamlet, prince of denmark</td>\n",
              "      <td>the merchant of venice</td>\n",
              "      <td>beverly of graustark</td>\n",
              "      <td>michael strogoff</td>\n",
              "      <td>shadows of the moulin rouge</td>\n",
              "      <td>mormon's offer</td>\n",
              "      <td>the naked truth</td>\n",
              "      <td>the fall of a nation</td>\n",
              "      <td>victory or death</td>\n",
              "      <td>lucretia borgia</td>\n",
              "      <td>the last of the ingrahams</td>\n",
              "    </tr>\n",
              "    <tr>\n",
              "      <th>3</th>\n",
              "      <td>forty years in the land of the midian</td>\n",
              "      <td>the strange story of sylvia gray</td>\n",
              "      <td>a romance of the redwoods</td>\n",
              "      <td>nan of music mountain</td>\n",
              "      <td>carmen of the klondike</td>\n",
              "      <td>antony and cleopatra</td>\n",
              "      <td>princess romanoff</td>\n",
              "      <td>the last egyptian</td>\n",
              "      <td>the woman in the web</td>\n",
              "      <td>the millionaire baby</td>\n",
              "      <td>the master key</td>\n",
              "    </tr>\n",
              "    <tr>\n",
              "      <th>4</th>\n",
              "      <td>the battle of trafalgar</td>\n",
              "      <td>the man who could not lose</td>\n",
              "      <td>the land of the lost</td>\n",
              "      <td>the dawn of a tomorrow</td>\n",
              "      <td>the innocence of ruth</td>\n",
              "      <td>the man from home</td>\n",
              "      <td>the valley of the moon</td>\n",
              "      <td>after the ball</td>\n",
              "      <td>the cossack whip</td>\n",
              "      <td>polly of the circus</td>\n",
              "      <td>the wall invisible</td>\n",
              "    </tr>\n",
              "  </tbody>\n",
              "</table>\n",
              "</div>"
            ],
            "text/plain": [
              "                                   Movie  ...                                       Rec10\n",
              "0                                 hamlet  ...                          help wanted - male\n",
              "1         the fairylogue and radio-plays  ...  the new adventures of j. rufus wallingford\n",
              "2              hamlet, prince of denmark  ...                   the last of the ingrahams\n",
              "3  forty years in the land of the midian  ...                              the master key\n",
              "4                the battle of trafalgar  ...                          the wall invisible\n",
              "\n",
              "[5 rows x 11 columns]"
            ]
          },
          "metadata": {
            "tags": []
          },
          "execution_count": 0
        }
      ]
    },
    {
      "cell_type": "code",
      "metadata": {
        "id": "Y9hNvm10nwWi"
      },
      "source": [
        "def getNearest(value):\n",
        "  a = np.where(df['title'].values == value.lower())\n",
        "  return  df.iloc[neighbours[a[0][0]][1:]].title"
      ],
      "execution_count": null,
      "outputs": []
    },
    {
      "cell_type": "code",
      "metadata": {
        "colab": {
          "base_uri": "https://localhost:8080/"
        },
        "id": "W0taszzcnjov",
        "outputId": "ae9c7500-89ec-44fe-d802-39eaf5a54b42"
      },
      "source": [
        "value = input(\"Enter a movie: \")\n",
        "getNearest(value)"
      ],
      "execution_count": null,
      "outputs": [
        {
          "output_type": "stream",
          "text": [
            "Enter a movie: mad max\n"
          ],
          "name": "stdout"
        },
        {
          "output_type": "execute_result",
          "data": {
            "text/plain": [
              "36990           tron\n",
              "34634       superman\n",
              "35859    superman ii\n",
              "37568       wargames\n",
              "37728           dune\n",
              "37788       gremlins\n",
              "33288    logan's run\n",
              "40090     spaceballs\n",
              "35803       scanners\n",
              "37558     videodrome\n",
              "Name: title, dtype: object"
            ]
          },
          "metadata": {
            "tags": []
          },
          "execution_count": 167
        }
      ]
    },
    {
      "cell_type": "code",
      "metadata": {
        "colab": {
          "base_uri": "https://localhost:8080/"
        },
        "id": "g1G_HQ5GXzzA",
        "outputId": "15d4af70-3953-4c17-805e-094eb5ac697a"
      },
      "source": [
        "from google.colab import drive\n",
        "drive.mount('/content/drive', force_remount=True)"
      ],
      "execution_count": null,
      "outputs": [
        {
          "output_type": "stream",
          "text": [
            "Mounted at /content/drive\n"
          ],
          "name": "stdout"
        }
      ]
    },
    {
      "cell_type": "code",
      "metadata": {
        "id": "s9rviyGRX1pY"
      },
      "source": [
        "movieRec.to_csv('/content/drive/My Drive/Big Data Project/data/MovieRecs.csv', index=False)"
      ],
      "execution_count": null,
      "outputs": []
    },
    {
      "cell_type": "markdown",
      "metadata": {
        "id": "AcyDFmpSnr-a"
      },
      "source": [
        "## KNN PCA"
      ]
    },
    {
      "cell_type": "code",
      "metadata": {
        "id": "HzzzGBZgPsE2"
      },
      "source": [
        "pca = PCA(n_components=2)\n",
        "df3 = pca.fit_transform(df2)"
      ],
      "execution_count": null,
      "outputs": []
    },
    {
      "cell_type": "code",
      "metadata": {
        "colab": {
          "base_uri": "https://localhost:8080/"
        },
        "id": "uatqS_4ePveS",
        "outputId": "54a36c15-42a7-4428-ccd8-925739397297"
      },
      "source": [
        "df3"
      ],
      "execution_count": null,
      "outputs": [
        {
          "output_type": "execute_result",
          "data": {
            "text/plain": [
              "array([[-0.18607159, -0.15005497],\n",
              "       [-0.25832495,  0.13157282],\n",
              "       [-0.21378876,  0.02009367],\n",
              "       ...,\n",
              "       [-0.16155042, -0.0251919 ],\n",
              "       [-0.20470835,  0.22335895],\n",
              "       [ 0.88971501, -0.26487263]])"
            ]
          },
          "metadata": {
            "tags": []
          },
          "execution_count": 53
        }
      ]
    },
    {
      "cell_type": "code",
      "metadata": {
        "id": "FMul2XuIQEqU"
      },
      "source": [
        "index2 = NNDescent(df3)"
      ],
      "execution_count": null,
      "outputs": []
    },
    {
      "cell_type": "code",
      "metadata": {
        "colab": {
          "base_uri": "https://localhost:8080/"
        },
        "id": "g9PmlHDVQYZG",
        "outputId": "b5f59c77-46be-4930-8953-248cfb0fad7f"
      },
      "source": [
        "top10near2 = index2.query(df3, k=11)[0]\n",
        "top10near2"
      ],
      "execution_count": null,
      "outputs": [
        {
          "output_type": "execute_result",
          "data": {
            "text/plain": [
              "array([[     0,  19402,   6383, ...,  50958,   8288,    935],\n",
              "       [     1,   1984,   6502, ...,   8101,  68682,   6336],\n",
              "       [     2,  51450,  11211, ...,  16393,   2748,  60984],\n",
              "       ...,\n",
              "       [183575,  52361,  48711, ...,  38741, 129421,  44465],\n",
              "       [183576, 159743, 109955, ..., 104189,  69466,  71640],\n",
              "       [183577, 183101, 157897, ..., 176922,  90359, 149901]], dtype=int32)"
            ]
          },
          "metadata": {
            "tags": []
          },
          "execution_count": 57
        }
      ]
    },
    {
      "cell_type": "code",
      "metadata": {
        "id": "Zm7cz74sQcBJ"
      },
      "source": [
        "def getNearest(value):\n",
        "  a = np.where(df['title'].values == value.lower())\n",
        "  return  df.iloc[top10near2[a[0][0]]].title"
      ],
      "execution_count": null,
      "outputs": []
    },
    {
      "cell_type": "code",
      "metadata": {
        "colab": {
          "base_uri": "https://localhost:8080/"
        },
        "id": "kU9DIScEQeCv",
        "outputId": "ca9064e3-6d43-48ac-fb16-b71a935fc587"
      },
      "source": [
        "value = input(\"Enter a movie: \")\n",
        "getNearest(value)"
      ],
      "execution_count": null,
      "outputs": [
        {
          "output_type": "stream",
          "text": [
            "Enter a movie: mad max\n"
          ],
          "name": "stdout"
        },
        {
          "output_type": "execute_result",
          "data": {
            "text/plain": [
              "35049                                   mad max\n",
              "27261                           fields of honor\n",
              "32408                      the towering inferno\n",
              "32155                      lancelot of the lake\n",
              "34182                             capricorn one\n",
              "35562                                   paydirt\n",
              "32980        john milius' the wind and the lion\n",
              "18880                         germany year zero\n",
              "38706    starchaser: the legend of orin- in 3-d\n",
              "33335                            violent naples\n",
              "Name: title, dtype: object"
            ]
          },
          "metadata": {
            "tags": []
          },
          "execution_count": 60
        }
      ]
    },
    {
      "cell_type": "markdown",
      "metadata": {
        "id": "uZ13a34aRH7X"
      },
      "source": [
        "## KNN UMAP"
      ]
    },
    {
      "cell_type": "code",
      "metadata": {
        "id": "BgWGlSyzRJ_x"
      },
      "source": [
        "df4 = umap.UMAP(n_components=2).fit_transform(df2)"
      ],
      "execution_count": null,
      "outputs": []
    },
    {
      "cell_type": "code",
      "metadata": {
        "colab": {
          "base_uri": "https://localhost:8080/"
        },
        "id": "8bLh27mBRSQA",
        "outputId": "50e81139-3720-4fa6-87b2-89cf9e21fefd"
      },
      "source": [
        "df4"
      ],
      "execution_count": null,
      "outputs": [
        {
          "output_type": "execute_result",
          "data": {
            "text/plain": [
              "array([[ 8.088617 , 18.117037 ],\n",
              "       [ 9.414087 , 16.516026 ],\n",
              "       [ 7.082261 , 18.742085 ],\n",
              "       ...,\n",
              "       [ 6.2989755, -1.749881 ],\n",
              "       [ 3.9141693, -1.4279182],\n",
              "       [-7.51618  , 10.790727 ]], dtype=float32)"
            ]
          },
          "metadata": {
            "tags": []
          },
          "execution_count": 62
        }
      ]
    },
    {
      "cell_type": "code",
      "metadata": {
        "id": "8htssYRJRZk4"
      },
      "source": [
        "index3 = NNDescent(df4, n_neighbors=50,\n",
        "    diversify_prob=0.0,\n",
        "    pruning_degree_multiplier=3.0)"
      ],
      "execution_count": null,
      "outputs": []
    },
    {
      "cell_type": "code",
      "metadata": {
        "colab": {
          "base_uri": "https://localhost:8080/"
        },
        "id": "vOzHalOKRfGG",
        "outputId": "7d8bd266-3598-4518-92fe-7f90e6e12d3f"
      },
      "source": [
        "top10near3 = index3.query(df4, k=11, epsilon=0.5)[0]\n",
        "top10near3"
      ],
      "execution_count": null,
      "outputs": [
        {
          "output_type": "execute_result",
          "data": {
            "text/plain": [
              "array([[     0,   3893,   5319, ...,  61967,   3684,   3725],\n",
              "       [     1,    605,   2519, ...,   3942,    705,   3957],\n",
              "       [     2,  69892,  56378, ...,  83837,    531,   1401],\n",
              "       ...,\n",
              "       [183575, 162685, 165299, ..., 142459, 129421, 143981],\n",
              "       [183576, 169579, 151786, ..., 171898, 152970, 132069],\n",
              "       [183577, 130203,  97553, ...,  71186,  89389,  76681]], dtype=int32)"
            ]
          },
          "metadata": {
            "tags": []
          },
          "execution_count": 69
        }
      ]
    },
    {
      "cell_type": "code",
      "metadata": {
        "id": "RZmiI1SMRmgv"
      },
      "source": [
        "def getNearest(value):\n",
        "  a = np.where(df['title'].values == value.lower())\n",
        "  return  df.iloc[top10near3[a[0][0]]].title"
      ],
      "execution_count": null,
      "outputs": []
    },
    {
      "cell_type": "code",
      "metadata": {
        "colab": {
          "base_uri": "https://localhost:8080/"
        },
        "id": "krvUgb7oRnFV",
        "outputId": "07804dc6-ad72-4f43-882e-23ee31ec9eea"
      },
      "source": [
        "value = input(\"Enter a movie: \")\n",
        "getNearest(value)"
      ],
      "execution_count": null,
      "outputs": [
        {
          "output_type": "stream",
          "text": [
            "Enter a movie: toy story\n"
          ],
          "name": "stdout"
        },
        {
          "output_type": "execute_result",
          "data": {
            "text/plain": [
              "47024                                      toy story\n",
              "67943                                       p.o.t.c.\n",
              "79556                  avatar: an imax 3d experience\n",
              "63532                                   finding nemo\n",
              "45599                                  the lion king\n",
              "83714                                         wall-e\n",
              "46231                                     braveheart\n",
              "70747                                        ironman\n",
              "54677                                the sixth sense\n",
              "37413    star wars: episode vi - revenge of the jedi\n",
              "88232                                             up\n",
              "Name: title, dtype: object"
            ]
          },
          "metadata": {
            "tags": []
          },
          "execution_count": 72
        }
      ]
    }
  ]
}