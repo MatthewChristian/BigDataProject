{
  "nbformat": 4,
  "nbformat_minor": 0,
  "metadata": {
    "colab": {
      "name": "Seth&Chris_KaggleMovies_Cleaning.ipynb",
      "provenance": [],
      "collapsed_sections": [
        "ia08NnYEjbEi",
        "3TW2Vxkz-5RI"
      ]
    },
    "kernelspec": {
      "display_name": "Python 3",
      "name": "python3"
    }
  },
  "cells": [
    {
      "cell_type": "code",
      "metadata": {
        "id": "VPHWSr4w977W"
      },
      "source": [
        "import re\n",
        "import numpy as np\n",
        "import pandas as pd\n",
        "\n",
        "from sklearn.feature_extraction.text import TfidfVectorizer\n",
        "from sklearn.preprocessing import StandardScaler, MinMaxScaler, LabelEncoder"
      ],
      "execution_count": null,
      "outputs": []
    },
    {
      "cell_type": "code",
      "metadata": {
        "colab": {
          "base_uri": "https://localhost:8080/"
        },
        "id": "CJJ6m2F8Uha6",
        "outputId": "f901adcb-7cb5-440e-8add-0ec0ccc2379d"
      },
      "source": [
        "!gdown --id 11jHTacIQ2e3ndLseet-YQp3clAGWTpCu #ratings.csv\n",
        "!gdown --id 1D1cO0G4WEUa6AAOrEHBgExjPZ5DSNn1a #credits.csv\n",
        "!gdown --id 1FYYQsZYalPT3KItdbj4A29jj3setD-G9 #keywords.csv\n",
        "!gdown --id 1Y7mZX40bA3dGLCsUem9Ayeooyx9TnFUp #movies-metadata.csv\n",
        "!gdown --id 1mwNCe4qZoPvE_ktbHrvMNQ4hFovDsL3w #ratings_small.csv"
      ],
      "execution_count": null,
      "outputs": [
        {
          "output_type": "stream",
          "text": [
            "Downloading...\n",
            "From: https://drive.google.com/uc?id=11jHTacIQ2e3ndLseet-YQp3clAGWTpCu\n",
            "To: /content/ratings.csv\n",
            "710MB [00:04, 173MB/s]\n",
            "Downloading...\n",
            "From: https://drive.google.com/uc?id=1D1cO0G4WEUa6AAOrEHBgExjPZ5DSNn1a\n",
            "To: /content/credits.csv\n",
            "190MB [00:00, 199MB/s]\n",
            "Downloading...\n",
            "From: https://drive.google.com/uc?id=1FYYQsZYalPT3KItdbj4A29jj3setD-G9\n",
            "To: /content/keywords.csv\n",
            "6.23MB [00:00, 54.6MB/s]\n",
            "Downloading...\n",
            "From: https://drive.google.com/uc?id=1Y7mZX40bA3dGLCsUem9Ayeooyx9TnFUp\n",
            "To: /content/movies_metadata.csv\n",
            "34.4MB [00:00, 94.7MB/s]\n",
            "Downloading...\n",
            "From: https://drive.google.com/uc?id=1mwNCe4qZoPvE_ktbHrvMNQ4hFovDsL3w\n",
            "To: /content/ratings_small.csv\n",
            "2.44MB [00:00, 78.1MB/s]\n"
          ],
          "name": "stdout"
        }
      ]
    },
    {
      "cell_type": "code",
      "metadata": {
        "id": "UXPc-mGwO7Ia",
        "colab": {
          "base_uri": "https://localhost:8080/"
        },
        "outputId": "bb3ff735-542a-4051-eabc-13972fa0872e"
      },
      "source": [
        "df_credits = pd.read_csv(\"/content/credits.csv\")\n",
        "df_keywords = pd.read_csv(\"/content/keywords.csv\")\n",
        "df_movies = pd.read_csv(\"/content/movies_metadata.csv\")\n",
        "df_ratings = pd.concat([pd.read_csv(\"/content/ratings.csv\"), pd.read_csv(\"/content/ratings_small.csv\")])"
      ],
      "execution_count": null,
      "outputs": [
        {
          "output_type": "stream",
          "text": [
            "/usr/local/lib/python3.7/dist-packages/IPython/core/interactiveshell.py:2718: DtypeWarning: Columns (10) have mixed types.Specify dtype option on import or set low_memory=False.\n",
            "  interactivity=interactivity, compiler=compiler, result=result)\n"
          ],
          "name": "stderr"
        }
      ]
    },
    {
      "cell_type": "markdown",
      "metadata": {
        "id": "8SQDC1reQC8p"
      },
      "source": [
        "# Seth - Dataframe Merge (Without Ratings Merged)"
      ]
    },
    {
      "cell_type": "markdown",
      "metadata": {
        "id": "zExzv7vcQ0tY"
      },
      "source": [
        "#### Removing datetime values from movie id column in df_movies"
      ]
    },
    {
      "cell_type": "code",
      "metadata": {
        "id": "npesc8CeP_mS"
      },
      "source": [
        "index = []\n",
        "\n",
        "for i in range(0, len(df_movies['id'])):\n",
        "  data = df_movies['id'].values[i]\n",
        "  if (data.find('-') != -1):\n",
        "    index.append(i)"
      ],
      "execution_count": null,
      "outputs": []
    },
    {
      "cell_type": "code",
      "metadata": {
        "colab": {
          "base_uri": "https://localhost:8080/"
        },
        "id": "-flCHuobs_Y2",
        "outputId": "addd2929-0a19-4df8-e99f-dbbcb3a66cd6"
      },
      "source": [
        "print(df_movies['id'][19730])\n",
        "print(df_movies['id'][29503])\n",
        "print(df_movies['id'][35587])"
      ],
      "execution_count": null,
      "outputs": [
        {
          "output_type": "stream",
          "text": [
            "1997-08-20\n",
            "2012-09-29\n",
            "2014-01-01\n"
          ],
          "name": "stdout"
        }
      ]
    },
    {
      "cell_type": "code",
      "metadata": {
        "id": "yAMwREGHRGUS"
      },
      "source": [
        "df_movies = df_movies.drop([19730, 29503, 35587])"
      ],
      "execution_count": null,
      "outputs": []
    },
    {
      "cell_type": "code",
      "metadata": {
        "id": "xS5tFWQ4ROFN"
      },
      "source": [
        "df_movies['id'] = pd.to_numeric(df_movies['id'])"
      ],
      "execution_count": null,
      "outputs": []
    },
    {
      "cell_type": "markdown",
      "metadata": {
        "id": "-tQhpVlCSS3Q"
      },
      "source": [
        "#### Joining Credits and Keywords into df1"
      ]
    },
    {
      "cell_type": "code",
      "metadata": {
        "id": "SCw6bSaKSSD6"
      },
      "source": [
        "df1 = df_credits.join(df_keywords.set_index('id'), on = 'id')"
      ],
      "execution_count": null,
      "outputs": []
    },
    {
      "cell_type": "markdown",
      "metadata": {
        "id": "UwtovAAzSkkg"
      },
      "source": [
        "#### Joining Movies into df1"
      ]
    },
    {
      "cell_type": "code",
      "metadata": {
        "id": "-A5cX3M_Swdx"
      },
      "source": [
        "df1 = df1.join(df_movies.set_index('id'), on = 'id')"
      ],
      "execution_count": null,
      "outputs": []
    },
    {
      "cell_type": "markdown",
      "metadata": {
        "id": "63lx3rA6S0_6"
      },
      "source": [
        "# Merged DataFrame #1"
      ]
    },
    {
      "cell_type": "code",
      "metadata": {
        "colab": {
          "base_uri": "https://localhost:8080/",
          "height": 683
        },
        "id": "XsjwZrJdS0Lo",
        "outputId": "a82f995c-b62e-48b5-d8af-ee7eeb55ef5b"
      },
      "source": [
        "df1.head()"
      ],
      "execution_count": null,
      "outputs": [
        {
          "output_type": "execute_result",
          "data": {
            "text/html": [
              "<div>\n",
              "<style scoped>\n",
              "    .dataframe tbody tr th:only-of-type {\n",
              "        vertical-align: middle;\n",
              "    }\n",
              "\n",
              "    .dataframe tbody tr th {\n",
              "        vertical-align: top;\n",
              "    }\n",
              "\n",
              "    .dataframe thead th {\n",
              "        text-align: right;\n",
              "    }\n",
              "</style>\n",
              "<table border=\"1\" class=\"dataframe\">\n",
              "  <thead>\n",
              "    <tr style=\"text-align: right;\">\n",
              "      <th></th>\n",
              "      <th>cast</th>\n",
              "      <th>crew</th>\n",
              "      <th>id</th>\n",
              "      <th>keywords</th>\n",
              "      <th>adult</th>\n",
              "      <th>belongs_to_collection</th>\n",
              "      <th>budget</th>\n",
              "      <th>genres</th>\n",
              "      <th>homepage</th>\n",
              "      <th>imdb_id</th>\n",
              "      <th>original_language</th>\n",
              "      <th>original_title</th>\n",
              "      <th>overview</th>\n",
              "      <th>popularity</th>\n",
              "      <th>poster_path</th>\n",
              "      <th>production_companies</th>\n",
              "      <th>production_countries</th>\n",
              "      <th>release_date</th>\n",
              "      <th>revenue</th>\n",
              "      <th>runtime</th>\n",
              "      <th>spoken_languages</th>\n",
              "      <th>status</th>\n",
              "      <th>tagline</th>\n",
              "      <th>title</th>\n",
              "      <th>video</th>\n",
              "      <th>vote_average</th>\n",
              "      <th>vote_count</th>\n",
              "    </tr>\n",
              "  </thead>\n",
              "  <tbody>\n",
              "    <tr>\n",
              "      <th>0</th>\n",
              "      <td>[{'cast_id': 14, 'character': 'Woody (voice)',...</td>\n",
              "      <td>[{'credit_id': '52fe4284c3a36847f8024f49', 'de...</td>\n",
              "      <td>862</td>\n",
              "      <td>[{'id': 931, 'name': 'jealousy'}, {'id': 4290,...</td>\n",
              "      <td>False</td>\n",
              "      <td>{'id': 10194, 'name': 'Toy Story Collection', ...</td>\n",
              "      <td>30000000</td>\n",
              "      <td>[{'id': 16, 'name': 'Animation'}, {'id': 35, '...</td>\n",
              "      <td>http://toystory.disney.com/toy-story</td>\n",
              "      <td>tt0114709</td>\n",
              "      <td>en</td>\n",
              "      <td>Toy Story</td>\n",
              "      <td>Led by Woody, Andy's toys live happily in his ...</td>\n",
              "      <td>21.9469</td>\n",
              "      <td>/rhIRbceoE9lR4veEXuwCC2wARtG.jpg</td>\n",
              "      <td>[{'name': 'Pixar Animation Studios', 'id': 3}]</td>\n",
              "      <td>[{'iso_3166_1': 'US', 'name': 'United States o...</td>\n",
              "      <td>1995-10-30</td>\n",
              "      <td>373554033.0</td>\n",
              "      <td>81.0</td>\n",
              "      <td>[{'iso_639_1': 'en', 'name': 'English'}]</td>\n",
              "      <td>Released</td>\n",
              "      <td>NaN</td>\n",
              "      <td>Toy Story</td>\n",
              "      <td>False</td>\n",
              "      <td>7.7</td>\n",
              "      <td>5415.0</td>\n",
              "    </tr>\n",
              "    <tr>\n",
              "      <th>1</th>\n",
              "      <td>[{'cast_id': 1, 'character': 'Alan Parrish', '...</td>\n",
              "      <td>[{'credit_id': '52fe44bfc3a36847f80a7cd1', 'de...</td>\n",
              "      <td>8844</td>\n",
              "      <td>[{'id': 10090, 'name': 'board game'}, {'id': 1...</td>\n",
              "      <td>False</td>\n",
              "      <td>NaN</td>\n",
              "      <td>65000000</td>\n",
              "      <td>[{'id': 12, 'name': 'Adventure'}, {'id': 14, '...</td>\n",
              "      <td>NaN</td>\n",
              "      <td>tt0113497</td>\n",
              "      <td>en</td>\n",
              "      <td>Jumanji</td>\n",
              "      <td>When siblings Judy and Peter discover an encha...</td>\n",
              "      <td>17.0155</td>\n",
              "      <td>/vzmL6fP7aPKNKPRTFnZmiUfciyV.jpg</td>\n",
              "      <td>[{'name': 'TriStar Pictures', 'id': 559}, {'na...</td>\n",
              "      <td>[{'iso_3166_1': 'US', 'name': 'United States o...</td>\n",
              "      <td>1995-12-15</td>\n",
              "      <td>262797249.0</td>\n",
              "      <td>104.0</td>\n",
              "      <td>[{'iso_639_1': 'en', 'name': 'English'}, {'iso...</td>\n",
              "      <td>Released</td>\n",
              "      <td>Roll the dice and unleash the excitement!</td>\n",
              "      <td>Jumanji</td>\n",
              "      <td>False</td>\n",
              "      <td>6.9</td>\n",
              "      <td>2413.0</td>\n",
              "    </tr>\n",
              "    <tr>\n",
              "      <th>2</th>\n",
              "      <td>[{'cast_id': 2, 'character': 'Max Goldman', 'c...</td>\n",
              "      <td>[{'credit_id': '52fe466a9251416c75077a89', 'de...</td>\n",
              "      <td>15602</td>\n",
              "      <td>[{'id': 1495, 'name': 'fishing'}, {'id': 12392...</td>\n",
              "      <td>False</td>\n",
              "      <td>{'id': 119050, 'name': 'Grumpy Old Men Collect...</td>\n",
              "      <td>0</td>\n",
              "      <td>[{'id': 10749, 'name': 'Romance'}, {'id': 35, ...</td>\n",
              "      <td>NaN</td>\n",
              "      <td>tt0113228</td>\n",
              "      <td>en</td>\n",
              "      <td>Grumpier Old Men</td>\n",
              "      <td>A family wedding reignites the ancient feud be...</td>\n",
              "      <td>11.7129</td>\n",
              "      <td>/6ksm1sjKMFLbO7UY2i6G1ju9SML.jpg</td>\n",
              "      <td>[{'name': 'Warner Bros.', 'id': 6194}, {'name'...</td>\n",
              "      <td>[{'iso_3166_1': 'US', 'name': 'United States o...</td>\n",
              "      <td>1995-12-22</td>\n",
              "      <td>0.0</td>\n",
              "      <td>101.0</td>\n",
              "      <td>[{'iso_639_1': 'en', 'name': 'English'}]</td>\n",
              "      <td>Released</td>\n",
              "      <td>Still Yelling. Still Fighting. Still Ready for...</td>\n",
              "      <td>Grumpier Old Men</td>\n",
              "      <td>False</td>\n",
              "      <td>6.5</td>\n",
              "      <td>92.0</td>\n",
              "    </tr>\n",
              "    <tr>\n",
              "      <th>3</th>\n",
              "      <td>[{'cast_id': 1, 'character': \"Savannah 'Vannah...</td>\n",
              "      <td>[{'credit_id': '52fe44779251416c91011acb', 'de...</td>\n",
              "      <td>31357</td>\n",
              "      <td>[{'id': 818, 'name': 'based on novel'}, {'id':...</td>\n",
              "      <td>False</td>\n",
              "      <td>NaN</td>\n",
              "      <td>16000000</td>\n",
              "      <td>[{'id': 35, 'name': 'Comedy'}, {'id': 18, 'nam...</td>\n",
              "      <td>NaN</td>\n",
              "      <td>tt0114885</td>\n",
              "      <td>en</td>\n",
              "      <td>Waiting to Exhale</td>\n",
              "      <td>Cheated on, mistreated and stepped on, the wom...</td>\n",
              "      <td>3.85949</td>\n",
              "      <td>/16XOMpEaLWkrcPqSQqhTmeJuqQl.jpg</td>\n",
              "      <td>[{'name': 'Twentieth Century Fox Film Corporat...</td>\n",
              "      <td>[{'iso_3166_1': 'US', 'name': 'United States o...</td>\n",
              "      <td>1995-12-22</td>\n",
              "      <td>81452156.0</td>\n",
              "      <td>127.0</td>\n",
              "      <td>[{'iso_639_1': 'en', 'name': 'English'}]</td>\n",
              "      <td>Released</td>\n",
              "      <td>Friends are the people who let you be yourself...</td>\n",
              "      <td>Waiting to Exhale</td>\n",
              "      <td>False</td>\n",
              "      <td>6.1</td>\n",
              "      <td>34.0</td>\n",
              "    </tr>\n",
              "    <tr>\n",
              "      <th>4</th>\n",
              "      <td>[{'cast_id': 1, 'character': 'George Banks', '...</td>\n",
              "      <td>[{'credit_id': '52fe44959251416c75039ed7', 'de...</td>\n",
              "      <td>11862</td>\n",
              "      <td>[{'id': 1009, 'name': 'baby'}, {'id': 1599, 'n...</td>\n",
              "      <td>False</td>\n",
              "      <td>{'id': 96871, 'name': 'Father of the Bride Col...</td>\n",
              "      <td>0</td>\n",
              "      <td>[{'id': 35, 'name': 'Comedy'}]</td>\n",
              "      <td>NaN</td>\n",
              "      <td>tt0113041</td>\n",
              "      <td>en</td>\n",
              "      <td>Father of the Bride Part II</td>\n",
              "      <td>Just when George Banks has recovered from his ...</td>\n",
              "      <td>8.38752</td>\n",
              "      <td>/e64sOI48hQXyru7naBFyssKFxVd.jpg</td>\n",
              "      <td>[{'name': 'Sandollar Productions', 'id': 5842}...</td>\n",
              "      <td>[{'iso_3166_1': 'US', 'name': 'United States o...</td>\n",
              "      <td>1995-02-10</td>\n",
              "      <td>76578911.0</td>\n",
              "      <td>106.0</td>\n",
              "      <td>[{'iso_639_1': 'en', 'name': 'English'}]</td>\n",
              "      <td>Released</td>\n",
              "      <td>Just When His World Is Back To Normal... He's ...</td>\n",
              "      <td>Father of the Bride Part II</td>\n",
              "      <td>False</td>\n",
              "      <td>5.7</td>\n",
              "      <td>173.0</td>\n",
              "    </tr>\n",
              "  </tbody>\n",
              "</table>\n",
              "</div>"
            ],
            "text/plain": [
              "                                                cast  ... vote_count\n",
              "0  [{'cast_id': 14, 'character': 'Woody (voice)',...  ...     5415.0\n",
              "1  [{'cast_id': 1, 'character': 'Alan Parrish', '...  ...     2413.0\n",
              "2  [{'cast_id': 2, 'character': 'Max Goldman', 'c...  ...       92.0\n",
              "3  [{'cast_id': 1, 'character': \"Savannah 'Vannah...  ...       34.0\n",
              "4  [{'cast_id': 1, 'character': 'George Banks', '...  ...      173.0\n",
              "\n",
              "[5 rows x 27 columns]"
            ]
          },
          "metadata": {
            "tags": []
          },
          "execution_count": 10
        }
      ]
    },
    {
      "cell_type": "code",
      "metadata": {
        "colab": {
          "base_uri": "https://localhost:8080/"
        },
        "id": "vLUFfGhshjRS",
        "outputId": "265608f3-02c7-409f-9ea7-bf96b24464ba"
      },
      "source": [
        "df1.shape"
      ],
      "execution_count": null,
      "outputs": [
        {
          "output_type": "execute_result",
          "data": {
            "text/plain": [
              "(46628, 27)"
            ]
          },
          "metadata": {
            "tags": []
          },
          "execution_count": 11
        }
      ]
    },
    {
      "cell_type": "markdown",
      "metadata": {
        "id": "aV5ccIfBhhHs"
      },
      "source": [
        "# Cleaning DF1"
      ]
    },
    {
      "cell_type": "code",
      "metadata": {
        "id": "O9C1vSkGjCIu"
      },
      "source": [
        "del df1['crew']\n",
        "del df1['homepage']\n",
        "del df1['poster_path']\n",
        "del df1['imdb_id']\n",
        "del df1['overview']\n",
        "del df1['tagline']\n",
        "del df1['budget']\n",
        "del df1['status']\n",
        "del df1['video']\n",
        "del df1['spoken_languages']\n",
        "del df1['production_countries']\n",
        "del df1['runtime']\n",
        "del df1['original_title']\n",
        "del df1['belongs_to_collection']\n",
        "del df1['production_companies']"
      ],
      "execution_count": null,
      "outputs": []
    },
    {
      "cell_type": "code",
      "metadata": {
        "colab": {
          "base_uri": "https://localhost:8080/",
          "height": 272
        },
        "id": "291wE5D8hfgj",
        "outputId": "5462df65-6e70-4e7e-c02a-7439b4bb3a72"
      },
      "source": [
        "df1.head()"
      ],
      "execution_count": null,
      "outputs": [
        {
          "output_type": "execute_result",
          "data": {
            "text/html": [
              "<div>\n",
              "<style scoped>\n",
              "    .dataframe tbody tr th:only-of-type {\n",
              "        vertical-align: middle;\n",
              "    }\n",
              "\n",
              "    .dataframe tbody tr th {\n",
              "        vertical-align: top;\n",
              "    }\n",
              "\n",
              "    .dataframe thead th {\n",
              "        text-align: right;\n",
              "    }\n",
              "</style>\n",
              "<table border=\"1\" class=\"dataframe\">\n",
              "  <thead>\n",
              "    <tr style=\"text-align: right;\">\n",
              "      <th></th>\n",
              "      <th>cast</th>\n",
              "      <th>id</th>\n",
              "      <th>keywords</th>\n",
              "      <th>adult</th>\n",
              "      <th>genres</th>\n",
              "      <th>original_language</th>\n",
              "      <th>popularity</th>\n",
              "      <th>release_date</th>\n",
              "      <th>revenue</th>\n",
              "      <th>title</th>\n",
              "      <th>vote_average</th>\n",
              "      <th>vote_count</th>\n",
              "    </tr>\n",
              "  </thead>\n",
              "  <tbody>\n",
              "    <tr>\n",
              "      <th>0</th>\n",
              "      <td>[{'cast_id': 14, 'character': 'Woody (voice)',...</td>\n",
              "      <td>862</td>\n",
              "      <td>[{'id': 931, 'name': 'jealousy'}, {'id': 4290,...</td>\n",
              "      <td>False</td>\n",
              "      <td>[{'id': 16, 'name': 'Animation'}, {'id': 35, '...</td>\n",
              "      <td>en</td>\n",
              "      <td>21.9469</td>\n",
              "      <td>1995-10-30</td>\n",
              "      <td>373554033.0</td>\n",
              "      <td>Toy Story</td>\n",
              "      <td>7.7</td>\n",
              "      <td>5415.0</td>\n",
              "    </tr>\n",
              "    <tr>\n",
              "      <th>1</th>\n",
              "      <td>[{'cast_id': 1, 'character': 'Alan Parrish', '...</td>\n",
              "      <td>8844</td>\n",
              "      <td>[{'id': 10090, 'name': 'board game'}, {'id': 1...</td>\n",
              "      <td>False</td>\n",
              "      <td>[{'id': 12, 'name': 'Adventure'}, {'id': 14, '...</td>\n",
              "      <td>en</td>\n",
              "      <td>17.0155</td>\n",
              "      <td>1995-12-15</td>\n",
              "      <td>262797249.0</td>\n",
              "      <td>Jumanji</td>\n",
              "      <td>6.9</td>\n",
              "      <td>2413.0</td>\n",
              "    </tr>\n",
              "    <tr>\n",
              "      <th>2</th>\n",
              "      <td>[{'cast_id': 2, 'character': 'Max Goldman', 'c...</td>\n",
              "      <td>15602</td>\n",
              "      <td>[{'id': 1495, 'name': 'fishing'}, {'id': 12392...</td>\n",
              "      <td>False</td>\n",
              "      <td>[{'id': 10749, 'name': 'Romance'}, {'id': 35, ...</td>\n",
              "      <td>en</td>\n",
              "      <td>11.7129</td>\n",
              "      <td>1995-12-22</td>\n",
              "      <td>0.0</td>\n",
              "      <td>Grumpier Old Men</td>\n",
              "      <td>6.5</td>\n",
              "      <td>92.0</td>\n",
              "    </tr>\n",
              "    <tr>\n",
              "      <th>3</th>\n",
              "      <td>[{'cast_id': 1, 'character': \"Savannah 'Vannah...</td>\n",
              "      <td>31357</td>\n",
              "      <td>[{'id': 818, 'name': 'based on novel'}, {'id':...</td>\n",
              "      <td>False</td>\n",
              "      <td>[{'id': 35, 'name': 'Comedy'}, {'id': 18, 'nam...</td>\n",
              "      <td>en</td>\n",
              "      <td>3.85949</td>\n",
              "      <td>1995-12-22</td>\n",
              "      <td>81452156.0</td>\n",
              "      <td>Waiting to Exhale</td>\n",
              "      <td>6.1</td>\n",
              "      <td>34.0</td>\n",
              "    </tr>\n",
              "    <tr>\n",
              "      <th>4</th>\n",
              "      <td>[{'cast_id': 1, 'character': 'George Banks', '...</td>\n",
              "      <td>11862</td>\n",
              "      <td>[{'id': 1009, 'name': 'baby'}, {'id': 1599, 'n...</td>\n",
              "      <td>False</td>\n",
              "      <td>[{'id': 35, 'name': 'Comedy'}]</td>\n",
              "      <td>en</td>\n",
              "      <td>8.38752</td>\n",
              "      <td>1995-02-10</td>\n",
              "      <td>76578911.0</td>\n",
              "      <td>Father of the Bride Part II</td>\n",
              "      <td>5.7</td>\n",
              "      <td>173.0</td>\n",
              "    </tr>\n",
              "  </tbody>\n",
              "</table>\n",
              "</div>"
            ],
            "text/plain": [
              "                                                cast  ...  vote_count\n",
              "0  [{'cast_id': 14, 'character': 'Woody (voice)',...  ...      5415.0\n",
              "1  [{'cast_id': 1, 'character': 'Alan Parrish', '...  ...      2413.0\n",
              "2  [{'cast_id': 2, 'character': 'Max Goldman', 'c...  ...        92.0\n",
              "3  [{'cast_id': 1, 'character': \"Savannah 'Vannah...  ...        34.0\n",
              "4  [{'cast_id': 1, 'character': 'George Banks', '...  ...       173.0\n",
              "\n",
              "[5 rows x 12 columns]"
            ]
          },
          "metadata": {
            "tags": []
          },
          "execution_count": 13
        }
      ]
    },
    {
      "cell_type": "code",
      "metadata": {
        "colab": {
          "base_uri": "https://localhost:8080/"
        },
        "id": "I2Dkwlkzn2Wr",
        "outputId": "b714dd5f-0cae-40e0-bfde-a7187ae9acc2"
      },
      "source": [
        "df1.dtypes"
      ],
      "execution_count": null,
      "outputs": [
        {
          "output_type": "execute_result",
          "data": {
            "text/plain": [
              "cast                  object\n",
              "id                     int64\n",
              "keywords              object\n",
              "adult                 object\n",
              "genres                object\n",
              "original_language     object\n",
              "popularity            object\n",
              "release_date          object\n",
              "revenue              float64\n",
              "title                 object\n",
              "vote_average         float64\n",
              "vote_count           float64\n",
              "dtype: object"
            ]
          },
          "metadata": {
            "tags": []
          },
          "execution_count": 14
        }
      ]
    },
    {
      "cell_type": "code",
      "metadata": {
        "id": "mf4jhDaSipVv"
      },
      "source": [
        "# function to clean columns\n",
        "# cast\n",
        "def clean_cast(row):\n",
        "  cast = []\n",
        "  cast_dict = eval(row)\n",
        "  for i in range(len(cast_dict)):\n",
        "    cast.append(cast_dict[i]['name'])\n",
        "\n",
        "  return cast\n",
        "\n",
        "# keywords\n",
        "def clean_keywords(row):\n",
        "  keywords = []\n",
        "  keyword_dict = eval(row)\n",
        "  for i in range(len(keyword_dict)):\n",
        "    keywords.append(keyword_dict[i]['name'])\n",
        "\n",
        "  return keywords\n",
        "\n",
        "# genres\n",
        "def clean_genre(row):\n",
        "  genres = []\n",
        "  gen_dict = eval(row)\n",
        "  for i in range(len(gen_dict)):\n",
        "    genres.append(gen_dict[i]['name'])\n",
        "\n",
        "  return genres"
      ],
      "execution_count": null,
      "outputs": []
    },
    {
      "cell_type": "code",
      "metadata": {
        "id": "lJjJrC7miv_2"
      },
      "source": [
        "df1['genres'] = df1['genres'].apply(lambda x: clean_genre(x))\n",
        "df1['cast'] = df1['cast'].apply(lambda x: clean_cast(x))\n",
        "df1['keywords'] = df1['keywords'].apply(lambda x: clean_keywords(x))"
      ],
      "execution_count": null,
      "outputs": []
    },
    {
      "cell_type": "code",
      "metadata": {
        "id": "AZHE6hbTt8SH",
        "colab": {
          "base_uri": "https://localhost:8080/",
          "height": 204
        },
        "outputId": "385d9cf2-be04-4c9f-dc78-76503ecb3d95"
      },
      "source": [
        "df1.head()"
      ],
      "execution_count": null,
      "outputs": [
        {
          "output_type": "execute_result",
          "data": {
            "text/html": [
              "<div>\n",
              "<style scoped>\n",
              "    .dataframe tbody tr th:only-of-type {\n",
              "        vertical-align: middle;\n",
              "    }\n",
              "\n",
              "    .dataframe tbody tr th {\n",
              "        vertical-align: top;\n",
              "    }\n",
              "\n",
              "    .dataframe thead th {\n",
              "        text-align: right;\n",
              "    }\n",
              "</style>\n",
              "<table border=\"1\" class=\"dataframe\">\n",
              "  <thead>\n",
              "    <tr style=\"text-align: right;\">\n",
              "      <th></th>\n",
              "      <th>cast</th>\n",
              "      <th>id</th>\n",
              "      <th>keywords</th>\n",
              "      <th>adult</th>\n",
              "      <th>genres</th>\n",
              "      <th>original_language</th>\n",
              "      <th>popularity</th>\n",
              "      <th>release_date</th>\n",
              "      <th>revenue</th>\n",
              "      <th>title</th>\n",
              "      <th>vote_average</th>\n",
              "      <th>vote_count</th>\n",
              "    </tr>\n",
              "  </thead>\n",
              "  <tbody>\n",
              "    <tr>\n",
              "      <th>0</th>\n",
              "      <td>[Tom Hanks, Tim Allen, Don Rickles, Jim Varney...</td>\n",
              "      <td>862</td>\n",
              "      <td>[jealousy, toy, boy, friendship, friends, riva...</td>\n",
              "      <td>False</td>\n",
              "      <td>[Animation, Comedy, Family]</td>\n",
              "      <td>en</td>\n",
              "      <td>21.9469</td>\n",
              "      <td>1995-10-30</td>\n",
              "      <td>373554033.0</td>\n",
              "      <td>Toy Story</td>\n",
              "      <td>7.7</td>\n",
              "      <td>5415.0</td>\n",
              "    </tr>\n",
              "    <tr>\n",
              "      <th>1</th>\n",
              "      <td>[Robin Williams, Jonathan Hyde, Kirsten Dunst,...</td>\n",
              "      <td>8844</td>\n",
              "      <td>[board game, disappearance, based on children'...</td>\n",
              "      <td>False</td>\n",
              "      <td>[Adventure, Fantasy, Family]</td>\n",
              "      <td>en</td>\n",
              "      <td>17.0155</td>\n",
              "      <td>1995-12-15</td>\n",
              "      <td>262797249.0</td>\n",
              "      <td>Jumanji</td>\n",
              "      <td>6.9</td>\n",
              "      <td>2413.0</td>\n",
              "    </tr>\n",
              "    <tr>\n",
              "      <th>2</th>\n",
              "      <td>[Walter Matthau, Jack Lemmon, Ann-Margret, Sop...</td>\n",
              "      <td>15602</td>\n",
              "      <td>[fishing, best friend, duringcreditsstinger, o...</td>\n",
              "      <td>False</td>\n",
              "      <td>[Romance, Comedy]</td>\n",
              "      <td>en</td>\n",
              "      <td>11.7129</td>\n",
              "      <td>1995-12-22</td>\n",
              "      <td>0.0</td>\n",
              "      <td>Grumpier Old Men</td>\n",
              "      <td>6.5</td>\n",
              "      <td>92.0</td>\n",
              "    </tr>\n",
              "    <tr>\n",
              "      <th>3</th>\n",
              "      <td>[Whitney Houston, Angela Bassett, Loretta Devi...</td>\n",
              "      <td>31357</td>\n",
              "      <td>[based on novel, interracial relationship, sin...</td>\n",
              "      <td>False</td>\n",
              "      <td>[Comedy, Drama, Romance]</td>\n",
              "      <td>en</td>\n",
              "      <td>3.85949</td>\n",
              "      <td>1995-12-22</td>\n",
              "      <td>81452156.0</td>\n",
              "      <td>Waiting to Exhale</td>\n",
              "      <td>6.1</td>\n",
              "      <td>34.0</td>\n",
              "    </tr>\n",
              "    <tr>\n",
              "      <th>4</th>\n",
              "      <td>[Steve Martin, Diane Keaton, Martin Short, Kim...</td>\n",
              "      <td>11862</td>\n",
              "      <td>[baby, midlife crisis, confidence, aging, daug...</td>\n",
              "      <td>False</td>\n",
              "      <td>[Comedy]</td>\n",
              "      <td>en</td>\n",
              "      <td>8.38752</td>\n",
              "      <td>1995-02-10</td>\n",
              "      <td>76578911.0</td>\n",
              "      <td>Father of the Bride Part II</td>\n",
              "      <td>5.7</td>\n",
              "      <td>173.0</td>\n",
              "    </tr>\n",
              "  </tbody>\n",
              "</table>\n",
              "</div>"
            ],
            "text/plain": [
              "                                                cast  ...  vote_count\n",
              "0  [Tom Hanks, Tim Allen, Don Rickles, Jim Varney...  ...      5415.0\n",
              "1  [Robin Williams, Jonathan Hyde, Kirsten Dunst,...  ...      2413.0\n",
              "2  [Walter Matthau, Jack Lemmon, Ann-Margret, Sop...  ...        92.0\n",
              "3  [Whitney Houston, Angela Bassett, Loretta Devi...  ...        34.0\n",
              "4  [Steve Martin, Diane Keaton, Martin Short, Kim...  ...       173.0\n",
              "\n",
              "[5 rows x 12 columns]"
            ]
          },
          "metadata": {
            "tags": []
          },
          "execution_count": 17
        }
      ]
    },
    {
      "cell_type": "markdown",
      "metadata": {
        "id": "JOBEDmiOLBDI"
      },
      "source": [
        "### Creating a Cast DF"
      ]
    },
    {
      "cell_type": "code",
      "metadata": {
        "id": "80Sbpzi-i_P7"
      },
      "source": [
        "cast = eval (df_credits['cast'].values[0])"
      ],
      "execution_count": null,
      "outputs": []
    },
    {
      "cell_type": "code",
      "metadata": {
        "id": "C2uTUxxJj0HQ",
        "colab": {
          "base_uri": "https://localhost:8080/"
        },
        "outputId": "72189f68-2cea-47a8-df17-bc9c701ec923"
      },
      "source": [
        "cast[0]['id']"
      ],
      "execution_count": null,
      "outputs": [
        {
          "output_type": "execute_result",
          "data": {
            "text/plain": [
              "31"
            ]
          },
          "metadata": {
            "tags": []
          },
          "execution_count": 19
        }
      ]
    },
    {
      "cell_type": "code",
      "metadata": {
        "id": "Oa12OCyskBni"
      },
      "source": [
        "ids = []\n",
        "actors = []\n",
        "\n",
        "for i in range(0, len(df_credits['cast'])):\n",
        "  castData = eval(df_credits['cast'].values[i])\n",
        "  for j in range(len(castData)):\n",
        "    ids.append(castData[j]['id'])\n",
        "    actors.append(castData[j]['name'])"
      ],
      "execution_count": null,
      "outputs": []
    },
    {
      "cell_type": "code",
      "metadata": {
        "id": "02d-65H0qog8"
      },
      "source": [
        "castDF = pd.DataFrame({'id': ids, 'name': actors})"
      ],
      "execution_count": null,
      "outputs": []
    },
    {
      "cell_type": "code",
      "metadata": {
        "id": "RONAaM17rRG8",
        "colab": {
          "base_uri": "https://localhost:8080/",
          "height": 204
        },
        "outputId": "1556d715-055e-4e65-aa84-93a797612f1a"
      },
      "source": [
        "castDF.head()"
      ],
      "execution_count": null,
      "outputs": [
        {
          "output_type": "execute_result",
          "data": {
            "text/html": [
              "<div>\n",
              "<style scoped>\n",
              "    .dataframe tbody tr th:only-of-type {\n",
              "        vertical-align: middle;\n",
              "    }\n",
              "\n",
              "    .dataframe tbody tr th {\n",
              "        vertical-align: top;\n",
              "    }\n",
              "\n",
              "    .dataframe thead th {\n",
              "        text-align: right;\n",
              "    }\n",
              "</style>\n",
              "<table border=\"1\" class=\"dataframe\">\n",
              "  <thead>\n",
              "    <tr style=\"text-align: right;\">\n",
              "      <th></th>\n",
              "      <th>id</th>\n",
              "      <th>name</th>\n",
              "    </tr>\n",
              "  </thead>\n",
              "  <tbody>\n",
              "    <tr>\n",
              "      <th>0</th>\n",
              "      <td>31</td>\n",
              "      <td>Tom Hanks</td>\n",
              "    </tr>\n",
              "    <tr>\n",
              "      <th>1</th>\n",
              "      <td>12898</td>\n",
              "      <td>Tim Allen</td>\n",
              "    </tr>\n",
              "    <tr>\n",
              "      <th>2</th>\n",
              "      <td>7167</td>\n",
              "      <td>Don Rickles</td>\n",
              "    </tr>\n",
              "    <tr>\n",
              "      <th>3</th>\n",
              "      <td>12899</td>\n",
              "      <td>Jim Varney</td>\n",
              "    </tr>\n",
              "    <tr>\n",
              "      <th>4</th>\n",
              "      <td>12900</td>\n",
              "      <td>Wallace Shawn</td>\n",
              "    </tr>\n",
              "  </tbody>\n",
              "</table>\n",
              "</div>"
            ],
            "text/plain": [
              "      id           name\n",
              "0     31      Tom Hanks\n",
              "1  12898      Tim Allen\n",
              "2   7167    Don Rickles\n",
              "3  12899     Jim Varney\n",
              "4  12900  Wallace Shawn"
            ]
          },
          "metadata": {
            "tags": []
          },
          "execution_count": 22
        }
      ]
    },
    {
      "cell_type": "code",
      "metadata": {
        "id": "HnYkSXk-raFD",
        "colab": {
          "base_uri": "https://localhost:8080/",
          "height": 419
        },
        "outputId": "976afd75-5dd7-48cb-a3d7-5332c5046470"
      },
      "source": [
        "castDF[castDF.duplicated()]"
      ],
      "execution_count": null,
      "outputs": [
        {
          "output_type": "execute_result",
          "data": {
            "text/html": [
              "<div>\n",
              "<style scoped>\n",
              "    .dataframe tbody tr th:only-of-type {\n",
              "        vertical-align: middle;\n",
              "    }\n",
              "\n",
              "    .dataframe tbody tr th {\n",
              "        vertical-align: top;\n",
              "    }\n",
              "\n",
              "    .dataframe thead th {\n",
              "        text-align: right;\n",
              "    }\n",
              "</style>\n",
              "<table border=\"1\" class=\"dataframe\">\n",
              "  <thead>\n",
              "    <tr style=\"text-align: right;\">\n",
              "      <th></th>\n",
              "      <th>id</th>\n",
              "      <th>name</th>\n",
              "    </tr>\n",
              "  </thead>\n",
              "  <tbody>\n",
              "    <tr>\n",
              "      <th>76</th>\n",
              "      <td>34</td>\n",
              "      <td>Mykelti Williamson</td>\n",
              "    </tr>\n",
              "    <tr>\n",
              "      <th>83</th>\n",
              "      <td>352</td>\n",
              "      <td>Dennis Haysbert</td>\n",
              "    </tr>\n",
              "    <tr>\n",
              "      <th>267</th>\n",
              "      <td>6280</td>\n",
              "      <td>Powers Boothe</td>\n",
              "    </tr>\n",
              "    <tr>\n",
              "      <th>269</th>\n",
              "      <td>382</td>\n",
              "      <td>Bob Hoskins</td>\n",
              "    </tr>\n",
              "    <tr>\n",
              "      <th>271</th>\n",
              "      <td>19839</td>\n",
              "      <td>David Paymer</td>\n",
              "    </tr>\n",
              "    <tr>\n",
              "      <th>...</th>\n",
              "      <td>...</td>\n",
              "      <td>...</td>\n",
              "    </tr>\n",
              "    <tr>\n",
              "      <th>562467</th>\n",
              "      <td>37822</td>\n",
              "      <td>Peter Dobson</td>\n",
              "    </tr>\n",
              "    <tr>\n",
              "      <th>562469</th>\n",
              "      <td>544742</td>\n",
              "      <td>Iwan Mosschuchin</td>\n",
              "    </tr>\n",
              "    <tr>\n",
              "      <th>562470</th>\n",
              "      <td>1090923</td>\n",
              "      <td>Nathalie Lissenko</td>\n",
              "    </tr>\n",
              "    <tr>\n",
              "      <th>562471</th>\n",
              "      <td>1136422</td>\n",
              "      <td>Pavel Pavlov</td>\n",
              "    </tr>\n",
              "    <tr>\n",
              "      <th>562473</th>\n",
              "      <td>29199</td>\n",
              "      <td>Vera Orlova</td>\n",
              "    </tr>\n",
              "  </tbody>\n",
              "</table>\n",
              "<p>356302 rows × 2 columns</p>\n",
              "</div>"
            ],
            "text/plain": [
              "             id                name\n",
              "76           34  Mykelti Williamson\n",
              "83          352     Dennis Haysbert\n",
              "267        6280       Powers Boothe\n",
              "269         382         Bob Hoskins\n",
              "271       19839        David Paymer\n",
              "...         ...                 ...\n",
              "562467    37822        Peter Dobson\n",
              "562469   544742    Iwan Mosschuchin\n",
              "562470  1090923   Nathalie Lissenko\n",
              "562471  1136422        Pavel Pavlov\n",
              "562473    29199         Vera Orlova\n",
              "\n",
              "[356302 rows x 2 columns]"
            ]
          },
          "metadata": {
            "tags": []
          },
          "execution_count": 23
        }
      ]
    },
    {
      "cell_type": "code",
      "metadata": {
        "id": "ASqylWbzri2H",
        "colab": {
          "base_uri": "https://localhost:8080/"
        },
        "outputId": "8939b752-feea-489a-c93d-662ecc7ab57d"
      },
      "source": [
        "castDF.shape"
      ],
      "execution_count": null,
      "outputs": [
        {
          "output_type": "execute_result",
          "data": {
            "text/plain": [
              "(562474, 2)"
            ]
          },
          "metadata": {
            "tags": []
          },
          "execution_count": 24
        }
      ]
    },
    {
      "cell_type": "markdown",
      "metadata": {
        "id": "uNj2dOorroZn"
      },
      "source": [
        "Remove Duplicates"
      ]
    },
    {
      "cell_type": "code",
      "metadata": {
        "id": "VMw0IlEuroAc"
      },
      "source": [
        "castDF.drop_duplicates(keep = 'first', inplace = True)"
      ],
      "execution_count": null,
      "outputs": []
    },
    {
      "cell_type": "code",
      "metadata": {
        "id": "nvD1oLPtrqic",
        "colab": {
          "base_uri": "https://localhost:8080/"
        },
        "outputId": "04cf1ee9-f29e-4595-e8fe-4ad75cdc46a8"
      },
      "source": [
        "castDF.shape"
      ],
      "execution_count": null,
      "outputs": [
        {
          "output_type": "execute_result",
          "data": {
            "text/plain": [
              "(206172, 2)"
            ]
          },
          "metadata": {
            "tags": []
          },
          "execution_count": 26
        }
      ]
    },
    {
      "cell_type": "markdown",
      "metadata": {
        "id": "JrcQnwEotKXt"
      },
      "source": [
        "## Finding unique cast number for each movie"
      ]
    },
    {
      "cell_type": "code",
      "metadata": {
        "id": "gvPSfM6m1s7-"
      },
      "source": [
        "# convert castDF into dictionary\n",
        "castDict = dict(zip(castDF.name, castDF.id))"
      ],
      "execution_count": null,
      "outputs": []
    },
    {
      "cell_type": "code",
      "metadata": {
        "id": "RsUapkkJ8kwS",
        "colab": {
          "base_uri": "https://localhost:8080/"
        },
        "outputId": "ea6de3aa-adec-489c-f3c5-aec5d2e84377"
      },
      "source": [
        "castDict"
      ],
      "execution_count": null,
      "outputs": [
        {
          "output_type": "execute_result",
          "data": {
            "text/plain": [
              "{'Tom Hanks': 31,\n",
              " 'Tim Allen': 12898,\n",
              " 'Don Rickles': 7167,\n",
              " 'Jim Varney': 12899,\n",
              " 'Wallace Shawn': 12900,\n",
              " 'John Ratzenberger': 7907,\n",
              " 'Annie Potts': 8873,\n",
              " 'John Morris': 1482679,\n",
              " 'Erik von Detten': 12901,\n",
              " 'Laurie Metcalf': 12133,\n",
              " 'R. Lee Ermey': 8655,\n",
              " 'Sarah Freeman': 12903,\n",
              " 'Penn Jillette': 37221,\n",
              " 'Robin Williams': 2157,\n",
              " 'Jonathan Hyde': 8537,\n",
              " 'Kirsten Dunst': 205,\n",
              " 'Bradley Pierce': 145151,\n",
              " 'Bonnie Hunt': 5149,\n",
              " 'Bebe Neuwirth': 10739,\n",
              " 'David Alan Grier': 58563,\n",
              " 'Patricia Clarkson': 1276,\n",
              " 'Adam Hann-Byrd': 46530,\n",
              " 'Laura Bell Bundy': 56523,\n",
              " 'James Handy': 51551,\n",
              " 'Gillian Barber': 56522,\n",
              " 'Brandon Obray': 1000304,\n",
              " 'Cyrus Thiedeke': 188949,\n",
              " 'Gary Joseph Thorup': 1076551,\n",
              " 'Leonard Zola': 1480246,\n",
              " 'Lloyd Berry': 25024,\n",
              " 'Malcolm Stewart': 27110,\n",
              " 'Annabel Kershaw': 53715,\n",
              " 'Darryl Henriques': 1379424,\n",
              " 'Robyn Driscoll': 1235504,\n",
              " 'Peter Bryant': 25389,\n",
              " 'Sarah Gilson': 1483449,\n",
              " 'Florica Vlad': 1483450,\n",
              " 'June Lion': 1483451,\n",
              " 'Brenda Lockmuller': 1483452,\n",
              " 'Walter Matthau': 6837,\n",
              " 'Jack Lemmon': 3151,\n",
              " 'Ann-Margret': 13567,\n",
              " 'Sophia Loren': 16757,\n",
              " 'Daryl Hannah': 589,\n",
              " 'Burgess Meredith': 16523,\n",
              " 'Kevin Pollak': 7166,\n",
              " 'Whitney Houston': 8851,\n",
              " 'Angela Bassett': 9780,\n",
              " 'Loretta Devine': 18284,\n",
              " 'Lela Rochon': 51359,\n",
              " 'Gregory Hines': 66804,\n",
              " 'Dennis Haysbert': 352,\n",
              " 'Michael Beach': 87118,\n",
              " 'Mykelti Williamson': 34,\n",
              " 'Lamont Johnson': 1214133,\n",
              " 'Wesley Snipes': 10814,\n",
              " 'Steve Martin': 556798,\n",
              " 'Diane Keaton': 3092,\n",
              " 'Martin Short': 519,\n",
              " 'Kimberly Williams-Paisley': 70696,\n",
              " 'George Newbern': 59222,\n",
              " 'Kieran Culkin': 18793,\n",
              " 'BD Wong': 14592,\n",
              " 'Peter Michael Goetz': 20906,\n",
              " 'Kate McGregor-Stewart': 54348,\n",
              " 'Jane Adams': 233325,\n",
              " 'Eugene Levy': 26510,\n",
              " 'Lori Alan': 24358,\n",
              " 'Al Pacino': 1158,\n",
              " 'Robert De Niro': 380,\n",
              " 'Val Kilmer': 5576,\n",
              " 'Jon Voight': 10127,\n",
              " 'Tom Sizemore': 3197,\n",
              " 'Diane Venora': 6200,\n",
              " 'Amy Brenneman': 15851,\n",
              " 'Ashley Judd': 15852,\n",
              " 'Natalie Portman': 524,\n",
              " 'Ted Levine': 15854,\n",
              " 'Tom Noonan': 119232,\n",
              " 'Tone Loc': 31004,\n",
              " 'Hank Azaria': 5587,\n",
              " 'Wes Studi': 15853,\n",
              " 'Danny Trejo': 11160,\n",
              " 'Henry Rollins': 9290,\n",
              " 'William Fichtner': 886,\n",
              " 'Kevin Gage': 34839,\n",
              " 'Susan Traylor': 4158,\n",
              " 'Jerry Trimble': 86602,\n",
              " 'Ricky Harris': 158452,\n",
              " 'Jeremy Piven': 12799,\n",
              " 'Xander Berkeley': 3982,\n",
              " 'Begonya Plaza': 181343,\n",
              " 'Rick Avery': 81687,\n",
              " 'Hazelle Goodman': 91756,\n",
              " 'Ray Buktenica': 160970,\n",
              " 'Max Daniels': 175600,\n",
              " 'Vince Deadrick Jr.': 12879,\n",
              " 'Steven Ford': 9258,\n",
              " 'Farrah Forke': 167501,\n",
              " 'Patricia Healy': 95145,\n",
              " 'Paul Herman': 58535,\n",
              " 'Cindy Katz': 161939,\n",
              " 'Brian Libby': 6580,\n",
              " 'Dan Martin': 95796,\n",
              " 'Mario Roberts': 166543,\n",
              " 'Thomas Rosales, Jr.': 43010,\n",
              " 'Yvonne Zima': 37252,\n",
              " 'Mick Gould': 1457709,\n",
              " 'Bud Cort': 4971,\n",
              " 'Viviane Vives': 941147,\n",
              " 'Kim Staunton': 17358,\n",
              " 'Martin Ferrero': 4790,\n",
              " 'Brad Baldridge': 1090464,\n",
              " 'Andrew Camuccio': 1090465,\n",
              " 'Kenny Endoso': 1576419,\n",
              " 'Kimberly Flynn': 106714,\n",
              " 'Niki Harris': 116153,\n",
              " 'Bill McIntosh': 237923,\n",
              " 'Rick Marzan': 4047,\n",
              " 'Terry Miller': 1647138,\n",
              " \"Daniel O'Haco\": 1576553,\n",
              " 'Kai Soremekun': 218094,\n",
              " 'Peter Blackwell': 1491009,\n",
              " 'Trevor Coppola': 1137847,\n",
              " 'Mary Kircher': 1504112,\n",
              " 'Darin Mangan': 1504568,\n",
              " 'Robert Miranda': 20625,\n",
              " 'Manny Perry': 1502517,\n",
              " 'Iva Franks Singer': 114625,\n",
              " 'Tim Werner': 1576562,\n",
              " 'Philip Ettington': 1584544,\n",
              " 'Harrison Ford': 148815,\n",
              " 'Julia Ormond': 15887,\n",
              " 'Greg Kinnear': 17141,\n",
              " 'Angie Dickinson': 4301,\n",
              " 'Nancy Marchand': 12957,\n",
              " 'John Wood': 1372108,\n",
              " 'Richard Crenna': 16554,\n",
              " 'Lauren Holly': 34485,\n",
              " 'Dana Ivey': 13314,\n",
              " 'Fanny Ardant': 20234,\n",
              " 'Patrick Bruel': 73827,\n",
              " 'Paul Giamatti': 13242,\n",
              " 'Miriam Colón': 1163,\n",
              " 'Elizabeth Franz': 138242,\n",
              " 'Valérie Lemercier': 62531,\n",
              " 'Becky Ann Baker': 59206,\n",
              " 'John C. Vennema': 163775,\n",
              " 'Margo Martindale': 452,\n",
              " 'J. Smith-Cameron': 52475,\n",
              " 'Christine Luneau-Lipton': 1853632,\n",
              " 'Michael Dees': 1853633,\n",
              " 'Denis Holmes': 153226,\n",
              " 'Jo-Jo Lowe': 1853634,\n",
              " 'Ira Wheeler': 28029,\n",
              " 'Philippa Cooper': 1853638,\n",
              " 'Ayako Kawahara': 97364,\n",
              " 'François Genty': 1317065,\n",
              " 'Guillaume Gallienne': 6554,\n",
              " 'Inés Sastre': 37918,\n",
              " 'Phina Oruche': 1217813,\n",
              " 'Andrea Behalikova': 1853644,\n",
              " 'Jennifer Herrera': 1115935,\n",
              " 'Kristina Kumlin': 1853645,\n",
              " 'Eva Linderholm': 1853646,\n",
              " 'Carmen Chaplin': 76093,\n",
              " 'Micheline Van de Velde': 1853647,\n",
              " 'Joanna Rhodes': 1853651,\n",
              " 'Alan Boone': 1853653,\n",
              " 'Patrick Forster-Delmas': 1460738,\n",
              " 'Kentaro Matsuo': 1853654,\n",
              " 'Peter McKernan': 1632066,\n",
              " 'Ed Connelly': 1853655,\n",
              " 'Ronald L. Schwary': 4184,\n",
              " 'Alvin Lum': 1853657,\n",
              " 'Siching Song': 1853658,\n",
              " 'Phil Nee': 1357100,\n",
              " 'Randy Becker': 157428,\n",
              " 'Susan Browning': 1211979,\n",
              " 'Anthony Mondal': 1853660,\n",
              " 'Peter Parks': 1853661,\n",
              " 'Woodrow Asai': 1548251,\n",
              " 'Eric Bruno Borgman': 1221663,\n",
              " 'Michael Cline': 1811338,\n",
              " 'Christopher Del Gaudio': 1853663,\n",
              " 'Philippe Hartmann': 1099770,\n",
              " 'Jerry Quinn': 1853664,\n",
              " 'Dori Rosenthal': 1853665,\n",
              " 'Jonathan Taylor Thomas': 53283,\n",
              " 'Brad Renfro': 51214,\n",
              " 'Rachael Leigh Cook': 38581,\n",
              " 'Michael McShane': 8316,\n",
              " 'Amy Wright': 87007,\n",
              " 'Eric Schweig': 57448,\n",
              " 'Tamara Mello': 102313,\n",
              " 'Jean-Claude Van Damme': 15111,\n",
              " 'Powers Boothe': 6280,\n",
              " 'Dorian Harewood': 8656,\n",
              " 'Raymond J. Barry': 10361,\n",
              " 'Ross Malinger': 12928,\n",
              " 'Whittni Wright': 79088,\n",
              " 'Pierce Brosnan': 517,\n",
              " 'Sean Bean': 48,\n",
              " 'Izabella Scorupco': 10695,\n",
              " 'Famke Janssen': 10696,\n",
              " 'Joe Don Baker': 10671,\n",
              " 'Judi Dench': 5309,\n",
              " 'Gottfried John': 3757,\n",
              " 'Robbie Coltrane': 1923,\n",
              " 'Alan Cumming': 10697,\n",
              " 'Tchéky Karyo': 10698,\n",
              " 'Desmond Llewelyn': 9906,\n",
              " 'Samantha Bond': 10699,\n",
              " 'Michael Kitchen': 10648,\n",
              " 'Serena Gordon': 10700,\n",
              " 'Simon Kunz': 10701,\n",
              " 'Billy J. Mitchell': 55911,\n",
              " 'Constantine Gregory': 27425,\n",
              " 'Minnie Driver': 6613,\n",
              " 'Michelle Arthur': 29054,\n",
              " 'Ravil Isyanov': 41742,\n",
              " 'Michael Douglas': 3392,\n",
              " 'Annette Bening': 516,\n",
              " 'Michael J. Fox': 521,\n",
              " 'Martin Sheen': 8349,\n",
              " 'Anna Deavere Smith': 63279,\n",
              " 'Shawna Waldron': 112080,\n",
              " 'Samantha Mathis': 20767,\n",
              " 'David Paymer': 19839,\n",
              " 'Richard Dreyfuss': 3037,\n",
              " 'Nina Siemaszko': 42133,\n",
              " 'Wendie Malick': 61980,\n",
              " 'Beau Billingslea': 78494,\n",
              " 'Gail Strickland': 42003,\n",
              " 'Joshua Malina': 131642,\n",
              " 'Clement von Franckenstein': 43115,\n",
              " 'John Mahoney': 4251,\n",
              " 'John Mahon': 43978,\n",
              " 'Gabriel Jarret': 92808,\n",
              " 'Leslie Nielsen': 7633,\n",
              " 'Mel Brooks': 14639,\n",
              " 'Amy Yasbeck': 1219,\n",
              " 'Peter MacNicol': 12688,\n",
              " 'Lysette Anthony': 12812,\n",
              " 'Harvey Korman': 13640,\n",
              " 'Steven Weber': 6106,\n",
              " 'Mark Blankfield': 29709,\n",
              " 'Megan Cavanagh': 53570,\n",
              " 'Gregg Binkley': 170185,\n",
              " 'Anne Bancroft': 1609647,\n",
              " 'Kevin Bacon': 4724,\n",
              " 'Bob Hoskins': 382,\n",
              " 'Bridget Fonda': 2233,\n",
              " 'Jim Cummings': 1416383,\n",
              " 'Phil Collins': 110001,\n",
              " 'Juliette Brewer': 67386,\n",
              " 'Jack Angel': 19545,\n",
              " 'Danny Mann': 52699,\n",
              " 'Robbie Rist': 77157,\n",
              " 'Sandra Dickinson': 176254,\n",
              " 'Frank Welker': 15831,\n",
              " 'Miriam Margolyes': 6199,\n",
              " 'Lola Bates-Campbell': 1592266,\n",
              " 'Anthony Hopkins': 4173,\n",
              " 'Joan Allen': 11148,\n",
              " 'Ed Harris': 228,\n",
              " 'E.G. Marshall': 5249,\n",
              " 'David Hyde Pierce': 11076,\n",
              " 'Paul Sorvino': 7004,\n",
              " 'Mary Steenburgen': 2453,\n",
              " 'J.T. Walsh': 22131,\n",
              " 'James Woods': 4512,\n",
              " 'Brian Bedford': 70843,\n",
              " 'Kevin Dunn': 14721,\n",
              " 'Fyvush Finkel': 56687,\n",
              " 'Annabeth Gish': 49425,\n",
              " 'Larry Hagman': 6840,\n",
              " 'Madeline Kahn': 29803,\n",
              " 'Dan Hedaya': 6486,\n",
              " 'Bridgette Wilson': 20751,\n",
              " 'Tom Bower': 19453,\n",
              " 'Tony Goldwyn': 3417,\n",
              " 'Edward Herrmann': 52995,\n",
              " 'Tony Lo Bianco': 15183,\n",
              " 'Saul Rubinek': 3712,\n",
              " 'Robert Beltran': 50880,\n",
              " 'John Cunningham': 167561,\n",
              " 'John Diehl': 4942,\n",
              " 'John C. McGinley': 11885,\n",
              " 'Michael Chiklis': 19654,\n",
              " 'Ric Young': 11397,\n",
              " 'Boris Sichkin': 230280,\n",
              " 'Sam Waterston': 8975,\n",
              " 'Marley Shelton': 6407,\n",
              " 'Geena Davis': 16935,\n",
              " 'Matthew Modine': 8654,\n",
              " 'Frank Langella': 8924,\n",
              " 'Maury Chaykin': 7868,\n",
              " 'Patrick Malahide': 8979,\n",
              " 'Stan Shaw': 16936,\n",
              " 'Rex Linn': 16937,\n",
              " 'Paul Dillon': 13925,\n",
              " 'Christopher Masterson': 35769,\n",
              " 'Jimmie F. Skaggs': 133771,\n",
              " 'Harris Yulin': 1166,\n",
              " 'Carl Chase': 127166,\n",
              " 'Peter Geeves': 1220350,\n",
              " 'Angus Wright': 1252814,\n",
              " 'Ken Bones': 91662,\n",
              " 'Mary Peach': 31294,\n",
              " 'Thomas Lockyer': 17202,\n",
              " 'Roger Booth': 1649736,\n",
              " 'George Murcell': 90625,\n",
              " 'Simon Atherton': 1117347,\n",
              " 'Dickey Beer': 1495190,\n",
              " 'Christopher Halliday': 1466675,\n",
              " 'Chris Johnston': 1420324,\n",
              " 'Richard Leaf': 16792,\n",
              " 'Tam White': 2480,\n",
              " 'Rupert Vansittart': 2479,\n",
              " 'Nick Bartlett': 19704,\n",
              " 'David Bailie': 1715,\n",
              " 'Kwame Kwei-Armah': 1221761,\n",
              " 'Ramon Tikaram': 178622,\n",
              " 'Christopher Adamson': 64102,\n",
              " 'Sharon Stone': 4430,\n",
              " 'Joe Pesci': 4517,\n",
              " 'Alan King': 7169,\n",
              " 'Pasquale Cajano': 7165,\n",
              " 'L.Q. Jones': 8262,\n",
              " 'Dick Smothers': 166789,\n",
              " 'Frank Vincent': 7164,\n",
              " 'Oscar Goodman': 7424,\n",
              " 'Richard Riehle': 18262,\n",
              " 'Catherine Scorsese': 11483,\n",
              " 'Vinny Vella': 7168,\n",
              " 'Nobu Matsuhisa': 7425,\n",
              " 'Erika von Tagen': 7423,\n",
              " 'Nick Mazzola': 7444,\n",
              " 'David Rose': 107020,\n",
              " 'John Bloom': 1242423,\n",
              " 'Joseph Rigano': 13605,\n",
              " 'Philip Suriano': 14332,\n",
              " 'Melissa Prophet': 105623,\n",
              " 'Bill Allison': 1574239,\n",
              " 'Joe La Due': 96901,\n",
              " 'Joseph P. Reidy': 7531,\n",
              " 'Craig Vincent': 1738942,\n",
              " 'Carl Ciarfalio': 42824,\n",
              " 'Gene Ruffini': 39599,\n",
              " 'Dominick Grieco': 1204013,\n",
              " 'Clem Caserta': 17921,\n",
              " 'Daniel P. Conte': 120303,\n",
              " 'Joey DePinto': 583419,\n",
              " 'Jack Orend': 572362,\n",
              " 'Jed Mills': 152769,\n",
              " 'Claudia Haro': 553774,\n",
              " 'Ffolliott Le Coque': 1892328,\n",
              " 'John Manca': 1888770,\n",
              " 'Ronald Maccone': 233121,\n",
              " 'Joseph Bono': 1888773,\n",
              " 'Frank Adonis': 4692,\n",
              " 'Anthony Russell': 58474,\n",
              " 'Stuart Nisbet': 1183497,\n",
              " 'Alfred Nittoli': 1644894,\n",
              " 'Kate Winslet': 204,\n",
              " 'Emma Thompson': 7056,\n",
              " 'Hugh Grant': 3291,\n",
              " 'Tom Wilkinson': 207,\n",
              " 'Alan Rickman': 4566,\n",
              " 'Imogen Stubbs': 20769,\n",
              " 'Greg Wise': 16700,\n",
              " 'Hugh Laurie': 41419,\n",
              " 'Imelda Staunton': 11356,\n",
              " 'Robert Hardy': 23076,\n",
              " 'Oliver Ford Davies': 31923,\n",
              " 'James Fleet': 10726,\n",
              " 'Harriet Walter': 17477,\n",
              " 'Gemma Jones': 9138,\n",
              " 'Emilie François': 937907,\n",
              " 'Elizabeth Spriggs': 1220119,\n",
              " 'Richard Lumsden': 141551,\n",
              " 'Tim Roth': 3129,\n",
              " 'Antonio Banderas': 3131,\n",
              " 'Jennifer Beals': 3130,\n",
              " 'Madonna': 3125,\n",
              " 'Marisa Tomei': 3141,\n",
              " 'Bruce Willis': 62,\n",
              " 'Quentin Tarantino': 138,\n",
              " 'Sammi Davis': 3122,\n",
              " 'Amanda de Cadenet': 3123,\n",
              " 'Valeria Golino': 3124,\n",
              " 'Lili Taylor': 3127,\n",
              " 'Lawrence Bender': 2545,\n",
              " 'Ione Skye': 3126,\n",
              " 'Alicia Witt': 3128,\n",
              " 'David Proval': 2555,\n",
              " 'Lana McKissack': 3132,\n",
              " 'Tamlyn Tomita': 3134,\n",
              " 'Kathy Griffin': 3138,\n",
              " 'Paul Calderon': 3137,\n",
              " 'Salma Hayek': 3136,\n",
              " 'Patricia Vonne': 3133,\n",
              " 'Danny Verduzco': 3135,\n",
              " 'Kimberly Blair': 37336,\n",
              " 'Marc Lawrence': 18323,\n",
              " 'Jim Carrey': 206,\n",
              " 'Ian McNeice': 3547,\n",
              " 'Simon Callow': 4001,\n",
              " 'Maynard Eziashi': 57096,\n",
              " 'Bob Gunton': 4029,\n",
              " 'Sophie Okonedo': 2598,\n",
              " 'Tommy Davidson': 88059,\n",
              " 'Adewale Akinnuoye-Agbaje': 31164,\n",
              " 'Danny D. Daniels': 1080060,\n",
              " 'Sam Motoana Phillips': 1080061,\n",
              " 'Damon Standifer': 172354,\n",
              " 'Andrew Steel': 158324,\n",
              " 'Bruce Spence': 27752,\n",
              " 'Tom Grunke': 171303,\n",
              " \"Arsenio 'Sonny' Trinidad\": 1080062,\n",
              " 'Woody Harrelson': 57755,\n",
              " 'Jennifer Lopez': 16866,\n",
              " 'Robert Blake': 1532825,\n",
              " 'Chris Cooper': 2955,\n",
              " 'Joe Grifasi': 4887,\n",
              " 'Scott Sowers': 32287,\n",
              " 'Skipp Sudduth': 33658,\n",
              " 'Aida Turturro': 106791,\n",
              " 'Vincent Pastore': 47774,\n",
              " 'Enrico Colantoni': 15029,\n",
              " 'Bill Nunn': 5502,\n",
              " 'Katie Gill': 203801,\n",
              " 'Jeremy Roberts': 15372,\n",
              " 'Joe Bacino': 1811956,\n",
              " 'John Travolta': 8891,\n",
              " 'Gene Hackman': 193,\n",
              " 'Rene Russo': 14343,\n",
              " 'Danny DeVito': 518,\n",
              " 'Dennis Farina': 1117,\n",
              " 'Delroy Lindo': 18792,\n",
              " 'James Gandolfini': 4691,\n",
              " 'Jon Gries': 9629,\n",
              " 'Renee Props': 53600,\n",
              " 'Miguel Sandoval': 30488,\n",
              " 'Jacob Vargas': 16429,\n",
              " 'Bobby Slayton': 53601,\n",
              " 'Linda Hart': 1107497,\n",
              " 'Jeffrey J. Stephen': 141582,\n",
              " 'Sigourney Weaver': 10205,\n",
              " 'Holly Hunter': 18686,\n",
              " 'Will Patton': 883,\n",
              " 'William McNamara': 18687,\n",
              " 'Harry Connick Jr.': 18688,\n",
              " 'J.E. Freeman': 5169,\n",
              " 'Dermot Mulroney': 20212,\n",
              " 'John Rothman': 60205,\n",
              " \"Shannon O'Hurley\": 154691,\n",
              " 'Bob Greene': 95838,\n",
              " 'Tony Haney': 215904,\n",
              " 'Danny Kovacs': 1074167,\n",
              " 'Tahmus Rounds': 167781,\n",
              " 'Scott Devenney': 1074168,\n",
              " 'David Michael Silverman': 1074169,\n",
              " 'Sylvester Stallone': 16483,\n",
              " 'Julianne Moore': 1231,\n",
              " 'Anatoli Davydov': 58556,\n",
              " 'Muse Watson': 17348,\n",
              " 'Steve Kahan': 14328,\n",
              " 'Kelly Rowan': 47757,\n",
              " 'Reed Diamond': 31508,\n",
              " 'Kai Wulff': 42146,\n",
              " 'Kerry Skalsky': 58557,\n",
              " 'James Douglas Haskins': 58558,\n",
              " 'Stephen Liska': 58559,\n",
              " 'John Harms': 58560,\n",
              " 'Edward J. Rosen': 58561,\n",
              " 'Christina Orchid': 58562,\n",
              " 'Choco Orta': 1611202,\n",
              " 'Germán Legarreta': 543847,\n",
              " 'Sean Patrick Flanery': 54789,\n",
              " 'Lance Henriksen': 2714,\n",
              " 'Jeff Goldblum': 4785,\n",
              " 'Brandon Smith': 427978,\n",
              " 'Nicolas Cage': 2963,\n",
              " 'Elisabeth Shue': 1951,\n",
              " 'Julian Sands': 6104,\n",
              " 'Richard Lewis': 6105,\n",
              " 'Kim Adams': 6107,\n",
              " 'Emily Procter': 6108,\n",
              " 'Stuart Reynolds ': 6109,\n",
              " 'Graham Beckel': 6110,\n",
              " 'Mariska Hargitay': 6240,\n",
              " 'Shawnee Smith': 2138,\n",
              " 'David Kriegel': 52418,\n",
              " 'Laurence Fishburne': 2975,\n",
              " 'Irène Jacob': 1350,\n",
              " 'Kenneth Branagh': 11181,\n",
              " 'Nathaniel Parker': 27631,\n",
              " 'Indra Ové': 232174,\n",
              " 'Michael Maloney': 17483,\n",
              " 'Anna Patrick': 1227643,\n",
              " 'Nicholas Farrell': 32357,\n",
              " 'Michael Sheen': 3968,\n",
              " 'Christina Ricci': 6886,\n",
              " \"Rosie O'Donnell\": 12929,\n",
              " 'Thora Birch': 2155,\n",
              " 'Melanie Griffith': 29369,\n",
              " 'Gaby Hoffmann': 12930,\n",
              " 'Demi Moore': 3416,\n",
              " 'Ashleigh Aston Moore': 114471,\n",
              " 'Rita Wilson': 12931,\n",
              " 'Walter Sparrow': 141521,\n",
              " 'Devon Sawa': 50398,\n",
              " 'Cloris Leachman': 9599,\n",
              " 'Janeane Garofalo': 21197,\n",
              " 'Lolita Davidovich': 12139,\n",
              " 'Brendan Fraser': 18269,\n",
              " 'Amanda Root': 30318,\n",
              " 'Ciarán Hinds': 8785,\n",
              " 'Susan Fleetwood': 87415,\n",
              " 'Fiona Shaw': 10981,\n",
              " 'John Woodvine': 14465,\n",
              " 'Phoebe Nicholls': 3930,\n",
              " 'Samuel West': 54447,\n",
              " 'Sophie Thompson': 32990,\n",
              " 'Judy Cornwell': 45455,\n",
              " 'Simon Russell Beale': 57461,\n",
              " 'Felicity Dean': 42645,\n",
              " 'Roger Hammond': 27660,\n",
              " 'Victoria Hamilton': 55645,\n",
              " 'Corin Redgrave': 13328,\n",
              " 'Emma Roberts': 34847,\n",
              " 'Robert Glenister': 25665,\n",
              " 'Richard McCabe': 7025,\n",
              " 'Helen Schlesinger': 1229181,\n",
              " 'Jane Wood': 1246598,\n",
              " 'David Collings': 1227492,\n",
              " 'Darlene Johnson': 217100,\n",
              " 'Cinnamon Faye': 1840472,\n",
              " 'Isaac Maxwell-Hunt': 1840473,\n",
              " 'Roger Llewellyn': 1073272,\n",
              " 'Sally George': 1241523,\n",
              " 'Lonnie James': 1840474,\n",
              " 'Ron Perlman': 2372,\n",
              " 'Dominique Pinon': 2413,\n",
              " 'Judith Vittet': 13842,\n",
              " 'Daniel Emilfork': 13843,\n",
              " 'Jean-Claude Dreyfus': 13687,\n",
              " 'Geneviève Brunet': 13845,\n",
              " 'Odile Mallet': 13846,\n",
              " 'Mireille Mossé': 4394,\n",
              " 'Serge Merlin': 2410,\n",
              " 'Rufus': 2407,\n",
              " 'Ticky Holgado': 13689,\n",
              " 'Cris Huerta': 100861,\n",
              " 'Jean-Louis Trintignant': 1352,\n",
              " 'Joseph Lucien': 1653016,\n",
              " 'Mapi Galán': 103119,\n",
              " 'Briac Barthélémy': 1653017,\n",
              " 'Pierre-Quentin Faesch': 1653018,\n",
              " 'Alexis Pivot': 131998,\n",
              " 'François Hadji-Lazaro': 77904,\n",
              " 'Dominique Bettenfeld': 28462,\n",
              " 'Lotfi Yahya Jedidi': 77905,\n",
              " 'Thierry Gibault': 240388,\n",
              " 'Marc Caro': 13680,\n",
              " 'Ham-Chau Luong': 992717,\n",
              " 'Frankie Pain': 17618,\n",
              " 'Enrique Villanueva': 1323011,\n",
              " 'Dominique Chevalier': 97062,\n",
              " 'Lorella Cravotta': 2409,\n",
              " 'Éric Houzelot': 580580,\n",
              " 'Philippe Beautier': 1176105,\n",
              " 'Marc Amyot': 1336073,\n",
              " 'Jean-Philippe Labadie': 566292,\n",
              " 'Raphaèle Bouchard': 1048762,\n",
              " 'Elisabeth Etienne': 1330767,\n",
              " 'Rachel Boulenger': 1529774,\n",
              " 'Michel Motu': 1242620,\n",
              " 'Nane Germon': 9745,\n",
              " 'Gong Li': 643,\n",
              " 'Li Bao-Tian': 146097,\n",
              " 'Wang Xiaoxiao': 150151,\n",
              " 'Li Xuejian': 143358,\n",
              " 'Chun Sung': 150152,\n",
              " 'Fu Biao': 150153,\n",
              " 'Michelle Pfeiffer': 1160,\n",
              " 'George Dzundza': 10477,\n",
              " 'Courtney B. Vance': 24047,\n",
              " 'Robin Bartlett': 11902,\n",
              " 'John Neville': 12642,\n",
              " 'Beatrice Winde': 168638,\n",
              " 'Lorraine Toussaint': 81726,\n",
              " 'Renoly Santiago': 28863,\n",
              " 'Wade Dominguez': 975133,\n",
              " 'Bruklin Harris': 188642,\n",
              " 'Mercello Thedford': 1074671,\n",
              " 'Roberto Alvarez': 3621,\n",
              " 'Richard Grant': 1653635,\n",
              " 'Marisela Gonzales': 1074672,\n",
              " 'Toni Nichelle Buzhardt': 1074673,\n",
              " 'Madeleine Stowe': 289,\n",
              " 'Brad Pitt': 287,\n",
              " 'Christopher Plummer': 290,\n",
              " 'David Morse': 52,\n",
              " 'Jon Seda': 288,\n",
              " 'Frank Gorshin': 291,\n",
              " 'Joseph Melito': 975569,\n",
              " 'Aaron Michael Lacey': 1273540,\n",
              " 'Christopher Meloni': 22227,\n",
              " 'Joey Perillo': 1318900,\n",
              " 'LisaGay Hamilton': 534231,\n",
              " 'Matt Ross': 11154,\n",
              " 'Annie Golden': 66094,\n",
              " 'Michael Chance': 1077231,\n",
              " 'Vernon Campbell': 1571784,\n",
              " 'H. Michael Walls': 1571785,\n",
              " 'Bob Adrian': 1328063,\n",
              " 'Simon Jones': 37891,\n",
              " 'Carol Florence': 1077235,\n",
              " 'Bill Raymond': 1732211,\n",
              " 'Ernest Abuba': 59112,\n",
              " 'Irma St. Paule': 155573,\n",
              " 'Rozwill Young': 1571787,\n",
              " 'Nell Johnson': 1571788,\n",
              " 'Frederick Strother': 292,\n",
              " 'Charles Techman': 127069,\n",
              " 'Rick Warner': 163795,\n",
              " \"Anthony 'Chip' Brienza\": 1387844,\n",
              " 'Bruce Kirkpatrick': 163905,\n",
              " 'Wilfred Williams': 1571786,\n",
              " 'Joilet Harris': 1607131,\n",
              " 'Drucie McDaniel': 32800,\n",
              " 'John Blaisse': 1607135,\n",
              " 'Louis Lippa': 1607137,\n",
              " 'Stan Kang': 1607142,\n",
              " 'Pat Dias': 1607143,\n",
              " 'Felix Pire': 1542805,\n",
              " 'Karl Warren': 1607146,\n",
              " 'Joseph McKenna': 141458,\n",
              " 'Stephen Bridgewater': 81692,\n",
              " 'Ray Huffman': 1607153,\n",
              " 'Charley Scalies': 1218075,\n",
              " \"Robert O'Neill\": 1236452,\n",
              " 'Paul Meshejian': 1607160,\n",
              " 'Kevin Thigpen': 171294,\n",
              " \"Harry O'Toole\": 1039871,\n",
              " 'Jann Ellis': 1611167,\n",
              " 'Michael Ryan Segal': 131007,\n",
              " 'Korchenko': 1607168,\n",
              " 'Chuck Jeffreys': 933507,\n",
              " 'Barry Price': 1611166,\n",
              " 'John Panzarella': 60569,\n",
              " 'Janet Zappala': 1611170,\n",
              " 'Lisa Talerico': 568367,\n",
              " 'Tiffany Baldwin': 1607174,\n",
              " 'C.J. Byrnes': 7528,\n",
              " 'Tom Detrik': 1298410,\n",
              " 'Joe Gerety': 1611142,\n",
              " 'Renee Spei': 1611143,\n",
              " 'Bonnie Loev': 1611164,\n",
              " 'Raymond Mamrak': 1106629,\n",
              " 'Sal Mazzotta': 127620,\n",
              " 'Allelon Ruggiero': 2696,\n",
              " 'Thang': 1611197,\n",
              " 'Craig Sheffer': 4138,\n",
              " 'Elizabeth McGovern': 4513,\n",
              " 'Tom Hulce': 3999,\n",
              " 'Ken Pogue': 58406,\n",
              " 'Ron Sauvé': 554094,\n",
              " 'Freddy Andreiuci': 156330,\n",
              " 'Christine Cavanaugh': 58136,\n",
              " 'Hugo Weaving': 1331,\n",
              " 'Miriam Flynn': 35109,\n",
              " 'James Cromwell': 2505,\n",
              " 'Russi Taylor': 6035,\n",
              " 'Evelyn Krape': 1080206,\n",
              " 'Michael Edward-Stevens': 1080207,\n",
              " 'Charles Bartlett': 1229258,\n",
              " 'Paul Livingston': 61351,\n",
              " 'Roscoe Lee Browne': 24368,\n",
              " 'Magda Szubanski': 45586,\n",
              " 'Zoe Burton': 1080208,\n",
              " 'Paul Goddard': 9380,\n",
              " 'Wade Hayward': 1080209,\n",
              " 'Brittany Byrnes': 210276,\n",
              " 'Mary Acres': 75934,\n",
              " 'Jonathan Pryce': 378,\n",
              " 'Steven Waddington': 27764,\n",
              " 'Rufus Sewell': 17328,\n",
              " 'Penelope Wilton': 1249,\n",
              " 'Janet McTeer': 47627,\n",
              " 'Jeremy Northam': 18325,\n",
              " 'Alex Kingston': 83701,\n",
              " 'Richard Clifford': 186389,\n",
              " 'David Ryall': 27822,\n",
              " 'Stephen Boxer': 47943,\n",
              " 'Susan Sarandon': 4038,\n",
              " 'Sean Penn': 2228,\n",
              " 'Robert Prosky': 10360,\n",
              " 'Celia Weston': 1989,\n",
              " 'Lois Smith': 2207,\n",
              " 'Scott Wilson': 6914,\n",
              " 'Roberta Maxwell': 10362,\n",
              " 'Jack Black': 70851,\n",
              " 'Ray Aranha': 10366,\n",
              " 'Peter Sarsgaard': 133,\n",
              " 'Barton Heyman': 79732,\n",
              " 'Steve Boles': 1183429,\n",
              " 'Nesbitt Blaisdell': 21152,\n",
              " 'Larry Pine': 19511,\n",
              " 'Kevin Cooney': 25711,\n",
              " 'Clancy Brown': 6574,\n",
              " 'Michael Cullen': 1232566,\n",
              " 'Missy Yager': 51384,\n",
              " 'Jenny Krochmal': 1237883,\n",
              " 'Jon Abrahams': 17866,\n",
              " 'Arthur Bridgers': 1223451,\n",
              " 'Steve Carlisle': 95940,\n",
              " 'Eva Amurri Martino': 56757,\n",
              " 'Jack Henry Robbins': 1366946,\n",
              " 'Dennis Neal': 93679,\n",
              " 'Molly Bryant': 62570,\n",
              " 'Adele Robbins': 1591178,\n",
              " 'Pete Burris': 1371000,\n",
              " 'Joan Glover': 1407052,\n",
              " 'Lenore Banks': 20765,\n",
              " 'Cortez Nance Jr.': 75611,\n",
              " 'Adam Nelson': 4732,\n",
              " 'Jeremy Knaster': 108147,\n",
              " 'Marcus Lyle Brown': 16460,\n",
              " 'Anthony Michael Frederick': 1411679,\n",
              " 'Thomas McGowan': 1191341,\n",
              " 'Codie Scott': 1463362,\n",
              " 'Helen Prejean': 10298,\n",
              " 'Peter Reznick': 1467084,\n",
              " 'John McDonough': 1467085,\n",
              " 'Avi Hoffman': 1467086,\n",
              " 'Matt Malloy': 19208,\n",
              " 'Abby Lewis': 1218074,\n",
              " 'Kirstie Alley': 1796,\n",
              " 'Steve Guttenberg': 26472,\n",
              " 'Ashley Olsen': 67848,\n",
              " 'Mary-Kate Olsen': 67849,\n",
              " 'Jane Sibbett': 92255,\n",
              " 'Philip Bosco': 6541,\n",
              " 'Michelle Grisom': 1331570,\n",
              " 'Desmond Robertson': 1329538,\n",
              " 'Tiny Mills': 1331571,\n",
              " 'Shanelle Henry': 1331572,\n",
              " 'Michèle Lonsdale Smith': 1331573,\n",
              " 'Sean Orr': 1331574,\n",
              " 'Elizabeth Walsh': 1331575,\n",
              " 'Alicia Silverstone': 5588,\n",
              " 'Stacey Dash': 58150,\n",
              " 'Brittany Murphy': 328,\n",
              " 'Paul Rudd': 22226,\n",
              " 'Donald Faison': 49002,\n",
              " 'Elisa Donovan': 58151,\n",
              " 'Breckin Meyer': 33654,\n",
              " 'Jeremy Sisto': 23958,\n",
              " 'Twink Caplan': 66160,\n",
              " 'Justin Walker': 30881,\n",
              " 'Julie Brown': 1380003,\n",
              " 'Nicole Bilderback': 17775,\n",
              " 'James Earl Jones': 15152,\n",
              " 'Charles S. Dutton': 17764,\n",
              " 'Jack Robinson': 123831,\n",
              " 'Tsholofelo Wechoemang': 123833,\n",
              " 'Ramalao Makhene': 123834,\n",
              " 'Richard Harris': 194,\n",
              " 'Dolly Rathebe': 89307,\n",
              " 'Jennifer Steyn': 111179,\n",
              " 'Ian Roberts': 1224391,\n",
              " 'David Clatworthy': 1073473,\n",
              " 'Ian McKellen': 1327,\n",
              " 'Jim Broadbent': 388,\n",
              " 'Kristin Scott Thomas': 5470,\n",
              " 'Adrian Dunbar': 42566,\n",
              " 'Maggie Smith': 10978,\n",
              " 'Tim McInnerny': 41043,\n",
              " 'Robert Downey Jr.': 3223,\n",
              " 'Edward Hardwicke': 3545,\n",
              " 'Nigel Hawthorne': 15788,\n",
              " 'Jim Carter': 20070,\n",
              " 'Dominic West': 17287,\n",
              " 'Bill Paterson': 104795,\n",
              " 'Donald Sumpter': 20425,\n",
              " 'James Dreyfus': 7027,\n",
              " 'Derek Lyons': 1271092,\n",
              " 'Larenz Tate': 18291,\n",
              " 'Keith David': 65827,\n",
              " 'Chris Tucker': 66,\n",
              " 'Freddy Rodríguez': 6862,\n",
              " 'Rose Jackson': 69447,\n",
              " \"N'Bushe Wright\": 10824,\n",
              " 'Clifton Powell': 58924,\n",
              " 'Terrence Howard': 1612074,\n",
              " 'Bokeem Woodbine': 71913,\n",
              " 'Sticky Fingaz': 1277051,\n",
              " 'Clifton Collins Jr': 5365,\n",
              " 'Elizabeth Rodriguez': 65421,\n",
              " 'Michael Imperioli': 11486,\n",
              " 'Meg Ryan': 5344,\n",
              " 'Sam Neill': 4783,\n",
              " 'David Thewlis': 11207,\n",
              " 'Polly Walker': 6416,\n",
              " 'Ian McDiarmid': 27762,\n",
              " 'Mary MacLeod': 97170,\n",
              " 'Willie Ross': 1229022,\n",
              " 'Christopher Lambert': 38559,\n",
              " 'Robin Shou': 57250,\n",
              " 'Linden Ashby': 57251,\n",
              " 'Cary-Hiroyuki Tagawa': 11398,\n",
              " 'Talisa Soto': 10680,\n",
              " 'Trevor Goddard': 57252,\n",
              " 'Chris Casamassa': 57253,\n",
              " 'François Petit': 57254,\n",
              " 'Keith Cooke': 57255,\n",
              " 'Ed Boon': 57256,\n",
              " 'Nicole Kidman': 2227,\n",
              " 'Matt Dillon': 2876,\n",
              " 'Joaquin Phoenix': 73421,\n",
              " 'Casey Affleck': 1893,\n",
              " 'Illeana Douglas': 7796,\n",
              " 'Alison Folland': 2841,\n",
              " 'Wayne Knight': 4201,\n",
              " 'David Cronenberg': 224,\n",
              " 'Kurtwood Smith': 2115,\n",
              " 'Holland Taylor': 11318,\n",
              " 'Maria Tucci': 1217646,\n",
              " 'Tim Hopper': 33835,\n",
              " 'Winona Ryder': 1920,\n",
              " 'Ellen Burstyn': 9560,\n",
              " 'Kate Nelligan': 18794,\n",
              " 'Jean Simmons': 14500,\n",
              " 'Maya Angelou': 54424,\n",
              " 'Alfre Woodard': 1981,\n",
              " 'Kate Capshaw': 689,\n",
              " 'Rip Torn': 9626,\n",
              " 'Johnathon Schaech': 51670,\n",
              " 'Joanna Going': 59662,\n",
              " 'Esther Rolle': 5700,\n",
              " 'Jared Leto': 7499,\n",
              " 'Claire Danes': 6194,\n",
              " 'Lecy Goranson': 78788,\n",
              " 'Tim Guinee': 40275,\n",
              " \"Derrick O'Connor\": 14325,\n",
              " 'Loren Dean': 11628,\n",
              " 'Melinda Dillon': 4778,\n",
              " 'Richard Jenkins': 28633,\n",
              " 'Denis Arndt': 10480,\n",
              " 'Adam Baldwin': 2059,\n",
              " 'Michael McElroy': 159435,\n",
              " 'Ari Meyers': 465117,\n",
              " 'Jane Alden': 33497,\n",
              " 'Tamala Jones': 59154,\n",
              " \"Rae'Ven Larrymore Kelly\": 18346,\n",
              " 'Alicia Goranson': 1346644,\n",
              " 'Will Estes': 32363,\n",
              " 'Morgan Freeman': 192,\n",
              " 'Gwyneth Paltrow': 12052,\n",
              " 'Kevin Spacey': 1979,\n",
              " 'Richard Roundtree': 6487,\n",
              " 'Richard Schiff': 31028,\n",
              " 'Julie Araskog': 1558263,\n",
              " 'Mark Boone Junior': 534,\n",
              " 'John Cassini': 12055,\n",
              " 'Reg E. Cathey': 38951,\n",
              " 'Peter Crombie': 30487,\n",
              " 'Hawthorne James': 12056,\n",
              " 'Michael Massee': 9289,\n",
              " 'Leland Orser': 2221,\n",
              " 'Richard Portnow': 4255,\n",
              " 'Daniel Zacapa': 12054,\n",
              " 'Alfonso Freeman': 52603,\n",
              " 'Harris Savides': 10688,\n",
              " 'Andrew Kevin Walker': 12047,\n",
              " 'Richmond Arquette': 7472,\n",
              " 'Pamala Tyson': 128203,\n",
              " 'Emily Wagner': 1174022,\n",
              " 'Shannon Wilcox': 95469,\n",
              " 'George Christy': 1583695,\n",
              " 'Endre Hules': 43461,\n",
              " 'William Davidson': 1025337,\n",
              " 'Bob Collins': 1055173,\n",
              " 'Dominique Jennings': 95200,\n",
              " 'Allan Kolman': 31533,\n",
              " 'Gene Borkan': 152638,\n",
              " 'Mario Di Donato': 176969,\n",
              " 'Harrison White': 1487328,\n",
              " 'Bob Stephenson': 17449,\n",
              " 'Michael Reid MacKay': 174037,\n",
              " 'Lennie Loftin': 42200,\n",
              " 'Martin Serene': 1107809,\n",
              " 'David Correia': 91843,\n",
              " 'Lexie Bigham': 9783,\n",
              " 'Evan Mirand': 175120,\n",
              " 'Paul Eckstein': 1492029,\n",
              " 'Rachel Flanagan': 1114784,\n",
              " 'Heidi Schanz': 11321,\n",
              " 'Brian Evers': 168162,\n",
              " 'James Deeth': 54433,\n",
              " 'Charles A. Tamburro': 16563,\n",
              " 'Arthur Max': 944,\n",
              " 'Irene Bedard': 65529,\n",
              " 'Mel Gibson': 2461,\n",
              " 'David Ogden Stiers': 28010,\n",
              " 'John Kassir': 31365,\n",
              " 'Russell Means': 3203,\n",
              " 'Christian Bale': 3894,\n",
              " 'Judy Kuhn': 110316,\n",
              " 'Linda Hunt': 12516,\n",
              " 'Billy Connolly': 9188,\n",
              " 'Joe Baker': 181486,\n",
              " 'Michelle St. John': 163070,\n",
              " 'James Apaumut Fall': 950126,\n",
              " 'Gordon Tootoosis': 37430,\n",
              " 'Pascale Bussières': 54818,\n",
              " 'Rachael Crawford': 54819,\n",
              " 'Henry Czerny': 15319,\n",
              " 'Don McKellar': 20173,\n",
              " 'Stephen Baldwin': 9045,\n",
              " 'Gabriel Byrne': 5168,\n",
              " 'Chazz Palminteri': 9046,\n",
              " 'Pete Postlethwaite': 4935,\n",
              " 'Suzy Amis': 2179,\n",
              " 'Giancarlo Esposito': 4808,\n",
              " 'Benicio del Toro': 1121,\n",
              " 'Paul Bartel': 1001626,\n",
              " 'Carl Bressler': 56166,\n",
              " 'Christine Estabrook': 9047,\n",
              " 'Clark Gregg': 9048,\n",
              " 'Morgan Hunter': 156227,\n",
              " 'Louis Lombardi': 3218,\n",
              " 'Frank Medrano': 1216752,\n",
              " 'Ron Gilbert': 1235937,\n",
              " 'Cynthia Rothrock': 74375,\n",
              " 'Marshall R. Teague': 63941,\n",
              " 'Daniel McVicar': 1093379,\n",
              " 'Lydie Denier': 42137,\n",
              " \"John O'Leary\": 53552,\n",
              " 'Art Camacho': 112159,\n",
              " 'Robert Miano': 62715,\n",
              " 'Woody Allen': 1243,\n",
              " 'Mira Sorvino': 23931,\n",
              " 'Helena Bonham Carter': 1283,\n",
              " 'F. Murray Abraham': 1164,\n",
              " 'Donald Symington': 10560,\n",
              " 'Claire Bloom': 29545,\n",
              " 'Olympia Dukakis': 3019,\n",
              " 'Michael Rapaport': 4688,\n",
              " 'Jack Warden': 5251,\n",
              " 'Peter Weller': 27811,\n",
              " 'Danielle Ferland': 1161048,\n",
              " 'Enrico Lo Verso': 27392,\n",
              " 'Michele Placido': 25819,\n",
              " 'Piro Milkani': 1149435,\n",
              " 'Carmelo Di Mazzarelli': 1180060,\n",
              " 'Marjeta Ljarja': 1904515,\n",
              " \"Olivia d'Abo\": 46423,\n",
              " 'Jay O. Sanders': 6067,\n",
              " 'John Terry': 8659,\n",
              " 'Bug Hall': 69395,\n",
              " 'Jessica Robertson': 148587,\n",
              " 'Patrick Renna': 69740,\n",
              " 'Billy L. Sullivan': 21735,\n",
              " 'Chauncey Leopardi': 88599,\n",
              " 'Jordan Brower': 137391,\n",
              " 'Hayley Kolb': 148591,\n",
              " 'Haley Miller': 148593,\n",
              " 'Ashley Welch': 148594,\n",
              " 'Jennifer Jason Leigh': 10431,\n",
              " 'Mare Winningham': 51544,\n",
              " 'Max Perlich': 7268,\n",
              " 'John Doe': 545113,\n",
              " 'John C. Reilly': 4764,\n",
              " 'Jimmy Witherspoon': 590356,\n",
              " 'Jason Carter': 563564,\n",
              " 'Johnny Morina': 198643,\n",
              " 'Malcolm McDowell': 56890,\n",
              " 'Maggie Castle': 41743,\n",
              " 'James Rae': 1569328,\n",
              " 'Michael Ironside': 11086,\n",
              " 'Charles Durning': 1466,\n",
              " 'Dylan McDermott': 32597,\n",
              " 'Geraldine Chaplin': 400,\n",
              " 'David Strathairn': 11064,\n",
              " 'Cynthia Stevenson': 65528,\n",
              " 'Philippe Noiret': 24366,\n",
              " 'Massimo Troisi': 67792,\n",
              " 'Maria Grazia Cucinotta': 10777,\n",
              " 'Renato Scarpa': 14149,\n",
              " 'Linda Moretti': 538696,\n",
              " 'Mariano Rigillo': 24290,\n",
              " 'Anna Bonaiuto': 225301,\n",
              " 'Simona Caparrini': 1351952,\n",
              " 'Carlo Di Maio': 1352578,\n",
              " 'Nando Neri': 1352580,\n",
              " ...}"
            ]
          },
          "metadata": {
            "tags": []
          },
          "execution_count": 28
        }
      ]
    },
    {
      "cell_type": "code",
      "metadata": {
        "id": "TAY9ijAH13Qp"
      },
      "source": [
        "def get_cast_number(row):\n",
        "  if len(row) == 0:\n",
        "    return 0\n",
        "  else:\n",
        "    array = np.vectorize(castDict.get)(row)\n",
        "    return sum(array)"
      ],
      "execution_count": null,
      "outputs": []
    },
    {
      "cell_type": "code",
      "metadata": {
        "id": "ogM0s__i55HE"
      },
      "source": [
        "df1['castNum'] = df1['cast'].apply(lambda x: get_cast_number(x))"
      ],
      "execution_count": null,
      "outputs": []
    },
    {
      "cell_type": "code",
      "metadata": {
        "id": "uP5LkR3VrzUp",
        "colab": {
          "base_uri": "https://localhost:8080/",
          "height": 289
        },
        "outputId": "b76171a6-d2f5-48a7-a03b-e19275d1e6d7"
      },
      "source": [
        "df1.head()"
      ],
      "execution_count": null,
      "outputs": [
        {
          "output_type": "execute_result",
          "data": {
            "text/html": [
              "<div>\n",
              "<style scoped>\n",
              "    .dataframe tbody tr th:only-of-type {\n",
              "        vertical-align: middle;\n",
              "    }\n",
              "\n",
              "    .dataframe tbody tr th {\n",
              "        vertical-align: top;\n",
              "    }\n",
              "\n",
              "    .dataframe thead th {\n",
              "        text-align: right;\n",
              "    }\n",
              "</style>\n",
              "<table border=\"1\" class=\"dataframe\">\n",
              "  <thead>\n",
              "    <tr style=\"text-align: right;\">\n",
              "      <th></th>\n",
              "      <th>cast</th>\n",
              "      <th>id</th>\n",
              "      <th>keywords</th>\n",
              "      <th>adult</th>\n",
              "      <th>genres</th>\n",
              "      <th>original_language</th>\n",
              "      <th>popularity</th>\n",
              "      <th>release_date</th>\n",
              "      <th>revenue</th>\n",
              "      <th>title</th>\n",
              "      <th>vote_average</th>\n",
              "      <th>vote_count</th>\n",
              "      <th>castNum</th>\n",
              "    </tr>\n",
              "  </thead>\n",
              "  <tbody>\n",
              "    <tr>\n",
              "      <th>0</th>\n",
              "      <td>[Tom Hanks, Tim Allen, Don Rickles, Jim Varney...</td>\n",
              "      <td>862</td>\n",
              "      <td>[jealousy, toy, boy, friendship, friends, riva...</td>\n",
              "      <td>False</td>\n",
              "      <td>[Animation, Comedy, Family]</td>\n",
              "      <td>en</td>\n",
              "      <td>21.9469</td>\n",
              "      <td>1995-10-30</td>\n",
              "      <td>373554033.0</td>\n",
              "      <td>Toy Story</td>\n",
              "      <td>7.7</td>\n",
              "      <td>5415.0</td>\n",
              "      <td>1629167</td>\n",
              "    </tr>\n",
              "    <tr>\n",
              "      <th>1</th>\n",
              "      <td>[Robin Williams, Jonathan Hyde, Kirsten Dunst,...</td>\n",
              "      <td>8844</td>\n",
              "      <td>[board game, disappearance, based on children'...</td>\n",
              "      <td>False</td>\n",
              "      <td>[Adventure, Fantasy, Family]</td>\n",
              "      <td>en</td>\n",
              "      <td>17.0155</td>\n",
              "      <td>1995-12-15</td>\n",
              "      <td>262797249.0</td>\n",
              "      <td>Jumanji</td>\n",
              "      <td>6.9</td>\n",
              "      <td>2413.0</td>\n",
              "      <td>12868921</td>\n",
              "    </tr>\n",
              "    <tr>\n",
              "      <th>2</th>\n",
              "      <td>[Walter Matthau, Jack Lemmon, Ann-Margret, Sop...</td>\n",
              "      <td>15602</td>\n",
              "      <td>[fishing, best friend, duringcreditsstinger, o...</td>\n",
              "      <td>False</td>\n",
              "      <td>[Romance, Comedy]</td>\n",
              "      <td>en</td>\n",
              "      <td>11.7129</td>\n",
              "      <td>1995-12-22</td>\n",
              "      <td>0.0</td>\n",
              "      <td>Grumpier Old Men</td>\n",
              "      <td>6.5</td>\n",
              "      <td>92.0</td>\n",
              "      <td>64590</td>\n",
              "    </tr>\n",
              "    <tr>\n",
              "      <th>3</th>\n",
              "      <td>[Whitney Houston, Angela Bassett, Loretta Devi...</td>\n",
              "      <td>31357</td>\n",
              "      <td>[based on novel, interracial relationship, sin...</td>\n",
              "      <td>False</td>\n",
              "      <td>[Comedy, Drama, Romance]</td>\n",
              "      <td>en</td>\n",
              "      <td>3.85949</td>\n",
              "      <td>1995-12-22</td>\n",
              "      <td>81452156.0</td>\n",
              "      <td>Waiting to Exhale</td>\n",
              "      <td>6.1</td>\n",
              "      <td>34.0</td>\n",
              "      <td>1467529</td>\n",
              "    </tr>\n",
              "    <tr>\n",
              "      <th>4</th>\n",
              "      <td>[Steve Martin, Diane Keaton, Martin Short, Kim...</td>\n",
              "      <td>11862</td>\n",
              "      <td>[baby, midlife crisis, confidence, aging, daug...</td>\n",
              "      <td>False</td>\n",
              "      <td>[Comedy]</td>\n",
              "      <td>en</td>\n",
              "      <td>8.38752</td>\n",
              "      <td>1995-02-10</td>\n",
              "      <td>76578911.0</td>\n",
              "      <td>Father of the Bride Part II</td>\n",
              "      <td>5.7</td>\n",
              "      <td>173.0</td>\n",
              "      <td>1083159</td>\n",
              "    </tr>\n",
              "  </tbody>\n",
              "</table>\n",
              "</div>"
            ],
            "text/plain": [
              "                                                cast  ...   castNum\n",
              "0  [Tom Hanks, Tim Allen, Don Rickles, Jim Varney...  ...   1629167\n",
              "1  [Robin Williams, Jonathan Hyde, Kirsten Dunst,...  ...  12868921\n",
              "2  [Walter Matthau, Jack Lemmon, Ann-Margret, Sop...  ...     64590\n",
              "3  [Whitney Houston, Angela Bassett, Loretta Devi...  ...   1467529\n",
              "4  [Steve Martin, Diane Keaton, Martin Short, Kim...  ...   1083159\n",
              "\n",
              "[5 rows x 13 columns]"
            ]
          },
          "metadata": {
            "tags": []
          },
          "execution_count": 31
        }
      ]
    },
    {
      "cell_type": "markdown",
      "metadata": {
        "id": "FuRs8gOhriVG"
      },
      "source": [
        "## Find Genre Number for Each Movie"
      ]
    },
    {
      "cell_type": "code",
      "metadata": {
        "id": "Qagrh7G-btaA"
      },
      "source": [
        "def convert_genres(row):\n",
        "  sum = 0\n",
        "  for i in row:\n",
        "    for j in i:\n",
        "      sum+=ord(j)\n",
        "  return sum"
      ],
      "execution_count": null,
      "outputs": []
    },
    {
      "cell_type": "code",
      "metadata": {
        "id": "up2Gw6zwcMCD"
      },
      "source": [
        "df1['genreNum'] = df1['genres'].apply(lambda x: convert_genres(x))"
      ],
      "execution_count": null,
      "outputs": []
    },
    {
      "cell_type": "code",
      "metadata": {
        "id": "D0ozE01QiEDb",
        "colab": {
          "base_uri": "https://localhost:8080/",
          "height": 289
        },
        "outputId": "94f32940-149a-49c0-9013-8abdd2db2631"
      },
      "source": [
        "df1.head()"
      ],
      "execution_count": null,
      "outputs": [
        {
          "output_type": "execute_result",
          "data": {
            "text/html": [
              "<div>\n",
              "<style scoped>\n",
              "    .dataframe tbody tr th:only-of-type {\n",
              "        vertical-align: middle;\n",
              "    }\n",
              "\n",
              "    .dataframe tbody tr th {\n",
              "        vertical-align: top;\n",
              "    }\n",
              "\n",
              "    .dataframe thead th {\n",
              "        text-align: right;\n",
              "    }\n",
              "</style>\n",
              "<table border=\"1\" class=\"dataframe\">\n",
              "  <thead>\n",
              "    <tr style=\"text-align: right;\">\n",
              "      <th></th>\n",
              "      <th>cast</th>\n",
              "      <th>id</th>\n",
              "      <th>keywords</th>\n",
              "      <th>adult</th>\n",
              "      <th>genres</th>\n",
              "      <th>original_language</th>\n",
              "      <th>popularity</th>\n",
              "      <th>release_date</th>\n",
              "      <th>revenue</th>\n",
              "      <th>title</th>\n",
              "      <th>vote_average</th>\n",
              "      <th>vote_count</th>\n",
              "      <th>castNum</th>\n",
              "      <th>genreNum</th>\n",
              "    </tr>\n",
              "  </thead>\n",
              "  <tbody>\n",
              "    <tr>\n",
              "      <th>0</th>\n",
              "      <td>[Tom Hanks, Tim Allen, Don Rickles, Jim Varney...</td>\n",
              "      <td>862</td>\n",
              "      <td>[jealousy, toy, boy, friendship, friends, riva...</td>\n",
              "      <td>False</td>\n",
              "      <td>[Animation, Comedy, Family]</td>\n",
              "      <td>en</td>\n",
              "      <td>21.9469</td>\n",
              "      <td>1995-10-30</td>\n",
              "      <td>373554033.0</td>\n",
              "      <td>Toy Story</td>\n",
              "      <td>7.7</td>\n",
              "      <td>5415.0</td>\n",
              "      <td>1629167</td>\n",
              "      <td>2147</td>\n",
              "    </tr>\n",
              "    <tr>\n",
              "      <th>1</th>\n",
              "      <td>[Robin Williams, Jonathan Hyde, Kirsten Dunst,...</td>\n",
              "      <td>8844</td>\n",
              "      <td>[board game, disappearance, based on children'...</td>\n",
              "      <td>False</td>\n",
              "      <td>[Adventure, Fantasy, Family]</td>\n",
              "      <td>en</td>\n",
              "      <td>17.0155</td>\n",
              "      <td>1995-12-15</td>\n",
              "      <td>262797249.0</td>\n",
              "      <td>Jumanji</td>\n",
              "      <td>6.9</td>\n",
              "      <td>2413.0</td>\n",
              "      <td>12868921</td>\n",
              "      <td>2278</td>\n",
              "    </tr>\n",
              "    <tr>\n",
              "      <th>2</th>\n",
              "      <td>[Walter Matthau, Jack Lemmon, Ann-Margret, Sop...</td>\n",
              "      <td>15602</td>\n",
              "      <td>[fishing, best friend, duringcreditsstinger, o...</td>\n",
              "      <td>False</td>\n",
              "      <td>[Romance, Comedy]</td>\n",
              "      <td>en</td>\n",
              "      <td>11.7129</td>\n",
              "      <td>1995-12-22</td>\n",
              "      <td>0.0</td>\n",
              "      <td>Grumpier Old Men</td>\n",
              "      <td>6.5</td>\n",
              "      <td>92.0</td>\n",
              "      <td>64590</td>\n",
              "      <td>1318</td>\n",
              "    </tr>\n",
              "    <tr>\n",
              "      <th>3</th>\n",
              "      <td>[Whitney Houston, Angela Bassett, Loretta Devi...</td>\n",
              "      <td>31357</td>\n",
              "      <td>[based on novel, interracial relationship, sin...</td>\n",
              "      <td>False</td>\n",
              "      <td>[Comedy, Drama, Romance]</td>\n",
              "      <td>en</td>\n",
              "      <td>3.85949</td>\n",
              "      <td>1995-12-22</td>\n",
              "      <td>81452156.0</td>\n",
              "      <td>Waiting to Exhale</td>\n",
              "      <td>6.1</td>\n",
              "      <td>34.0</td>\n",
              "      <td>1467529</td>\n",
              "      <td>1803</td>\n",
              "    </tr>\n",
              "    <tr>\n",
              "      <th>4</th>\n",
              "      <td>[Steve Martin, Diane Keaton, Martin Short, Kim...</td>\n",
              "      <td>11862</td>\n",
              "      <td>[baby, midlife crisis, confidence, aging, daug...</td>\n",
              "      <td>False</td>\n",
              "      <td>[Comedy]</td>\n",
              "      <td>en</td>\n",
              "      <td>8.38752</td>\n",
              "      <td>1995-02-10</td>\n",
              "      <td>76578911.0</td>\n",
              "      <td>Father of the Bride Part II</td>\n",
              "      <td>5.7</td>\n",
              "      <td>173.0</td>\n",
              "      <td>1083159</td>\n",
              "      <td>609</td>\n",
              "    </tr>\n",
              "  </tbody>\n",
              "</table>\n",
              "</div>"
            ],
            "text/plain": [
              "                                                cast     id  ...   castNum genreNum\n",
              "0  [Tom Hanks, Tim Allen, Don Rickles, Jim Varney...    862  ...   1629167     2147\n",
              "1  [Robin Williams, Jonathan Hyde, Kirsten Dunst,...   8844  ...  12868921     2278\n",
              "2  [Walter Matthau, Jack Lemmon, Ann-Margret, Sop...  15602  ...     64590     1318\n",
              "3  [Whitney Houston, Angela Bassett, Loretta Devi...  31357  ...   1467529     1803\n",
              "4  [Steve Martin, Diane Keaton, Martin Short, Kim...  11862  ...   1083159      609\n",
              "\n",
              "[5 rows x 14 columns]"
            ]
          },
          "metadata": {
            "tags": []
          },
          "execution_count": 34
        }
      ]
    },
    {
      "cell_type": "markdown",
      "metadata": {
        "id": "6OgGRTAdrlV6"
      },
      "source": [
        "## Convert Title to Number"
      ]
    },
    {
      "cell_type": "code",
      "metadata": {
        "id": "nCDCFNTBDO0Q",
        "colab": {
          "base_uri": "https://localhost:8080/",
          "height": 241
        },
        "outputId": "3838b550-e500-4ec0-df5f-eb8158b67886"
      },
      "source": [
        "df1[df1['title'].apply(lambda x: isinstance(x, float))]"
      ],
      "execution_count": null,
      "outputs": [
        {
          "output_type": "execute_result",
          "data": {
            "text/html": [
              "<div>\n",
              "<style scoped>\n",
              "    .dataframe tbody tr th:only-of-type {\n",
              "        vertical-align: middle;\n",
              "    }\n",
              "\n",
              "    .dataframe tbody tr th {\n",
              "        vertical-align: top;\n",
              "    }\n",
              "\n",
              "    .dataframe thead th {\n",
              "        text-align: right;\n",
              "    }\n",
              "</style>\n",
              "<table border=\"1\" class=\"dataframe\">\n",
              "  <thead>\n",
              "    <tr style=\"text-align: right;\">\n",
              "      <th></th>\n",
              "      <th>cast</th>\n",
              "      <th>id</th>\n",
              "      <th>keywords</th>\n",
              "      <th>adult</th>\n",
              "      <th>genres</th>\n",
              "      <th>original_language</th>\n",
              "      <th>popularity</th>\n",
              "      <th>release_date</th>\n",
              "      <th>revenue</th>\n",
              "      <th>title</th>\n",
              "      <th>vote_average</th>\n",
              "      <th>vote_count</th>\n",
              "      <th>castNum</th>\n",
              "      <th>genreNum</th>\n",
              "    </tr>\n",
              "  </thead>\n",
              "  <tbody>\n",
              "    <tr>\n",
              "      <th>19729</th>\n",
              "      <td>[Rob Lowe, Kenneth Cranham, Deborah Moore, Han...</td>\n",
              "      <td>82663</td>\n",
              "      <td>[undercover, soldier]</td>\n",
              "      <td>False</td>\n",
              "      <td>[Action, Thriller, Drama]</td>\n",
              "      <td>en</td>\n",
              "      <td>NaN</td>\n",
              "      <td>NaN</td>\n",
              "      <td>NaN</td>\n",
              "      <td>NaN</td>\n",
              "      <td>NaN</td>\n",
              "      <td>NaN</td>\n",
              "      <td>1306618</td>\n",
              "      <td>1929</td>\n",
              "    </tr>\n",
              "    <tr>\n",
              "      <th>29515</th>\n",
              "      <td>[Megumi Hayashibara, Hiroki Touchi, Kazuya Nak...</td>\n",
              "      <td>122662</td>\n",
              "      <td>[artificial intelligence, based on novel, cybe...</td>\n",
              "      <td>False</td>\n",
              "      <td>[Animation, Science Fiction]</td>\n",
              "      <td>ja</td>\n",
              "      <td>NaN</td>\n",
              "      <td>NaN</td>\n",
              "      <td>NaN</td>\n",
              "      <td>NaN</td>\n",
              "      <td>NaN</td>\n",
              "      <td>NaN</td>\n",
              "      <td>947733</td>\n",
              "      <td>2374</td>\n",
              "    </tr>\n",
              "    <tr>\n",
              "      <th>35598</th>\n",
              "      <td>[Alexander Mendeluk, Kate Nauta, Benjamin East...</td>\n",
              "      <td>249260</td>\n",
              "      <td>[bikini, made for cable tv, curse, hot tub, sc...</td>\n",
              "      <td>False</td>\n",
              "      <td>[TV Movie, Action, Horror, Science Fiction]</td>\n",
              "      <td>en</td>\n",
              "      <td>NaN</td>\n",
              "      <td>NaN</td>\n",
              "      <td>NaN</td>\n",
              "      <td>NaN</td>\n",
              "      <td>NaN</td>\n",
              "      <td>NaN</td>\n",
              "      <td>16931857</td>\n",
              "      <td>3402</td>\n",
              "    </tr>\n",
              "    <tr>\n",
              "      <th>35598</th>\n",
              "      <td>[Alexander Mendeluk, Kate Nauta, Benjamin East...</td>\n",
              "      <td>249260</td>\n",
              "      <td>[bikini, made for cable tv, curse, hot tub, sc...</td>\n",
              "      <td>False</td>\n",
              "      <td>[TV Movie, Action, Horror, Science Fiction]</td>\n",
              "      <td>en</td>\n",
              "      <td>NaN</td>\n",
              "      <td>NaN</td>\n",
              "      <td>NaN</td>\n",
              "      <td>NaN</td>\n",
              "      <td>NaN</td>\n",
              "      <td>NaN</td>\n",
              "      <td>16931857</td>\n",
              "      <td>3402</td>\n",
              "    </tr>\n",
              "  </tbody>\n",
              "</table>\n",
              "</div>"
            ],
            "text/plain": [
              "                                                    cast  ...  genreNum\n",
              "19729  [Rob Lowe, Kenneth Cranham, Deborah Moore, Han...  ...      1929\n",
              "29515  [Megumi Hayashibara, Hiroki Touchi, Kazuya Nak...  ...      2374\n",
              "35598  [Alexander Mendeluk, Kate Nauta, Benjamin East...  ...      3402\n",
              "35598  [Alexander Mendeluk, Kate Nauta, Benjamin East...  ...      3402\n",
              "\n",
              "[4 rows x 14 columns]"
            ]
          },
          "metadata": {
            "tags": []
          },
          "execution_count": 35
        }
      ]
    },
    {
      "cell_type": "markdown",
      "metadata": {
        "id": "iPMowJtHDQvM"
      },
      "source": [
        "Need to remove these columns since they have NaN values"
      ]
    },
    {
      "cell_type": "code",
      "metadata": {
        "id": "uTFOvHZcDPir"
      },
      "source": [
        "df1 = df1.drop([19729, 29515, 35598, 35598])"
      ],
      "execution_count": null,
      "outputs": []
    },
    {
      "cell_type": "code",
      "metadata": {
        "id": "d2nVreZ7oU-w"
      },
      "source": [
        "def convert_titles(row):\n",
        "  sum = 1;\n",
        "  for i in row:\n",
        "    sum+=ord(i)\n",
        "  \n",
        "  return(sum)"
      ],
      "execution_count": null,
      "outputs": []
    },
    {
      "cell_type": "code",
      "metadata": {
        "id": "NcvAdxt6kWBj"
      },
      "source": [
        "# def convert_titles2(row):\n",
        "#   return int.from_bytes(row.encode(), 'little')"
      ],
      "execution_count": null,
      "outputs": []
    },
    {
      "cell_type": "code",
      "metadata": {
        "id": "9uqMWRZ1rshs"
      },
      "source": [
        "df1['titleNum'] = df1['title'].apply(lambda x: convert_titles(x))"
      ],
      "execution_count": null,
      "outputs": []
    },
    {
      "cell_type": "code",
      "metadata": {
        "id": "gWEBOiX-r2qY",
        "colab": {
          "base_uri": "https://localhost:8080/",
          "height": 289
        },
        "outputId": "9f949c88-01ae-4227-9d69-9682e1fbd790"
      },
      "source": [
        "df1.head()"
      ],
      "execution_count": null,
      "outputs": [
        {
          "output_type": "execute_result",
          "data": {
            "text/html": [
              "<div>\n",
              "<style scoped>\n",
              "    .dataframe tbody tr th:only-of-type {\n",
              "        vertical-align: middle;\n",
              "    }\n",
              "\n",
              "    .dataframe tbody tr th {\n",
              "        vertical-align: top;\n",
              "    }\n",
              "\n",
              "    .dataframe thead th {\n",
              "        text-align: right;\n",
              "    }\n",
              "</style>\n",
              "<table border=\"1\" class=\"dataframe\">\n",
              "  <thead>\n",
              "    <tr style=\"text-align: right;\">\n",
              "      <th></th>\n",
              "      <th>cast</th>\n",
              "      <th>id</th>\n",
              "      <th>keywords</th>\n",
              "      <th>adult</th>\n",
              "      <th>genres</th>\n",
              "      <th>original_language</th>\n",
              "      <th>popularity</th>\n",
              "      <th>release_date</th>\n",
              "      <th>revenue</th>\n",
              "      <th>title</th>\n",
              "      <th>vote_average</th>\n",
              "      <th>vote_count</th>\n",
              "      <th>castNum</th>\n",
              "      <th>genreNum</th>\n",
              "      <th>titleNum</th>\n",
              "    </tr>\n",
              "  </thead>\n",
              "  <tbody>\n",
              "    <tr>\n",
              "      <th>0</th>\n",
              "      <td>[Tom Hanks, Tim Allen, Don Rickles, Jim Varney...</td>\n",
              "      <td>862</td>\n",
              "      <td>[jealousy, toy, boy, friendship, friends, riva...</td>\n",
              "      <td>False</td>\n",
              "      <td>[Animation, Comedy, Family]</td>\n",
              "      <td>en</td>\n",
              "      <td>21.9469</td>\n",
              "      <td>1995-10-30</td>\n",
              "      <td>373554033.0</td>\n",
              "      <td>Toy Story</td>\n",
              "      <td>7.7</td>\n",
              "      <td>5415.0</td>\n",
              "      <td>1629167</td>\n",
              "      <td>2147</td>\n",
              "      <td>894</td>\n",
              "    </tr>\n",
              "    <tr>\n",
              "      <th>1</th>\n",
              "      <td>[Robin Williams, Jonathan Hyde, Kirsten Dunst,...</td>\n",
              "      <td>8844</td>\n",
              "      <td>[board game, disappearance, based on children'...</td>\n",
              "      <td>False</td>\n",
              "      <td>[Adventure, Fantasy, Family]</td>\n",
              "      <td>en</td>\n",
              "      <td>17.0155</td>\n",
              "      <td>1995-12-15</td>\n",
              "      <td>262797249.0</td>\n",
              "      <td>Jumanji</td>\n",
              "      <td>6.9</td>\n",
              "      <td>2413.0</td>\n",
              "      <td>12868921</td>\n",
              "      <td>2278</td>\n",
              "      <td>719</td>\n",
              "    </tr>\n",
              "    <tr>\n",
              "      <th>2</th>\n",
              "      <td>[Walter Matthau, Jack Lemmon, Ann-Margret, Sop...</td>\n",
              "      <td>15602</td>\n",
              "      <td>[fishing, best friend, duringcreditsstinger, o...</td>\n",
              "      <td>False</td>\n",
              "      <td>[Romance, Comedy]</td>\n",
              "      <td>en</td>\n",
              "      <td>11.7129</td>\n",
              "      <td>1995-12-22</td>\n",
              "      <td>0.0</td>\n",
              "      <td>Grumpier Old Men</td>\n",
              "      <td>6.5</td>\n",
              "      <td>92.0</td>\n",
              "      <td>64590</td>\n",
              "      <td>1318</td>\n",
              "      <td>1483</td>\n",
              "    </tr>\n",
              "    <tr>\n",
              "      <th>3</th>\n",
              "      <td>[Whitney Houston, Angela Bassett, Loretta Devi...</td>\n",
              "      <td>31357</td>\n",
              "      <td>[based on novel, interracial relationship, sin...</td>\n",
              "      <td>False</td>\n",
              "      <td>[Comedy, Drama, Romance]</td>\n",
              "      <td>en</td>\n",
              "      <td>3.85949</td>\n",
              "      <td>1995-12-22</td>\n",
              "      <td>81452156.0</td>\n",
              "      <td>Waiting to Exhale</td>\n",
              "      <td>6.1</td>\n",
              "      <td>34.0</td>\n",
              "      <td>1467529</td>\n",
              "      <td>1803</td>\n",
              "      <td>1614</td>\n",
              "    </tr>\n",
              "    <tr>\n",
              "      <th>4</th>\n",
              "      <td>[Steve Martin, Diane Keaton, Martin Short, Kim...</td>\n",
              "      <td>11862</td>\n",
              "      <td>[baby, midlife crisis, confidence, aging, daug...</td>\n",
              "      <td>False</td>\n",
              "      <td>[Comedy]</td>\n",
              "      <td>en</td>\n",
              "      <td>8.38752</td>\n",
              "      <td>1995-02-10</td>\n",
              "      <td>76578911.0</td>\n",
              "      <td>Father of the Bride Part II</td>\n",
              "      <td>5.7</td>\n",
              "      <td>173.0</td>\n",
              "      <td>1083159</td>\n",
              "      <td>609</td>\n",
              "      <td>2336</td>\n",
              "    </tr>\n",
              "  </tbody>\n",
              "</table>\n",
              "</div>"
            ],
            "text/plain": [
              "                                                cast     id  ... genreNum titleNum\n",
              "0  [Tom Hanks, Tim Allen, Don Rickles, Jim Varney...    862  ...     2147      894\n",
              "1  [Robin Williams, Jonathan Hyde, Kirsten Dunst,...   8844  ...     2278      719\n",
              "2  [Walter Matthau, Jack Lemmon, Ann-Margret, Sop...  15602  ...     1318     1483\n",
              "3  [Whitney Houston, Angela Bassett, Loretta Devi...  31357  ...     1803     1614\n",
              "4  [Steve Martin, Diane Keaton, Martin Short, Kim...  11862  ...      609     2336\n",
              "\n",
              "[5 rows x 15 columns]"
            ]
          },
          "metadata": {
            "tags": []
          },
          "execution_count": 40
        }
      ]
    },
    {
      "cell_type": "code",
      "metadata": {
        "id": "zYHfKUf9K5rB"
      },
      "source": [
        "# copy\n",
        "df_final = df1.copy()"
      ],
      "execution_count": null,
      "outputs": []
    },
    {
      "cell_type": "code",
      "metadata": {
        "id": "y554ZdZ6e7mp"
      },
      "source": [
        "# df1 = df_final"
      ],
      "execution_count": null,
      "outputs": []
    },
    {
      "cell_type": "markdown",
      "metadata": {
        "id": "GIuUq7XSzrMe"
      },
      "source": [
        "## Chris - Clean & Transform the keywords column"
      ]
    },
    {
      "cell_type": "markdown",
      "metadata": {
        "id": "nyFuXlW707B3"
      },
      "source": [
        "#### Convert the array to string"
      ]
    },
    {
      "cell_type": "code",
      "metadata": {
        "id": "xfelYgUT0iYP",
        "colab": {
          "base_uri": "https://localhost:8080/",
          "height": 289
        },
        "outputId": "0993f696-45ef-4c67-b46e-ef59bd42bb7b"
      },
      "source": [
        "df1['keywords'] = df1['keywords'].apply(', '.join)\n",
        "df1.head()"
      ],
      "execution_count": null,
      "outputs": [
        {
          "output_type": "execute_result",
          "data": {
            "text/html": [
              "<div>\n",
              "<style scoped>\n",
              "    .dataframe tbody tr th:only-of-type {\n",
              "        vertical-align: middle;\n",
              "    }\n",
              "\n",
              "    .dataframe tbody tr th {\n",
              "        vertical-align: top;\n",
              "    }\n",
              "\n",
              "    .dataframe thead th {\n",
              "        text-align: right;\n",
              "    }\n",
              "</style>\n",
              "<table border=\"1\" class=\"dataframe\">\n",
              "  <thead>\n",
              "    <tr style=\"text-align: right;\">\n",
              "      <th></th>\n",
              "      <th>cast</th>\n",
              "      <th>id</th>\n",
              "      <th>keywords</th>\n",
              "      <th>adult</th>\n",
              "      <th>genres</th>\n",
              "      <th>original_language</th>\n",
              "      <th>popularity</th>\n",
              "      <th>release_date</th>\n",
              "      <th>revenue</th>\n",
              "      <th>title</th>\n",
              "      <th>vote_average</th>\n",
              "      <th>vote_count</th>\n",
              "      <th>castNum</th>\n",
              "      <th>genreNum</th>\n",
              "      <th>titleNum</th>\n",
              "    </tr>\n",
              "  </thead>\n",
              "  <tbody>\n",
              "    <tr>\n",
              "      <th>0</th>\n",
              "      <td>[Tom Hanks, Tim Allen, Don Rickles, Jim Varney...</td>\n",
              "      <td>862</td>\n",
              "      <td>jealousy, toy, boy, friendship, friends, rival...</td>\n",
              "      <td>False</td>\n",
              "      <td>[Animation, Comedy, Family]</td>\n",
              "      <td>en</td>\n",
              "      <td>21.9469</td>\n",
              "      <td>1995-10-30</td>\n",
              "      <td>373554033.0</td>\n",
              "      <td>Toy Story</td>\n",
              "      <td>7.7</td>\n",
              "      <td>5415.0</td>\n",
              "      <td>1629167</td>\n",
              "      <td>2147</td>\n",
              "      <td>894</td>\n",
              "    </tr>\n",
              "    <tr>\n",
              "      <th>1</th>\n",
              "      <td>[Robin Williams, Jonathan Hyde, Kirsten Dunst,...</td>\n",
              "      <td>8844</td>\n",
              "      <td>board game, disappearance, based on children's...</td>\n",
              "      <td>False</td>\n",
              "      <td>[Adventure, Fantasy, Family]</td>\n",
              "      <td>en</td>\n",
              "      <td>17.0155</td>\n",
              "      <td>1995-12-15</td>\n",
              "      <td>262797249.0</td>\n",
              "      <td>Jumanji</td>\n",
              "      <td>6.9</td>\n",
              "      <td>2413.0</td>\n",
              "      <td>12868921</td>\n",
              "      <td>2278</td>\n",
              "      <td>719</td>\n",
              "    </tr>\n",
              "    <tr>\n",
              "      <th>2</th>\n",
              "      <td>[Walter Matthau, Jack Lemmon, Ann-Margret, Sop...</td>\n",
              "      <td>15602</td>\n",
              "      <td>fishing, best friend, duringcreditsstinger, ol...</td>\n",
              "      <td>False</td>\n",
              "      <td>[Romance, Comedy]</td>\n",
              "      <td>en</td>\n",
              "      <td>11.7129</td>\n",
              "      <td>1995-12-22</td>\n",
              "      <td>0.0</td>\n",
              "      <td>Grumpier Old Men</td>\n",
              "      <td>6.5</td>\n",
              "      <td>92.0</td>\n",
              "      <td>64590</td>\n",
              "      <td>1318</td>\n",
              "      <td>1483</td>\n",
              "    </tr>\n",
              "    <tr>\n",
              "      <th>3</th>\n",
              "      <td>[Whitney Houston, Angela Bassett, Loretta Devi...</td>\n",
              "      <td>31357</td>\n",
              "      <td>based on novel, interracial relationship, sing...</td>\n",
              "      <td>False</td>\n",
              "      <td>[Comedy, Drama, Romance]</td>\n",
              "      <td>en</td>\n",
              "      <td>3.85949</td>\n",
              "      <td>1995-12-22</td>\n",
              "      <td>81452156.0</td>\n",
              "      <td>Waiting to Exhale</td>\n",
              "      <td>6.1</td>\n",
              "      <td>34.0</td>\n",
              "      <td>1467529</td>\n",
              "      <td>1803</td>\n",
              "      <td>1614</td>\n",
              "    </tr>\n",
              "    <tr>\n",
              "      <th>4</th>\n",
              "      <td>[Steve Martin, Diane Keaton, Martin Short, Kim...</td>\n",
              "      <td>11862</td>\n",
              "      <td>baby, midlife crisis, confidence, aging, daugh...</td>\n",
              "      <td>False</td>\n",
              "      <td>[Comedy]</td>\n",
              "      <td>en</td>\n",
              "      <td>8.38752</td>\n",
              "      <td>1995-02-10</td>\n",
              "      <td>76578911.0</td>\n",
              "      <td>Father of the Bride Part II</td>\n",
              "      <td>5.7</td>\n",
              "      <td>173.0</td>\n",
              "      <td>1083159</td>\n",
              "      <td>609</td>\n",
              "      <td>2336</td>\n",
              "    </tr>\n",
              "  </tbody>\n",
              "</table>\n",
              "</div>"
            ],
            "text/plain": [
              "                                                cast     id  ... genreNum titleNum\n",
              "0  [Tom Hanks, Tim Allen, Don Rickles, Jim Varney...    862  ...     2147      894\n",
              "1  [Robin Williams, Jonathan Hyde, Kirsten Dunst,...   8844  ...     2278      719\n",
              "2  [Walter Matthau, Jack Lemmon, Ann-Margret, Sop...  15602  ...     1318     1483\n",
              "3  [Whitney Houston, Angela Bassett, Loretta Devi...  31357  ...     1803     1614\n",
              "4  [Steve Martin, Diane Keaton, Martin Short, Kim...  11862  ...      609     2336\n",
              "\n",
              "[5 rows x 15 columns]"
            ]
          },
          "metadata": {
            "tags": []
          },
          "execution_count": 43
        }
      ]
    },
    {
      "cell_type": "markdown",
      "metadata": {
        "id": "3bpYH3AM2DPc"
      },
      "source": [
        "#### Convert to lowercast"
      ]
    },
    {
      "cell_type": "code",
      "metadata": {
        "id": "ciC4q9Fo2IKB"
      },
      "source": [
        "df1['keywords'] = df1['keywords'].str.lower()"
      ],
      "execution_count": null,
      "outputs": []
    },
    {
      "cell_type": "markdown",
      "metadata": {
        "id": "z9ytSjS52jri"
      },
      "source": [
        "#### Remove punctuations"
      ]
    },
    {
      "cell_type": "code",
      "metadata": {
        "id": "RoBRB9p22mqh"
      },
      "source": [
        "df1['keywords'] = df1['keywords'].str.replace('[^\\w\\s]','')"
      ],
      "execution_count": null,
      "outputs": []
    },
    {
      "cell_type": "markdown",
      "metadata": {
        "id": "Pyg2Qfx739Ha"
      },
      "source": [
        "###### Remove links"
      ]
    },
    {
      "cell_type": "code",
      "metadata": {
        "id": "GOVDM9qE1KHN"
      },
      "source": [
        "df1['keywords'] = df1['keywords'].str.replace('http\\S+|www.\\S+', '', case=False)"
      ],
      "execution_count": null,
      "outputs": []
    },
    {
      "cell_type": "markdown",
      "metadata": {
        "id": "uszPViC71KHN"
      },
      "source": [
        "###### Remove html tags"
      ]
    },
    {
      "cell_type": "code",
      "metadata": {
        "id": "yHM36o_W1KHO"
      },
      "source": [
        "def rmtags(keyword):\n",
        "  rmtag = re.compile('<.*?>')\n",
        "  keywordtext = re.sub(rmtag, '', keyword)\n",
        "  return keywordtext\n",
        "\n",
        "df1['keywords'] = df1['keywords'].apply(lambda keyword: rmtags(keyword))"
      ],
      "execution_count": null,
      "outputs": []
    },
    {
      "cell_type": "markdown",
      "metadata": {
        "id": "Pe5zE81b5V4p"
      },
      "source": [
        "##### Remove additional whitespace"
      ]
    },
    {
      "cell_type": "code",
      "metadata": {
        "id": "HvoqTACf5IMc",
        "colab": {
          "base_uri": "https://localhost:8080/"
        },
        "outputId": "2de8d360-2712-4f9f-a385-56b825ee5e9e"
      },
      "source": [
        "df1['keywords'] = df1['keywords'].replace(' +', ' ', regex=True)\n",
        "print(df1['keywords'][0])\n",
        "print('\\n----------\\n')\n",
        "print(df1['keywords'][1])"
      ],
      "execution_count": null,
      "outputs": [
        {
          "output_type": "stream",
          "text": [
            "jealousy toy boy friendship friends rivalry boy next door new toy toy comes to life\n",
            "\n",
            "----------\n",
            "\n",
            "board game disappearance based on childrens book new home recluse giant insect\n"
          ],
          "name": "stdout"
        }
      ]
    },
    {
      "cell_type": "markdown",
      "metadata": {
        "id": "dAIxXgTI5uVV"
      },
      "source": [
        "### Encode the keywords with TFIDFVectorizer"
      ]
    },
    {
      "cell_type": "code",
      "metadata": {
        "id": "jtGGFl_POGn-"
      },
      "source": [
        "tfidf_vectorizer = TfidfVectorizer(stop_words = 'english', ngram_range=(1,1))\n",
        "tfidf = tfidf_vectorizer.fit_transform(df1['keywords'])"
      ],
      "execution_count": null,
      "outputs": []
    },
    {
      "cell_type": "code",
      "metadata": {
        "id": "LjMqAgH_CEcU"
      },
      "source": [
        "keywordNum = np.sum(tfidf.A, axis=1)"
      ],
      "execution_count": null,
      "outputs": []
    },
    {
      "cell_type": "code",
      "metadata": {
        "id": "0kYD8aR2DOcI"
      },
      "source": [
        "df1['keywords'] = keywordNum"
      ],
      "execution_count": null,
      "outputs": []
    },
    {
      "cell_type": "code",
      "metadata": {
        "id": "tuNhlkk2CQOZ",
        "colab": {
          "base_uri": "https://localhost:8080/",
          "height": 204
        },
        "outputId": "9dc07fb9-0b03-4ff4-a10f-c6dc8da0a5f1"
      },
      "source": [
        "df1.head()"
      ],
      "execution_count": null,
      "outputs": [
        {
          "output_type": "execute_result",
          "data": {
            "text/html": [
              "<div>\n",
              "<style scoped>\n",
              "    .dataframe tbody tr th:only-of-type {\n",
              "        vertical-align: middle;\n",
              "    }\n",
              "\n",
              "    .dataframe tbody tr th {\n",
              "        vertical-align: top;\n",
              "    }\n",
              "\n",
              "    .dataframe thead th {\n",
              "        text-align: right;\n",
              "    }\n",
              "</style>\n",
              "<table border=\"1\" class=\"dataframe\">\n",
              "  <thead>\n",
              "    <tr style=\"text-align: right;\">\n",
              "      <th></th>\n",
              "      <th>cast</th>\n",
              "      <th>id</th>\n",
              "      <th>keywords</th>\n",
              "      <th>adult</th>\n",
              "      <th>genres</th>\n",
              "      <th>original_language</th>\n",
              "      <th>popularity</th>\n",
              "      <th>release_date</th>\n",
              "      <th>revenue</th>\n",
              "      <th>title</th>\n",
              "      <th>vote_average</th>\n",
              "      <th>vote_count</th>\n",
              "      <th>castNum</th>\n",
              "      <th>genreNum</th>\n",
              "      <th>titleNum</th>\n",
              "    </tr>\n",
              "  </thead>\n",
              "  <tbody>\n",
              "    <tr>\n",
              "      <th>0</th>\n",
              "      <td>[Tom Hanks, Tim Allen, Don Rickles, Jim Varney...</td>\n",
              "      <td>862</td>\n",
              "      <td>2.732882</td>\n",
              "      <td>False</td>\n",
              "      <td>[Animation, Comedy, Family]</td>\n",
              "      <td>en</td>\n",
              "      <td>21.9469</td>\n",
              "      <td>1995-10-30</td>\n",
              "      <td>373554033.0</td>\n",
              "      <td>Toy Story</td>\n",
              "      <td>7.7</td>\n",
              "      <td>5415.0</td>\n",
              "      <td>1629167</td>\n",
              "      <td>2147</td>\n",
              "      <td>894</td>\n",
              "    </tr>\n",
              "    <tr>\n",
              "      <th>1</th>\n",
              "      <td>[Robin Williams, Jonathan Hyde, Kirsten Dunst,...</td>\n",
              "      <td>8844</td>\n",
              "      <td>3.245939</td>\n",
              "      <td>False</td>\n",
              "      <td>[Adventure, Fantasy, Family]</td>\n",
              "      <td>en</td>\n",
              "      <td>17.0155</td>\n",
              "      <td>1995-12-15</td>\n",
              "      <td>262797249.0</td>\n",
              "      <td>Jumanji</td>\n",
              "      <td>6.9</td>\n",
              "      <td>2413.0</td>\n",
              "      <td>12868921</td>\n",
              "      <td>2278</td>\n",
              "      <td>719</td>\n",
              "    </tr>\n",
              "    <tr>\n",
              "      <th>2</th>\n",
              "      <td>[Walter Matthau, Jack Lemmon, Ann-Margret, Sop...</td>\n",
              "      <td>15602</td>\n",
              "      <td>2.430012</td>\n",
              "      <td>False</td>\n",
              "      <td>[Romance, Comedy]</td>\n",
              "      <td>en</td>\n",
              "      <td>11.7129</td>\n",
              "      <td>1995-12-22</td>\n",
              "      <td>0.0</td>\n",
              "      <td>Grumpier Old Men</td>\n",
              "      <td>6.5</td>\n",
              "      <td>92.0</td>\n",
              "      <td>64590</td>\n",
              "      <td>1318</td>\n",
              "      <td>1483</td>\n",
              "    </tr>\n",
              "    <tr>\n",
              "      <th>3</th>\n",
              "      <td>[Whitney Houston, Angela Bassett, Loretta Devi...</td>\n",
              "      <td>31357</td>\n",
              "      <td>2.852449</td>\n",
              "      <td>False</td>\n",
              "      <td>[Comedy, Drama, Romance]</td>\n",
              "      <td>en</td>\n",
              "      <td>3.85949</td>\n",
              "      <td>1995-12-22</td>\n",
              "      <td>81452156.0</td>\n",
              "      <td>Waiting to Exhale</td>\n",
              "      <td>6.1</td>\n",
              "      <td>34.0</td>\n",
              "      <td>1467529</td>\n",
              "      <td>1803</td>\n",
              "      <td>1614</td>\n",
              "    </tr>\n",
              "    <tr>\n",
              "      <th>4</th>\n",
              "      <td>[Steve Martin, Diane Keaton, Martin Short, Kim...</td>\n",
              "      <td>11862</td>\n",
              "      <td>3.213356</td>\n",
              "      <td>False</td>\n",
              "      <td>[Comedy]</td>\n",
              "      <td>en</td>\n",
              "      <td>8.38752</td>\n",
              "      <td>1995-02-10</td>\n",
              "      <td>76578911.0</td>\n",
              "      <td>Father of the Bride Part II</td>\n",
              "      <td>5.7</td>\n",
              "      <td>173.0</td>\n",
              "      <td>1083159</td>\n",
              "      <td>609</td>\n",
              "      <td>2336</td>\n",
              "    </tr>\n",
              "  </tbody>\n",
              "</table>\n",
              "</div>"
            ],
            "text/plain": [
              "                                                cast     id  ...  genreNum titleNum\n",
              "0  [Tom Hanks, Tim Allen, Don Rickles, Jim Varney...    862  ...      2147      894\n",
              "1  [Robin Williams, Jonathan Hyde, Kirsten Dunst,...   8844  ...      2278      719\n",
              "2  [Walter Matthau, Jack Lemmon, Ann-Margret, Sop...  15602  ...      1318     1483\n",
              "3  [Whitney Houston, Angela Bassett, Loretta Devi...  31357  ...      1803     1614\n",
              "4  [Steve Martin, Diane Keaton, Martin Short, Kim...  11862  ...       609     2336\n",
              "\n",
              "[5 rows x 15 columns]"
            ]
          },
          "metadata": {
            "tags": []
          },
          "execution_count": 52
        }
      ]
    },
    {
      "cell_type": "code",
      "metadata": {
        "id": "nR9l7Ryqd-lX"
      },
      "source": [
        "title_df = df1['title']"
      ],
      "execution_count": null,
      "outputs": []
    },
    {
      "cell_type": "code",
      "metadata": {
        "id": "PNBze47-yozA"
      },
      "source": [
        "del df1['cast']\n",
        "del df1['genres']\n",
        "del df1['title']"
      ],
      "execution_count": null,
      "outputs": []
    },
    {
      "cell_type": "code",
      "metadata": {
        "id": "8l2vizQ0LNIL",
        "colab": {
          "base_uri": "https://localhost:8080/",
          "height": 204
        },
        "outputId": "a878d993-e3cc-4841-820a-c42fc36e8f73"
      },
      "source": [
        "df1.head()"
      ],
      "execution_count": null,
      "outputs": [
        {
          "output_type": "execute_result",
          "data": {
            "text/html": [
              "<div>\n",
              "<style scoped>\n",
              "    .dataframe tbody tr th:only-of-type {\n",
              "        vertical-align: middle;\n",
              "    }\n",
              "\n",
              "    .dataframe tbody tr th {\n",
              "        vertical-align: top;\n",
              "    }\n",
              "\n",
              "    .dataframe thead th {\n",
              "        text-align: right;\n",
              "    }\n",
              "</style>\n",
              "<table border=\"1\" class=\"dataframe\">\n",
              "  <thead>\n",
              "    <tr style=\"text-align: right;\">\n",
              "      <th></th>\n",
              "      <th>id</th>\n",
              "      <th>keywords</th>\n",
              "      <th>adult</th>\n",
              "      <th>original_language</th>\n",
              "      <th>popularity</th>\n",
              "      <th>release_date</th>\n",
              "      <th>revenue</th>\n",
              "      <th>vote_average</th>\n",
              "      <th>vote_count</th>\n",
              "      <th>castNum</th>\n",
              "      <th>genreNum</th>\n",
              "      <th>titleNum</th>\n",
              "    </tr>\n",
              "  </thead>\n",
              "  <tbody>\n",
              "    <tr>\n",
              "      <th>0</th>\n",
              "      <td>862</td>\n",
              "      <td>2.732882</td>\n",
              "      <td>False</td>\n",
              "      <td>en</td>\n",
              "      <td>21.9469</td>\n",
              "      <td>1995-10-30</td>\n",
              "      <td>373554033.0</td>\n",
              "      <td>7.7</td>\n",
              "      <td>5415.0</td>\n",
              "      <td>1629167</td>\n",
              "      <td>2147</td>\n",
              "      <td>894</td>\n",
              "    </tr>\n",
              "    <tr>\n",
              "      <th>1</th>\n",
              "      <td>8844</td>\n",
              "      <td>3.245939</td>\n",
              "      <td>False</td>\n",
              "      <td>en</td>\n",
              "      <td>17.0155</td>\n",
              "      <td>1995-12-15</td>\n",
              "      <td>262797249.0</td>\n",
              "      <td>6.9</td>\n",
              "      <td>2413.0</td>\n",
              "      <td>12868921</td>\n",
              "      <td>2278</td>\n",
              "      <td>719</td>\n",
              "    </tr>\n",
              "    <tr>\n",
              "      <th>2</th>\n",
              "      <td>15602</td>\n",
              "      <td>2.430012</td>\n",
              "      <td>False</td>\n",
              "      <td>en</td>\n",
              "      <td>11.7129</td>\n",
              "      <td>1995-12-22</td>\n",
              "      <td>0.0</td>\n",
              "      <td>6.5</td>\n",
              "      <td>92.0</td>\n",
              "      <td>64590</td>\n",
              "      <td>1318</td>\n",
              "      <td>1483</td>\n",
              "    </tr>\n",
              "    <tr>\n",
              "      <th>3</th>\n",
              "      <td>31357</td>\n",
              "      <td>2.852449</td>\n",
              "      <td>False</td>\n",
              "      <td>en</td>\n",
              "      <td>3.85949</td>\n",
              "      <td>1995-12-22</td>\n",
              "      <td>81452156.0</td>\n",
              "      <td>6.1</td>\n",
              "      <td>34.0</td>\n",
              "      <td>1467529</td>\n",
              "      <td>1803</td>\n",
              "      <td>1614</td>\n",
              "    </tr>\n",
              "    <tr>\n",
              "      <th>4</th>\n",
              "      <td>11862</td>\n",
              "      <td>3.213356</td>\n",
              "      <td>False</td>\n",
              "      <td>en</td>\n",
              "      <td>8.38752</td>\n",
              "      <td>1995-02-10</td>\n",
              "      <td>76578911.0</td>\n",
              "      <td>5.7</td>\n",
              "      <td>173.0</td>\n",
              "      <td>1083159</td>\n",
              "      <td>609</td>\n",
              "      <td>2336</td>\n",
              "    </tr>\n",
              "  </tbody>\n",
              "</table>\n",
              "</div>"
            ],
            "text/plain": [
              "      id  keywords  adult  ...   castNum genreNum titleNum\n",
              "0    862  2.732882  False  ...   1629167     2147      894\n",
              "1   8844  3.245939  False  ...  12868921     2278      719\n",
              "2  15602  2.430012  False  ...     64590     1318     1483\n",
              "3  31357  2.852449  False  ...   1467529     1803     1614\n",
              "4  11862  3.213356  False  ...   1083159      609     2336\n",
              "\n",
              "[5 rows x 12 columns]"
            ]
          },
          "metadata": {
            "tags": []
          },
          "execution_count": 55
        }
      ]
    },
    {
      "cell_type": "markdown",
      "metadata": {
        "id": "L6uLDqxaEecx"
      },
      "source": [
        "### Convert remaining columns to numeric"
      ]
    },
    {
      "cell_type": "code",
      "metadata": {
        "id": "RNYMM4J6EpkY"
      },
      "source": [
        "# change popularity to float\n",
        "df1['popularity'] = df1['popularity'].apply(pd.to_numeric)"
      ],
      "execution_count": null,
      "outputs": []
    },
    {
      "cell_type": "code",
      "metadata": {
        "id": "0hzwqDP2UYNe"
      },
      "source": [
        "# convert adult true or false to 1 or 0\n",
        "adult_encoder = LabelEncoder()\n",
        "df1[\"adult\"] = adult_encoder.fit_transform(df1[\"adult\"])"
      ],
      "execution_count": null,
      "outputs": []
    },
    {
      "cell_type": "code",
      "metadata": {
        "id": "Ofk9smeyHXm_"
      },
      "source": [
        "# change date to date-time\n",
        "df1['release_date'] = pd.to_datetime(df1['release_date'])"
      ],
      "execution_count": null,
      "outputs": []
    },
    {
      "cell_type": "code",
      "metadata": {
        "id": "vsfmmiWlcbKj",
        "colab": {
          "base_uri": "https://localhost:8080/"
        },
        "outputId": "703886ed-3ec8-4665-b2e2-dfd8bcdc8317"
      },
      "source": [
        "categorical = df1.dtypes[df1.dtypes == \"object\"].index\n",
        "categorical"
      ],
      "execution_count": null,
      "outputs": [
        {
          "output_type": "execute_result",
          "data": {
            "text/plain": [
              "Index(['original_language'], dtype='object')"
            ]
          },
          "metadata": {
            "tags": []
          },
          "execution_count": 59
        }
      ]
    },
    {
      "cell_type": "code",
      "metadata": {
        "id": "NL4oK95xZ3Su"
      },
      "source": [
        "for c in categorical:\n",
        "    df1[c] = df1[c].astype('category')\n",
        "    df1[c] = df1[c].cat.codes"
      ],
      "execution_count": null,
      "outputs": []
    },
    {
      "cell_type": "code",
      "metadata": {
        "id": "wjFLsMW9R8El",
        "colab": {
          "base_uri": "https://localhost:8080/"
        },
        "outputId": "53a86de6-f544-4bd6-927e-5f81b31be3fa"
      },
      "source": [
        "df1.dtypes"
      ],
      "execution_count": null,
      "outputs": [
        {
          "output_type": "execute_result",
          "data": {
            "text/plain": [
              "id                            int64\n",
              "keywords                    float64\n",
              "adult                         int64\n",
              "original_language              int8\n",
              "popularity                  float64\n",
              "release_date         datetime64[ns]\n",
              "revenue                     float64\n",
              "vote_average                float64\n",
              "vote_count                  float64\n",
              "castNum                       int64\n",
              "genreNum                      int64\n",
              "titleNum                      int64\n",
              "dtype: object"
            ]
          },
          "metadata": {
            "tags": []
          },
          "execution_count": 61
        }
      ]
    },
    {
      "cell_type": "code",
      "metadata": {
        "id": "o1ctSn4vSSPg"
      },
      "source": [
        "df2 = df1[['id', 'keywords', 'adult', 'original_language', 'popularity', 'revenue', 'vote_average', 'vote_count', 'castNum', 'genreNum', 'titleNum']]\n",
        "df2['title'] = title_df.str.lower()"
      ],
      "execution_count": null,
      "outputs": []
    },
    {
      "cell_type": "code",
      "metadata": {
        "id": "fdoGdeDnbJna",
        "colab": {
          "base_uri": "https://localhost:8080/",
          "height": 359
        },
        "outputId": "d953b504-cf1d-47fe-ae82-0d4fb7730b68"
      },
      "source": [
        "df2.head(10)"
      ],
      "execution_count": null,
      "outputs": [
        {
          "output_type": "execute_result",
          "data": {
            "text/html": [
              "<div>\n",
              "<style scoped>\n",
              "    .dataframe tbody tr th:only-of-type {\n",
              "        vertical-align: middle;\n",
              "    }\n",
              "\n",
              "    .dataframe tbody tr th {\n",
              "        vertical-align: top;\n",
              "    }\n",
              "\n",
              "    .dataframe thead th {\n",
              "        text-align: right;\n",
              "    }\n",
              "</style>\n",
              "<table border=\"1\" class=\"dataframe\">\n",
              "  <thead>\n",
              "    <tr style=\"text-align: right;\">\n",
              "      <th></th>\n",
              "      <th>id</th>\n",
              "      <th>keywords</th>\n",
              "      <th>adult</th>\n",
              "      <th>original_language</th>\n",
              "      <th>popularity</th>\n",
              "      <th>revenue</th>\n",
              "      <th>vote_average</th>\n",
              "      <th>vote_count</th>\n",
              "      <th>castNum</th>\n",
              "      <th>genreNum</th>\n",
              "      <th>titleNum</th>\n",
              "      <th>title</th>\n",
              "    </tr>\n",
              "  </thead>\n",
              "  <tbody>\n",
              "    <tr>\n",
              "      <th>0</th>\n",
              "      <td>862</td>\n",
              "      <td>2.732882</td>\n",
              "      <td>0</td>\n",
              "      <td>17</td>\n",
              "      <td>21.946943</td>\n",
              "      <td>373554033.0</td>\n",
              "      <td>7.7</td>\n",
              "      <td>5415.0</td>\n",
              "      <td>1629167</td>\n",
              "      <td>2147</td>\n",
              "      <td>894</td>\n",
              "      <td>toy story</td>\n",
              "    </tr>\n",
              "    <tr>\n",
              "      <th>1</th>\n",
              "      <td>8844</td>\n",
              "      <td>3.245939</td>\n",
              "      <td>0</td>\n",
              "      <td>17</td>\n",
              "      <td>17.015539</td>\n",
              "      <td>262797249.0</td>\n",
              "      <td>6.9</td>\n",
              "      <td>2413.0</td>\n",
              "      <td>12868921</td>\n",
              "      <td>2278</td>\n",
              "      <td>719</td>\n",
              "      <td>jumanji</td>\n",
              "    </tr>\n",
              "    <tr>\n",
              "      <th>2</th>\n",
              "      <td>15602</td>\n",
              "      <td>2.430012</td>\n",
              "      <td>0</td>\n",
              "      <td>17</td>\n",
              "      <td>11.712900</td>\n",
              "      <td>0.0</td>\n",
              "      <td>6.5</td>\n",
              "      <td>92.0</td>\n",
              "      <td>64590</td>\n",
              "      <td>1318</td>\n",
              "      <td>1483</td>\n",
              "      <td>grumpier old men</td>\n",
              "    </tr>\n",
              "    <tr>\n",
              "      <th>3</th>\n",
              "      <td>31357</td>\n",
              "      <td>2.852449</td>\n",
              "      <td>0</td>\n",
              "      <td>17</td>\n",
              "      <td>3.859495</td>\n",
              "      <td>81452156.0</td>\n",
              "      <td>6.1</td>\n",
              "      <td>34.0</td>\n",
              "      <td>1467529</td>\n",
              "      <td>1803</td>\n",
              "      <td>1614</td>\n",
              "      <td>waiting to exhale</td>\n",
              "    </tr>\n",
              "    <tr>\n",
              "      <th>4</th>\n",
              "      <td>11862</td>\n",
              "      <td>3.213356</td>\n",
              "      <td>0</td>\n",
              "      <td>17</td>\n",
              "      <td>8.387519</td>\n",
              "      <td>76578911.0</td>\n",
              "      <td>5.7</td>\n",
              "      <td>173.0</td>\n",
              "      <td>1083159</td>\n",
              "      <td>609</td>\n",
              "      <td>2336</td>\n",
              "      <td>father of the bride part ii</td>\n",
              "    </tr>\n",
              "    <tr>\n",
              "      <th>5</th>\n",
              "      <td>949</td>\n",
              "      <td>5.105958</td>\n",
              "      <td>0</td>\n",
              "      <td>17</td>\n",
              "      <td>17.924927</td>\n",
              "      <td>187436818.0</td>\n",
              "      <td>7.7</td>\n",
              "      <td>1886.0</td>\n",
              "      <td>22641097</td>\n",
              "      <td>2425</td>\n",
              "      <td>387</td>\n",
              "      <td>heat</td>\n",
              "    </tr>\n",
              "    <tr>\n",
              "      <th>6</th>\n",
              "      <td>11860</td>\n",
              "      <td>2.714166</td>\n",
              "      <td>0</td>\n",
              "      <td>17</td>\n",
              "      <td>6.677277</td>\n",
              "      <td>0.0</td>\n",
              "      <td>6.2</td>\n",
              "      <td>141.0</td>\n",
              "      <td>52994583</td>\n",
              "      <td>1318</td>\n",
              "      <td>705</td>\n",
              "      <td>sabrina</td>\n",
              "    </tr>\n",
              "    <tr>\n",
              "      <th>7</th>\n",
              "      <td>45325</td>\n",
              "      <td>0.000000</td>\n",
              "      <td>0</td>\n",
              "      <td>17</td>\n",
              "      <td>2.561161</td>\n",
              "      <td>0.0</td>\n",
              "      <td>5.4</td>\n",
              "      <td>45.0</td>\n",
              "      <td>398162</td>\n",
              "      <td>2643</td>\n",
              "      <td>1071</td>\n",
              "      <td>tom and huck</td>\n",
              "    </tr>\n",
              "    <tr>\n",
              "      <th>8</th>\n",
              "      <td>9091</td>\n",
              "      <td>2.218612</td>\n",
              "      <td>0</td>\n",
              "      <td>17</td>\n",
              "      <td>5.231580</td>\n",
              "      <td>64350171.0</td>\n",
              "      <td>5.5</td>\n",
              "      <td>174.0</td>\n",
              "      <td>132424</td>\n",
              "      <td>2386</td>\n",
              "      <td>1130</td>\n",
              "      <td>sudden death</td>\n",
              "    </tr>\n",
              "    <tr>\n",
              "      <th>9</th>\n",
              "      <td>710</td>\n",
              "      <td>4.929183</td>\n",
              "      <td>0</td>\n",
              "      <td>17</td>\n",
              "      <td>14.686036</td>\n",
              "      <td>352194034.0</td>\n",
              "      <td>6.6</td>\n",
              "      <td>1194.0</td>\n",
              "      <td>278410</td>\n",
              "      <td>2386</td>\n",
              "      <td>893</td>\n",
              "      <td>goldeneye</td>\n",
              "    </tr>\n",
              "  </tbody>\n",
              "</table>\n",
              "</div>"
            ],
            "text/plain": [
              "      id  keywords  adult  ...  genreNum  titleNum                        title\n",
              "0    862  2.732882      0  ...      2147       894                    toy story\n",
              "1   8844  3.245939      0  ...      2278       719                      jumanji\n",
              "2  15602  2.430012      0  ...      1318      1483             grumpier old men\n",
              "3  31357  2.852449      0  ...      1803      1614            waiting to exhale\n",
              "4  11862  3.213356      0  ...       609      2336  father of the bride part ii\n",
              "5    949  5.105958      0  ...      2425       387                         heat\n",
              "6  11860  2.714166      0  ...      1318       705                      sabrina\n",
              "7  45325  0.000000      0  ...      2643      1071                 tom and huck\n",
              "8   9091  2.218612      0  ...      2386      1130                 sudden death\n",
              "9    710  4.929183      0  ...      2386       893                    goldeneye\n",
              "\n",
              "[10 rows x 12 columns]"
            ]
          },
          "metadata": {
            "tags": []
          },
          "execution_count": 63
        }
      ]
    },
    {
      "cell_type": "code",
      "metadata": {
        "id": "bTO_B9Tmwu01",
        "colab": {
          "base_uri": "https://localhost:8080/"
        },
        "outputId": "c06397b8-7088-46fd-d2fc-db5b75d10a62"
      },
      "source": [
        "df2.shape"
      ],
      "execution_count": null,
      "outputs": [
        {
          "output_type": "execute_result",
          "data": {
            "text/plain": [
              "(46624, 12)"
            ]
          },
          "metadata": {
            "tags": []
          },
          "execution_count": 64
        }
      ]
    },
    {
      "cell_type": "code",
      "metadata": {
        "colab": {
          "base_uri": "https://localhost:8080/",
          "height": 359
        },
        "id": "EGL11Uhr3o89",
        "outputId": "a6300534-ff47-43fb-824d-72d9f7ff9cb5"
      },
      "source": [
        "df2 = df2.drop_duplicates(['id'])\n",
        "df2.head(10)"
      ],
      "execution_count": null,
      "outputs": [
        {
          "output_type": "execute_result",
          "data": {
            "text/html": [
              "<div>\n",
              "<style scoped>\n",
              "    .dataframe tbody tr th:only-of-type {\n",
              "        vertical-align: middle;\n",
              "    }\n",
              "\n",
              "    .dataframe tbody tr th {\n",
              "        vertical-align: top;\n",
              "    }\n",
              "\n",
              "    .dataframe thead th {\n",
              "        text-align: right;\n",
              "    }\n",
              "</style>\n",
              "<table border=\"1\" class=\"dataframe\">\n",
              "  <thead>\n",
              "    <tr style=\"text-align: right;\">\n",
              "      <th></th>\n",
              "      <th>id</th>\n",
              "      <th>keywords</th>\n",
              "      <th>adult</th>\n",
              "      <th>original_language</th>\n",
              "      <th>popularity</th>\n",
              "      <th>revenue</th>\n",
              "      <th>vote_average</th>\n",
              "      <th>vote_count</th>\n",
              "      <th>castNum</th>\n",
              "      <th>genreNum</th>\n",
              "      <th>titleNum</th>\n",
              "      <th>title</th>\n",
              "    </tr>\n",
              "  </thead>\n",
              "  <tbody>\n",
              "    <tr>\n",
              "      <th>0</th>\n",
              "      <td>862</td>\n",
              "      <td>2.732882</td>\n",
              "      <td>0</td>\n",
              "      <td>17</td>\n",
              "      <td>21.946943</td>\n",
              "      <td>373554033.0</td>\n",
              "      <td>7.7</td>\n",
              "      <td>5415.0</td>\n",
              "      <td>1629167</td>\n",
              "      <td>2147</td>\n",
              "      <td>894</td>\n",
              "      <td>toy story</td>\n",
              "    </tr>\n",
              "    <tr>\n",
              "      <th>1</th>\n",
              "      <td>8844</td>\n",
              "      <td>3.245939</td>\n",
              "      <td>0</td>\n",
              "      <td>17</td>\n",
              "      <td>17.015539</td>\n",
              "      <td>262797249.0</td>\n",
              "      <td>6.9</td>\n",
              "      <td>2413.0</td>\n",
              "      <td>12868921</td>\n",
              "      <td>2278</td>\n",
              "      <td>719</td>\n",
              "      <td>jumanji</td>\n",
              "    </tr>\n",
              "    <tr>\n",
              "      <th>2</th>\n",
              "      <td>15602</td>\n",
              "      <td>2.430012</td>\n",
              "      <td>0</td>\n",
              "      <td>17</td>\n",
              "      <td>11.712900</td>\n",
              "      <td>0.0</td>\n",
              "      <td>6.5</td>\n",
              "      <td>92.0</td>\n",
              "      <td>64590</td>\n",
              "      <td>1318</td>\n",
              "      <td>1483</td>\n",
              "      <td>grumpier old men</td>\n",
              "    </tr>\n",
              "    <tr>\n",
              "      <th>3</th>\n",
              "      <td>31357</td>\n",
              "      <td>2.852449</td>\n",
              "      <td>0</td>\n",
              "      <td>17</td>\n",
              "      <td>3.859495</td>\n",
              "      <td>81452156.0</td>\n",
              "      <td>6.1</td>\n",
              "      <td>34.0</td>\n",
              "      <td>1467529</td>\n",
              "      <td>1803</td>\n",
              "      <td>1614</td>\n",
              "      <td>waiting to exhale</td>\n",
              "    </tr>\n",
              "    <tr>\n",
              "      <th>4</th>\n",
              "      <td>11862</td>\n",
              "      <td>3.213356</td>\n",
              "      <td>0</td>\n",
              "      <td>17</td>\n",
              "      <td>8.387519</td>\n",
              "      <td>76578911.0</td>\n",
              "      <td>5.7</td>\n",
              "      <td>173.0</td>\n",
              "      <td>1083159</td>\n",
              "      <td>609</td>\n",
              "      <td>2336</td>\n",
              "      <td>father of the bride part ii</td>\n",
              "    </tr>\n",
              "    <tr>\n",
              "      <th>5</th>\n",
              "      <td>949</td>\n",
              "      <td>5.105958</td>\n",
              "      <td>0</td>\n",
              "      <td>17</td>\n",
              "      <td>17.924927</td>\n",
              "      <td>187436818.0</td>\n",
              "      <td>7.7</td>\n",
              "      <td>1886.0</td>\n",
              "      <td>22641097</td>\n",
              "      <td>2425</td>\n",
              "      <td>387</td>\n",
              "      <td>heat</td>\n",
              "    </tr>\n",
              "    <tr>\n",
              "      <th>6</th>\n",
              "      <td>11860</td>\n",
              "      <td>2.714166</td>\n",
              "      <td>0</td>\n",
              "      <td>17</td>\n",
              "      <td>6.677277</td>\n",
              "      <td>0.0</td>\n",
              "      <td>6.2</td>\n",
              "      <td>141.0</td>\n",
              "      <td>52994583</td>\n",
              "      <td>1318</td>\n",
              "      <td>705</td>\n",
              "      <td>sabrina</td>\n",
              "    </tr>\n",
              "    <tr>\n",
              "      <th>7</th>\n",
              "      <td>45325</td>\n",
              "      <td>0.000000</td>\n",
              "      <td>0</td>\n",
              "      <td>17</td>\n",
              "      <td>2.561161</td>\n",
              "      <td>0.0</td>\n",
              "      <td>5.4</td>\n",
              "      <td>45.0</td>\n",
              "      <td>398162</td>\n",
              "      <td>2643</td>\n",
              "      <td>1071</td>\n",
              "      <td>tom and huck</td>\n",
              "    </tr>\n",
              "    <tr>\n",
              "      <th>8</th>\n",
              "      <td>9091</td>\n",
              "      <td>2.218612</td>\n",
              "      <td>0</td>\n",
              "      <td>17</td>\n",
              "      <td>5.231580</td>\n",
              "      <td>64350171.0</td>\n",
              "      <td>5.5</td>\n",
              "      <td>174.0</td>\n",
              "      <td>132424</td>\n",
              "      <td>2386</td>\n",
              "      <td>1130</td>\n",
              "      <td>sudden death</td>\n",
              "    </tr>\n",
              "    <tr>\n",
              "      <th>9</th>\n",
              "      <td>710</td>\n",
              "      <td>4.929183</td>\n",
              "      <td>0</td>\n",
              "      <td>17</td>\n",
              "      <td>14.686036</td>\n",
              "      <td>352194034.0</td>\n",
              "      <td>6.6</td>\n",
              "      <td>1194.0</td>\n",
              "      <td>278410</td>\n",
              "      <td>2386</td>\n",
              "      <td>893</td>\n",
              "      <td>goldeneye</td>\n",
              "    </tr>\n",
              "  </tbody>\n",
              "</table>\n",
              "</div>"
            ],
            "text/plain": [
              "      id  keywords  adult  ...  genreNum  titleNum                        title\n",
              "0    862  2.732882      0  ...      2147       894                    toy story\n",
              "1   8844  3.245939      0  ...      2278       719                      jumanji\n",
              "2  15602  2.430012      0  ...      1318      1483             grumpier old men\n",
              "3  31357  2.852449      0  ...      1803      1614            waiting to exhale\n",
              "4  11862  3.213356      0  ...       609      2336  father of the bride part ii\n",
              "5    949  5.105958      0  ...      2425       387                         heat\n",
              "6  11860  2.714166      0  ...      1318       705                      sabrina\n",
              "7  45325  0.000000      0  ...      2643      1071                 tom and huck\n",
              "8   9091  2.218612      0  ...      2386      1130                 sudden death\n",
              "9    710  4.929183      0  ...      2386       893                    goldeneye\n",
              "\n",
              "[10 rows x 12 columns]"
            ]
          },
          "metadata": {
            "tags": []
          },
          "execution_count": 68
        }
      ]
    },
    {
      "cell_type": "code",
      "metadata": {
        "colab": {
          "base_uri": "https://localhost:8080/"
        },
        "id": "vYcy8tlu4Ad2",
        "outputId": "5f12d094-1177-4596-d887-657abd8cefe2"
      },
      "source": [
        "df2.shape"
      ],
      "execution_count": null,
      "outputs": [
        {
          "output_type": "execute_result",
          "data": {
            "text/plain": [
              "(45429, 12)"
            ]
          },
          "metadata": {
            "tags": []
          },
          "execution_count": 70
        }
      ]
    },
    {
      "cell_type": "markdown",
      "metadata": {
        "id": "CCWX8Vq-ySTM"
      },
      "source": [
        "### Convert the Cleaned and Tranformed Dataframe to csv for use in the recommender system & Streamlit"
      ]
    },
    {
      "cell_type": "code",
      "metadata": {
        "id": "LeXeJefOHxOo",
        "colab": {
          "base_uri": "https://localhost:8080/"
        },
        "outputId": "23302b03-3b72-4bd7-969a-7e0bef2b6f7b"
      },
      "source": [
        "from google.colab import drive\n",
        "drive.mount('/content/drive', force_remount=True)"
      ],
      "execution_count": null,
      "outputs": [
        {
          "output_type": "stream",
          "text": [
            "Mounted at /content/drive\n"
          ],
          "name": "stdout"
        }
      ]
    },
    {
      "cell_type": "code",
      "metadata": {
        "id": "py1q6wmxH2Lv"
      },
      "source": [
        "df2.to_csv('/content/drive/My Drive/Big Data Project/data/KaggleMovies.csv', index=False)"
      ],
      "execution_count": null,
      "outputs": []
    }
  ]
}