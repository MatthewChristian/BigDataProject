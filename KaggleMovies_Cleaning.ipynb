{
  "nbformat": 4,
  "nbformat_minor": 0,
  "metadata": {
    "colab": {
      "name": "Seth&Chris_KaggleMovies_Cleaning.ipynb",
      "provenance": [],
      "collapsed_sections": []
    },
    "kernelspec": {
      "display_name": "Python 3",
      "name": "python3"
    }
  },
  "cells": [
    {
      "cell_type": "code",
      "metadata": {
        "id": "VPHWSr4w977W"
      },
      "source": [
        "import re\n",
        "import numpy as np\n",
        "import pandas as pd\n",
        "import seaborn as sns\n",
        "import matplotlib.pyplot as plt\n",
        "from wordcloud import WordCloud\n",
        "\n",
        "from sklearn.feature_extraction.text import TfidfVectorizer\n",
        "from sklearn.preprocessing import StandardScaler, MinMaxScaler, LabelEncoder"
      ],
      "execution_count": null,
      "outputs": []
    },
    {
      "cell_type": "code",
      "metadata": {
        "colab": {
          "base_uri": "https://localhost:8080/"
        },
        "id": "CJJ6m2F8Uha6",
        "outputId": "97e81f77-b008-4f1d-a800-88bc1ee3c9a5"
      },
      "source": [
        "!gdown --id 11jHTacIQ2e3ndLseet-YQp3clAGWTpCu #ratings.csv\n",
        "!gdown --id 1D1cO0G4WEUa6AAOrEHBgExjPZ5DSNn1a #credits.csv\n",
        "!gdown --id 1FYYQsZYalPT3KItdbj4A29jj3setD-G9 #keywords.csv\n",
        "!gdown --id 1Y7mZX40bA3dGLCsUem9Ayeooyx9TnFUp #movies-metadata.csv\n",
        "!gdown --id 1mwNCe4qZoPvE_ktbHrvMNQ4hFovDsL3w #ratings_small.csv"
      ],
      "execution_count": null,
      "outputs": [
        {
          "output_type": "stream",
          "text": [
            "Downloading...\n",
            "From: https://drive.google.com/uc?id=11jHTacIQ2e3ndLseet-YQp3clAGWTpCu\n",
            "To: /content/ratings.csv\n",
            "710MB [00:07, 91.9MB/s]\n",
            "Downloading...\n",
            "From: https://drive.google.com/uc?id=1D1cO0G4WEUa6AAOrEHBgExjPZ5DSNn1a\n",
            "To: /content/credits.csv\n",
            "190MB [00:01, 96.5MB/s]\n"
          ],
          "name": "stdout"
        }
      ]
    },
    {
      "cell_type": "code",
      "metadata": {
        "id": "UXPc-mGwO7Ia"
      },
      "source": [
        "df_credits = pd.read_csv(\"/content/credits.csv\")\n",
        "df_keywords = pd.read_csv(\"/content/keywords.csv\")\n",
        "df_movies = pd.read_csv(\"/content/movies_metadata.csv\")\n",
        "df_ratings = pd.concat([pd.read_csv(\"/content/ratings.csv\"), pd.read_csv(\"/content/ratings_small.csv\")])"
      ],
      "execution_count": null,
      "outputs": []
    },
    {
      "cell_type": "markdown",
      "metadata": {
        "id": "8SQDC1reQC8p"
      },
      "source": [
        "# Seth - Dataframe Merge (Without Ratings Merged)"
      ]
    },
    {
      "cell_type": "markdown",
      "metadata": {
        "id": "zExzv7vcQ0tY"
      },
      "source": [
        "#### Removing datetime values from movie id column in df_movies"
      ]
    },
    {
      "cell_type": "code",
      "metadata": {
        "id": "npesc8CeP_mS"
      },
      "source": [
        "index = []\n",
        "\n",
        "for i in range(0, len(df_movies['id'])):\n",
        "  data = df_movies['id'].values[i]\n",
        "  if (data.find('-') != -1):\n",
        "    index.append(i)"
      ],
      "execution_count": null,
      "outputs": []
    },
    {
      "cell_type": "code",
      "metadata": {
        "id": "-flCHuobs_Y2"
      },
      "source": [
        "print(df_movies['id'][19730])\n",
        "print(df_movies['id'][29503])\n",
        "print(df_movies['id'][35587])"
      ],
      "execution_count": null,
      "outputs": []
    },
    {
      "cell_type": "code",
      "metadata": {
        "id": "yAMwREGHRGUS"
      },
      "source": [
        "df_movies = df_movies.drop([19730, 29503, 35587])"
      ],
      "execution_count": null,
      "outputs": []
    },
    {
      "cell_type": "code",
      "metadata": {
        "id": "xS5tFWQ4ROFN"
      },
      "source": [
        "df_movies['id'] = pd.to_numeric(df_movies['id'])"
      ],
      "execution_count": null,
      "outputs": []
    },
    {
      "cell_type": "markdown",
      "metadata": {
        "id": "-tQhpVlCSS3Q"
      },
      "source": [
        "#### Joining Credits and Keywords into df1"
      ]
    },
    {
      "cell_type": "code",
      "metadata": {
        "id": "SCw6bSaKSSD6"
      },
      "source": [
        "df1 = df_credits.join(df_keywords.set_index('id'), on = 'id')"
      ],
      "execution_count": null,
      "outputs": []
    },
    {
      "cell_type": "markdown",
      "metadata": {
        "id": "UwtovAAzSkkg"
      },
      "source": [
        "#### Joining Movies into df1"
      ]
    },
    {
      "cell_type": "code",
      "metadata": {
        "id": "-A5cX3M_Swdx"
      },
      "source": [
        "df1 = df1.join(df_movies.set_index('id'), on = 'id')"
      ],
      "execution_count": null,
      "outputs": []
    },
    {
      "cell_type": "markdown",
      "metadata": {
        "id": "63lx3rA6S0_6"
      },
      "source": [
        "# Merged DataFrame #1"
      ]
    },
    {
      "cell_type": "code",
      "metadata": {
        "id": "XsjwZrJdS0Lo"
      },
      "source": [
        "df1.head()"
      ],
      "execution_count": null,
      "outputs": []
    },
    {
      "cell_type": "code",
      "metadata": {
        "id": "tRLzmjB_62Q0"
      },
      "source": [
        "df1.shape"
      ],
      "execution_count": null,
      "outputs": []
    },
    {
      "cell_type": "code",
      "metadata": {
        "id": "TOAT6VRf61fS"
      },
      "source": [
        "df1 = df1.drop_duplicates(['imdb_id'])"
      ],
      "execution_count": null,
      "outputs": []
    },
    {
      "cell_type": "code",
      "metadata": {
        "id": "mfa3T9A_64gY"
      },
      "source": [
        "df1.shape"
      ],
      "execution_count": null,
      "outputs": []
    },
    {
      "cell_type": "markdown",
      "metadata": {
        "id": "Yw2FYZY_2ifD"
      },
      "source": [
        "# Exploratory Data Analysis (Chris)"
      ]
    },
    {
      "cell_type": "markdown",
      "metadata": {
        "id": "aNs3XnMc2u-Y"
      },
      "source": [
        "#### Missing Data"
      ]
    },
    {
      "cell_type": "code",
      "metadata": {
        "id": "NDydv3dC280Y"
      },
      "source": [
        "total_missing = df1.isnull().sum().sort_values(ascending=False)\n",
        "percent_missing = ((df1.isnull().sum() / df1.isnull().count()) * 100).sort_values(ascending=False)\n",
        "missing_values = pd.concat([total_missing, percent_missing], axis=1, keys=['Total', 'Percent'])\n",
        "\n",
        "plt.figure(figsize=(15,10))\n",
        "sns.set_style('whitegrid')\n",
        "ax = sns.barplot(y=missing_values.index, x=missing_values['Total'], palette=\"Set2\") \n",
        "ax.set_title('Total missing values by attribute')\n",
        "ax.set_xlabel('Null count')\n",
        "ax.set_ylabel('Attribute Name')\n",
        "\n",
        "for p in ax.patches:\n",
        "    plt.text(p.get_width()+12, p.get_y()+0.65*p.get_height(),\n",
        "             '{:1.0f}'.format(p.get_width())) "
      ],
      "execution_count": null,
      "outputs": []
    },
    {
      "cell_type": "markdown",
      "metadata": {
        "id": "Pho1aMue2Yhe"
      },
      "source": [
        "#### Movie Budget and Revenue by Year"
      ]
    },
    {
      "cell_type": "code",
      "metadata": {
        "id": "oGT5xkNZ2pLQ"
      },
      "source": [
        "dfBudget = df1[['release_date', 'budget', 'revenue']].dropna()\n",
        "dfBudget['release_date'] = pd.DatetimeIndex(dfBudget['release_date']).year\n",
        "dfBudget['budget'] = dfBudget['budget'].astype(str).astype(int)\n",
        "dfBudget['budget'] = dfBudget['budget'].apply(lambda x: round(x/1000000))\n",
        "dfBudget['revenue'] = dfBudget['revenue'].apply(lambda x: round(x/1000000))\n",
        "\n",
        "\n",
        "plt.figure(figsize=(20,10))\n",
        "plt.subplot(1, 2, 1)\n",
        "plt.scatter(x = 'release_date' ,y = 'budget' , data = dfBudget)\n",
        "plt.xlabel(\"Year\")\n",
        "plt.ylabel(\"Budget (Millions)\")\n",
        "plt.title(\"Budget by Year\")\n",
        "\n",
        "plt.subplot(1, 2, 2)\n",
        "plt.scatter(x = 'release_date' ,y = 'revenue' , data = dfBudget)\n",
        "plt.xlabel(\"Year\")\n",
        "plt.ylabel(\"Revenue (Millions)\")\n",
        "plt.title(\"Revenue by Year\")\n",
        "plt.show()"
      ],
      "execution_count": null,
      "outputs": []
    },
    {
      "cell_type": "markdown",
      "metadata": {
        "id": "pDZKzKGlOg_A"
      },
      "source": [
        "#### AverageBudget/Revenue by Month"
      ]
    },
    {
      "cell_type": "code",
      "metadata": {
        "id": "t98kG-aFPGN5"
      },
      "source": [
        "dfBudget = df1[['release_date', 'budget', 'revenue']].dropna()\n",
        "dfBudget['release_date'] = pd.DatetimeIndex(dfBudget['release_date']).month\n",
        "dfBudget['budget'] = dfBudget['budget'].astype(str).astype(int)\n",
        "dfBudget['budget'] = dfBudget['budget'].apply(lambda x: round(x/1000000))\n",
        "dfBudget['revenue'] = dfBudget['revenue'].apply(lambda x: round(x/1000000))\n",
        "dfBudget = dfBudget.groupby('release_date')['budget', 'revenue'].mean()\n",
        "\n",
        "plt.figure(figsize=(20,10))\n",
        "plt.bar(dfBudget.index , dfBudget['budget'], label='budget', color= 'r')\n",
        "plt.bar(dfBudget.index , dfBudget['revenue'], label='revenue', alpha = 0.4, color= 'b')\n",
        "plt.xlabel(\"Month\")\n",
        "plt.ylabel(\"Budget / Revenue (Millions)\")\n",
        "plt.title(\"Budget/Revenue by Month\")\n",
        "plt.legend(loc='best')\n",
        "plt.show()\n"
      ],
      "execution_count": null,
      "outputs": []
    },
    {
      "cell_type": "markdown",
      "metadata": {
        "id": "_YgFy3cr55G8"
      },
      "source": [
        "#### Top 20 Movies Profitability"
      ]
    },
    {
      "cell_type": "code",
      "metadata": {
        "id": "aBva-fYL67sq"
      },
      "source": [
        "dfProfit = df1[['original_title', 'budget', 'revenue']].dropna()\n",
        "dfProfit['budget'] = dfProfit['budget'].astype(str).astype(int)\n",
        "dfProfit['revenue'] = dfProfit['revenue'].astype(int)\n",
        "#Remove rows where the budget or revenue is zero because they would not provide a fair comparison\n",
        "dfProfit = dfProfit[dfProfit.revenue != 0]\n",
        "dfProfit = dfProfit[dfProfit.budget != 0]\n",
        "dfProfit['profit'] = dfProfit.apply(lambda row: int(row['revenue']) - row['budget'], axis=1)\n",
        "\n",
        "plt.figure(figsize=(20,10))\n",
        "sns.set_style('whitegrid')\n",
        "plt.subplot(1, 2, 1)\n",
        "ax = sns.barplot(y='original_title', x='profit', data=dfProfit.sort_values('profit', ascending=False)[:20], palette=\"cubehelix\") \n",
        "ax.set_title('Top 20 Movies (Best profitability)')\n",
        "ax.set_xlabel(\"Profit (Billion)\")\n",
        "ax.set_ylabel('Name')\n",
        "\n",
        "plt.subplot(1, 2, 2)\n",
        "ax = sns.barplot(y='original_title', x='profit', data=dfProfit.sort_values('profit')[:20], palette=\"cubehelix\") \n",
        "ax.set_title('Top 20 Movies (Worst profitability)')\n",
        "ax.set_xlabel(\"Profit (Billion)\")\n",
        "ax.set_ylabel('Name')\n",
        "plt.subplots_adjust(wspace=0.7)\n",
        "plt.show()"
      ],
      "execution_count": null,
      "outputs": []
    },
    {
      "cell_type": "markdown",
      "metadata": {
        "id": "KHC4nPQsU2hL"
      },
      "source": [
        "#### Movies Per Year"
      ]
    },
    {
      "cell_type": "code",
      "metadata": {
        "id": "chyKwyJu-3jY"
      },
      "source": [
        "dfYear = df1[['release_date']].dropna()\n",
        "dfYear['release_date'] = pd.DatetimeIndex(dfYear['release_date']).year\n",
        "dfdfBudget = dfBudget.groupby('release_date')['budget', 'revenue'].mean()\n",
        "dfYear = dfYear.groupby('release_date')['release_date'].count().reset_index(name=\"count\")\n",
        "\n",
        "plt.figure(figsize=(20,10))\n",
        "sns.set_style('whitegrid')\n",
        "ax = sns.lineplot(x='release_date', y='count', data=dfYear) \n",
        "ax.set_title('Movies Per Year')\n",
        "ax.set_xlabel(\"Year\")\n",
        "ax.set_ylabel('Number of Movies')"
      ],
      "execution_count": null,
      "outputs": []
    },
    {
      "cell_type": "markdown",
      "metadata": {
        "id": "jTmLH8B9a8TX"
      },
      "source": [
        "#### Movies by Genre"
      ]
    },
    {
      "cell_type": "code",
      "metadata": {
        "id": "kUlpJpq2_ASP"
      },
      "source": [
        "# Clean genres column\n",
        "def clean_genre(row):\n",
        "  genres = []\n",
        "  gen_dict = eval(row)\n",
        "  for i in range(len(gen_dict)):\n",
        "    genres.append(gen_dict[i]['name'])\n",
        "\n",
        "  return genres"
      ],
      "execution_count": null,
      "outputs": []
    },
    {
      "cell_type": "code",
      "metadata": {
        "id": "uw3sk1NsalVc"
      },
      "source": [
        "df1['genres'] = df1['genres'].apply(lambda x: clean_genre(x))\n",
        "dfGenres = df1[['genres']].dropna()\n",
        "dfGenres = dfGenres[dfGenres['genres'].map(lambda x: len(x)) > 0]\n",
        "\n",
        "dfGenres= pd.Series([x for item in dfGenres.genres for x in item]).value_counts().reset_index()\n",
        "dfGenres.columns = ['genre', 'count']\n",
        "\n",
        "plt.figure(figsize=(20,10))\n",
        "sns.set_style('whitegrid')\n",
        "ax = sns.barplot(y='genre', x='count', data=dfGenres.sort_values('count', ascending=False), palette=\"flare\") \n",
        "ax.set_title('Movies by Genre')\n",
        "ax.set_xlabel(\"Number of Movies\")\n",
        "ax.set_ylabel('Genre')\n",
        "\n",
        "for p in ax.patches:\n",
        "    plt.text(p.get_width()+12, p.get_y()+0.65*p.get_height(),\n",
        "             '{:1.0f}'.format(p.get_width())) "
      ],
      "execution_count": null,
      "outputs": []
    },
    {
      "cell_type": "markdown",
      "metadata": {
        "id": "Od5UAeLyhwQW"
      },
      "source": [
        "#### Top 20 Actors"
      ]
    },
    {
      "cell_type": "code",
      "metadata": {
        "id": "zFIgR5We_M4n"
      },
      "source": [
        "# Clean cast column\n",
        "def clean_cast(row):\n",
        "  cast = []\n",
        "  cast_dict = eval(row)\n",
        "  for i in range(len(cast_dict)):\n",
        "    cast.append(cast_dict[i]['name'])\n",
        "\n",
        "  return cast"
      ],
      "execution_count": null,
      "outputs": []
    },
    {
      "cell_type": "code",
      "metadata": {
        "id": "gUMQu76n4Uof"
      },
      "source": [
        "df1['cast'] = df1['cast'].apply(lambda x: clean_cast(x))\n",
        "dfCast = df1[['cast']].dropna()\n",
        "dfCast = dfCast[dfCast['cast'].map(lambda x: len(x)) > 0]\n",
        "\n",
        "dfCast= pd.Series([x for item in dfCast.cast for x in item]).value_counts().reset_index()\n",
        "dfCast.columns = ['actor', 'count']\n",
        "\n",
        "plt.figure(figsize=(20,10))\n",
        "sns.set_style('whitegrid')\n",
        "ax = sns.barplot(y='actor', x='count', data=dfCast.sort_values('count', ascending=False)[:20], palette=\"crest\") \n",
        "ax.set_title('Top 20 Actors')\n",
        "ax.set_xlabel(\"Number of Movies\")\n",
        "ax.set_ylabel('Actor')\n",
        "\n",
        "for p in ax.patches:\n",
        "    plt.text(p.get_width()+1, p.get_y()+0.65*p.get_height(),\n",
        "             '{:1.0f}'.format(p.get_width())) "
      ],
      "execution_count": null,
      "outputs": []
    },
    {
      "cell_type": "markdown",
      "metadata": {
        "id": "9mZ_Psp6Ktaf"
      },
      "source": [
        "#### Movie Rating vs Popularity"
      ]
    },
    {
      "cell_type": "code",
      "metadata": {
        "id": "50xuht51KwQY"
      },
      "source": [
        "dfPopRating = df1[['popularity', 'vote_average']].dropna()\n",
        "dfPopRating['popularity'] = dfPopRating['popularity'].astype(float)\n",
        "plt.figure(figsize=(20,10))\n",
        "ax = sns.scatterplot(x = 'popularity' ,y = 'vote_average' , data = dfPopRating)\n",
        "ax.set_title('Rating vs Popularity')\n",
        "ax.set_xlabel(\"Popularity\")\n",
        "ax.set_ylabel(\"Rating\")"
      ],
      "execution_count": null,
      "outputs": []
    },
    {
      "cell_type": "markdown",
      "metadata": {
        "id": "7PsrxuYAUNfU"
      },
      "source": [
        "#### Overview Word Cloud"
      ]
    },
    {
      "cell_type": "code",
      "metadata": {
        "id": "P84q2OGMRQyt"
      },
      "source": [
        "dfOverView = df1[['overview']]\n",
        "text = ' '.join(dfOverView['overview'].fillna('').values)\n",
        "wordcloud = WordCloud(margin=10, background_color='white', colormap='Blues', width=1200, height=1000).generate(text)\n",
        "plt.figure(figsize = (10, 10))\n",
        "plt.imshow(wordcloud, interpolation='bilinear')\n",
        "plt.title('Top words in overview', fontsize=20)\n",
        "plt.axis('off')\n",
        "plt.show()"
      ],
      "execution_count": null,
      "outputs": []
    },
    {
      "cell_type": "markdown",
      "metadata": {
        "id": "aV5ccIfBhhHs"
      },
      "source": [
        "# Cleaning DF1"
      ]
    },
    {
      "cell_type": "code",
      "metadata": {
        "id": "O9C1vSkGjCIu"
      },
      "source": [
        "del df1['crew']\n",
        "del df1['homepage']\n",
        "del df1['poster_path']\n",
        "del df1['imdb_id']\n",
        "del df1['overview']\n",
        "del df1['tagline']\n",
        "del df1['budget']\n",
        "del df1['status']\n",
        "del df1['video']\n",
        "del df1['spoken_languages']\n",
        "del df1['production_countries']\n",
        "del df1['runtime']\n",
        "del df1['original_title']\n",
        "del df1['belongs_to_collection']\n",
        "del df1['production_companies']"
      ],
      "execution_count": null,
      "outputs": []
    },
    {
      "cell_type": "code",
      "metadata": {
        "id": "291wE5D8hfgj"
      },
      "source": [
        "df1.head()"
      ],
      "execution_count": null,
      "outputs": []
    },
    {
      "cell_type": "code",
      "metadata": {
        "id": "I2Dkwlkzn2Wr"
      },
      "source": [
        "df1.dtypes"
      ],
      "execution_count": null,
      "outputs": []
    },
    {
      "cell_type": "code",
      "metadata": {
        "id": "mf4jhDaSipVv"
      },
      "source": [
        "# Clean keywords column\n",
        "def clean_keywords(row):\n",
        "  keywords = []\n",
        "  keyword_dict = eval(row)\n",
        "  for i in range(len(keyword_dict)):\n",
        "    keywords.append(keyword_dict[i]['name'])\n",
        "\n",
        "  return keywords"
      ],
      "execution_count": null,
      "outputs": []
    },
    {
      "cell_type": "code",
      "metadata": {
        "id": "lJjJrC7miv_2"
      },
      "source": [
        "df1['keywords'] = df1['keywords'].apply(lambda x: clean_keywords(x))"
      ],
      "execution_count": null,
      "outputs": []
    },
    {
      "cell_type": "code",
      "metadata": {
        "id": "AZHE6hbTt8SH"
      },
      "source": [
        "df1.head()"
      ],
      "execution_count": null,
      "outputs": []
    },
    {
      "cell_type": "markdown",
      "metadata": {
        "id": "JOBEDmiOLBDI"
      },
      "source": [
        "### Creating a Cast DF"
      ]
    },
    {
      "cell_type": "code",
      "metadata": {
        "id": "80Sbpzi-i_P7"
      },
      "source": [
        "cast = eval (df_credits['cast'].values[0])"
      ],
      "execution_count": null,
      "outputs": []
    },
    {
      "cell_type": "code",
      "metadata": {
        "id": "C2uTUxxJj0HQ"
      },
      "source": [
        "cast[0]['id']"
      ],
      "execution_count": null,
      "outputs": []
    },
    {
      "cell_type": "code",
      "metadata": {
        "id": "Oa12OCyskBni"
      },
      "source": [
        "ids = []\n",
        "actors = []\n",
        "\n",
        "for i in range(0, len(df_credits['cast'])):\n",
        "  castData = eval(df_credits['cast'].values[i])\n",
        "  for j in range(len(castData)):\n",
        "    ids.append(castData[j]['id'])\n",
        "    actors.append(castData[j]['name'])"
      ],
      "execution_count": null,
      "outputs": []
    },
    {
      "cell_type": "code",
      "metadata": {
        "id": "02d-65H0qog8"
      },
      "source": [
        "castDF = pd.DataFrame({'id': ids, 'name': actors})"
      ],
      "execution_count": null,
      "outputs": []
    },
    {
      "cell_type": "code",
      "metadata": {
        "id": "RONAaM17rRG8"
      },
      "source": [
        "castDF.head()"
      ],
      "execution_count": null,
      "outputs": []
    },
    {
      "cell_type": "code",
      "metadata": {
        "id": "HnYkSXk-raFD"
      },
      "source": [
        "castDF[castDF.duplicated()]"
      ],
      "execution_count": null,
      "outputs": []
    },
    {
      "cell_type": "code",
      "metadata": {
        "id": "ASqylWbzri2H"
      },
      "source": [
        "castDF.shape"
      ],
      "execution_count": null,
      "outputs": []
    },
    {
      "cell_type": "markdown",
      "metadata": {
        "id": "uNj2dOorroZn"
      },
      "source": [
        "Remove Duplicates"
      ]
    },
    {
      "cell_type": "code",
      "metadata": {
        "id": "VMw0IlEuroAc"
      },
      "source": [
        "castDF.drop_duplicates(keep = 'first', inplace = True)"
      ],
      "execution_count": null,
      "outputs": []
    },
    {
      "cell_type": "code",
      "metadata": {
        "id": "nvD1oLPtrqic"
      },
      "source": [
        "castDF.shape"
      ],
      "execution_count": null,
      "outputs": []
    },
    {
      "cell_type": "markdown",
      "metadata": {
        "id": "JrcQnwEotKXt"
      },
      "source": [
        "## Finding unique cast number for each movie"
      ]
    },
    {
      "cell_type": "code",
      "metadata": {
        "id": "gvPSfM6m1s7-"
      },
      "source": [
        "# convert castDF into dictionary\n",
        "castDict = dict(zip(castDF.name, castDF.id))"
      ],
      "execution_count": null,
      "outputs": []
    },
    {
      "cell_type": "code",
      "metadata": {
        "id": "RsUapkkJ8kwS"
      },
      "source": [
        "castDict"
      ],
      "execution_count": null,
      "outputs": []
    },
    {
      "cell_type": "code",
      "metadata": {
        "id": "TAY9ijAH13Qp"
      },
      "source": [
        "def get_cast_number(row):\n",
        "  if len(row) == 0:\n",
        "    return 0\n",
        "  else:\n",
        "    array = np.vectorize(castDict.get)(row)\n",
        "    return sum(array)"
      ],
      "execution_count": null,
      "outputs": []
    },
    {
      "cell_type": "code",
      "metadata": {
        "id": "ogM0s__i55HE"
      },
      "source": [
        "df1['castNum'] = df1['cast'].apply(lambda x: get_cast_number(x))"
      ],
      "execution_count": null,
      "outputs": []
    },
    {
      "cell_type": "code",
      "metadata": {
        "id": "uP5LkR3VrzUp"
      },
      "source": [
        "df1.head()"
      ],
      "execution_count": null,
      "outputs": []
    },
    {
      "cell_type": "markdown",
      "metadata": {
        "id": "FuRs8gOhriVG"
      },
      "source": [
        "## Find Genre Number for Each Movie"
      ]
    },
    {
      "cell_type": "code",
      "metadata": {
        "id": "Qagrh7G-btaA"
      },
      "source": [
        "def convert_genres(row):\n",
        "  sum = 0\n",
        "  for i in row:\n",
        "    for j in i:\n",
        "      sum+=ord(j)\n",
        "  return sum"
      ],
      "execution_count": null,
      "outputs": []
    },
    {
      "cell_type": "code",
      "metadata": {
        "id": "up2Gw6zwcMCD"
      },
      "source": [
        "df1['genreNum'] = df1['genres'].apply(lambda x: convert_genres(x))"
      ],
      "execution_count": null,
      "outputs": []
    },
    {
      "cell_type": "code",
      "metadata": {
        "id": "D0ozE01QiEDb"
      },
      "source": [
        "df1.head()"
      ],
      "execution_count": null,
      "outputs": []
    },
    {
      "cell_type": "markdown",
      "metadata": {
        "id": "6OgGRTAdrlV6"
      },
      "source": [
        "## Convert Title to Number"
      ]
    },
    {
      "cell_type": "code",
      "metadata": {
        "id": "nCDCFNTBDO0Q"
      },
      "source": [
        "df1[df1['title'].apply(lambda x: isinstance(x, float))]"
      ],
      "execution_count": null,
      "outputs": []
    },
    {
      "cell_type": "markdown",
      "metadata": {
        "id": "iPMowJtHDQvM"
      },
      "source": [
        "Need to remove these columns since they have NaN values"
      ]
    },
    {
      "cell_type": "code",
      "metadata": {
        "id": "uTFOvHZcDPir"
      },
      "source": [
        "df1 = df1.drop([19729, 29515, 35598, 35598])"
      ],
      "execution_count": null,
      "outputs": []
    },
    {
      "cell_type": "code",
      "metadata": {
        "id": "d2nVreZ7oU-w"
      },
      "source": [
        "def convert_titles(row):\n",
        "  sum = 1;\n",
        "  for i in row:\n",
        "    sum+=ord(i)\n",
        "  \n",
        "  return(sum)"
      ],
      "execution_count": null,
      "outputs": []
    },
    {
      "cell_type": "code",
      "metadata": {
        "id": "NcvAdxt6kWBj"
      },
      "source": [
        "# def convert_titles2(row):\n",
        "#   return int.from_bytes(row.encode(), 'little')"
      ],
      "execution_count": null,
      "outputs": []
    },
    {
      "cell_type": "code",
      "metadata": {
        "id": "9uqMWRZ1rshs"
      },
      "source": [
        "df1['titleNum'] = df1['title'].apply(lambda x: convert_titles(x))"
      ],
      "execution_count": null,
      "outputs": []
    },
    {
      "cell_type": "code",
      "metadata": {
        "id": "gWEBOiX-r2qY"
      },
      "source": [
        "df1.head()"
      ],
      "execution_count": null,
      "outputs": []
    },
    {
      "cell_type": "code",
      "metadata": {
        "id": "zYHfKUf9K5rB"
      },
      "source": [
        "# copy\n",
        "df_final = df1.copy()"
      ],
      "execution_count": null,
      "outputs": []
    },
    {
      "cell_type": "code",
      "metadata": {
        "id": "y554ZdZ6e7mp"
      },
      "source": [
        "# df1 = df_final"
      ],
      "execution_count": null,
      "outputs": []
    },
    {
      "cell_type": "markdown",
      "metadata": {
        "id": "GIuUq7XSzrMe"
      },
      "source": [
        "## Chris - Clean & Transform the keywords column"
      ]
    },
    {
      "cell_type": "markdown",
      "metadata": {
        "id": "nyFuXlW707B3"
      },
      "source": [
        "#### Convert the array to string"
      ]
    },
    {
      "cell_type": "code",
      "metadata": {
        "id": "xfelYgUT0iYP"
      },
      "source": [
        "df1['keywords'] = df1['keywords'].apply(', '.join)\n",
        "df1.head()"
      ],
      "execution_count": null,
      "outputs": []
    },
    {
      "cell_type": "markdown",
      "metadata": {
        "id": "3bpYH3AM2DPc"
      },
      "source": [
        "#### Convert to lowercast"
      ]
    },
    {
      "cell_type": "code",
      "metadata": {
        "id": "ciC4q9Fo2IKB"
      },
      "source": [
        "df1['keywords'] = df1['keywords'].str.lower()"
      ],
      "execution_count": null,
      "outputs": []
    },
    {
      "cell_type": "markdown",
      "metadata": {
        "id": "z9ytSjS52jri"
      },
      "source": [
        "#### Remove punctuations"
      ]
    },
    {
      "cell_type": "code",
      "metadata": {
        "id": "RoBRB9p22mqh"
      },
      "source": [
        "df1['keywords'] = df1['keywords'].str.replace('[^\\w\\s]','')"
      ],
      "execution_count": null,
      "outputs": []
    },
    {
      "cell_type": "markdown",
      "metadata": {
        "id": "Pyg2Qfx739Ha"
      },
      "source": [
        "###### Remove links"
      ]
    },
    {
      "cell_type": "code",
      "metadata": {
        "id": "GOVDM9qE1KHN"
      },
      "source": [
        "df1['keywords'] = df1['keywords'].str.replace('http\\S+|www.\\S+', '', case=False)"
      ],
      "execution_count": null,
      "outputs": []
    },
    {
      "cell_type": "markdown",
      "metadata": {
        "id": "uszPViC71KHN"
      },
      "source": [
        "###### Remove html tags"
      ]
    },
    {
      "cell_type": "code",
      "metadata": {
        "id": "yHM36o_W1KHO"
      },
      "source": [
        "def rmtags(keyword):\n",
        "  rmtag = re.compile('<.*?>')\n",
        "  keywordtext = re.sub(rmtag, '', keyword)\n",
        "  return keywordtext\n",
        "\n",
        "df1['keywords'] = df1['keywords'].apply(lambda keyword: rmtags(keyword))"
      ],
      "execution_count": null,
      "outputs": []
    },
    {
      "cell_type": "markdown",
      "metadata": {
        "id": "Pe5zE81b5V4p"
      },
      "source": [
        "##### Remove additional whitespace"
      ]
    },
    {
      "cell_type": "code",
      "metadata": {
        "id": "HvoqTACf5IMc"
      },
      "source": [
        "df1['keywords'] = df1['keywords'].replace(' +', ' ', regex=True)\n",
        "print(df1['keywords'][0])\n",
        "print('\\n----------\\n')\n",
        "print(df1['keywords'][1])"
      ],
      "execution_count": null,
      "outputs": []
    },
    {
      "cell_type": "markdown",
      "metadata": {
        "id": "dAIxXgTI5uVV"
      },
      "source": [
        "### Encode the keywords with TFIDFVectorizer"
      ]
    },
    {
      "cell_type": "code",
      "metadata": {
        "id": "jtGGFl_POGn-"
      },
      "source": [
        "tfidf_vectorizer = TfidfVectorizer(stop_words = 'english', ngram_range=(1,1))\n",
        "tfidf = tfidf_vectorizer.fit_transform(df1['keywords'])"
      ],
      "execution_count": null,
      "outputs": []
    },
    {
      "cell_type": "code",
      "metadata": {
        "id": "LjMqAgH_CEcU"
      },
      "source": [
        "keywordNum = np.sum(tfidf.A, axis=1)"
      ],
      "execution_count": null,
      "outputs": []
    },
    {
      "cell_type": "code",
      "metadata": {
        "id": "0kYD8aR2DOcI"
      },
      "source": [
        "df1['keywords'] = keywordNum"
      ],
      "execution_count": null,
      "outputs": []
    },
    {
      "cell_type": "code",
      "metadata": {
        "id": "tuNhlkk2CQOZ"
      },
      "source": [
        "df1.head()"
      ],
      "execution_count": null,
      "outputs": []
    },
    {
      "cell_type": "code",
      "metadata": {
        "id": "nR9l7Ryqd-lX"
      },
      "source": [
        "title_df = df1['title']"
      ],
      "execution_count": null,
      "outputs": []
    },
    {
      "cell_type": "code",
      "metadata": {
        "id": "PNBze47-yozA"
      },
      "source": [
        "del df1['cast']\n",
        "del df1['genres']\n",
        "del df1['title']"
      ],
      "execution_count": null,
      "outputs": []
    },
    {
      "cell_type": "code",
      "metadata": {
        "id": "8l2vizQ0LNIL"
      },
      "source": [
        "df1.head()"
      ],
      "execution_count": null,
      "outputs": []
    },
    {
      "cell_type": "markdown",
      "metadata": {
        "id": "L6uLDqxaEecx"
      },
      "source": [
        "### Convert remaining columns to numeric"
      ]
    },
    {
      "cell_type": "code",
      "metadata": {
        "id": "RNYMM4J6EpkY"
      },
      "source": [
        "# change popularity to float\n",
        "df1['popularity'] = df1['popularity'].apply(pd.to_numeric)"
      ],
      "execution_count": null,
      "outputs": []
    },
    {
      "cell_type": "code",
      "metadata": {
        "id": "0hzwqDP2UYNe"
      },
      "source": [
        "# convert adult true or false to 1 or 0\n",
        "adult_encoder = LabelEncoder()\n",
        "df1[\"adult\"] = adult_encoder.fit_transform(df1[\"adult\"])"
      ],
      "execution_count": null,
      "outputs": []
    },
    {
      "cell_type": "code",
      "metadata": {
        "id": "Ofk9smeyHXm_"
      },
      "source": [
        "# change date to date-time\n",
        "df1['release_date'] = pd.to_datetime(df1['release_date'])"
      ],
      "execution_count": null,
      "outputs": []
    },
    {
      "cell_type": "code",
      "metadata": {
        "id": "vsfmmiWlcbKj"
      },
      "source": [
        "categorical = df1.dtypes[df1.dtypes == \"object\"].index\n",
        "categorical"
      ],
      "execution_count": null,
      "outputs": []
    },
    {
      "cell_type": "code",
      "metadata": {
        "id": "NL4oK95xZ3Su"
      },
      "source": [
        "for c in categorical:\n",
        "    df1[c] = df1[c].astype('category')\n",
        "    df1[c] = df1[c].cat.codes"
      ],
      "execution_count": null,
      "outputs": []
    },
    {
      "cell_type": "code",
      "metadata": {
        "id": "wjFLsMW9R8El"
      },
      "source": [
        "df1.dtypes"
      ],
      "execution_count": null,
      "outputs": []
    },
    {
      "cell_type": "code",
      "metadata": {
        "id": "o1ctSn4vSSPg"
      },
      "source": [
        "df2 = df1[['id', 'keywords', 'adult', 'original_language', 'popularity', 'revenue', 'vote_average', 'vote_count', 'castNum', 'genreNum', 'titleNum']]\n",
        "df2['title'] = title_df.str.lower()"
      ],
      "execution_count": null,
      "outputs": []
    },
    {
      "cell_type": "code",
      "metadata": {
        "id": "fdoGdeDnbJna"
      },
      "source": [
        "df2.head(10)"
      ],
      "execution_count": null,
      "outputs": []
    },
    {
      "cell_type": "code",
      "metadata": {
        "id": "bTO_B9Tmwu01"
      },
      "source": [
        "df2.shape"
      ],
      "execution_count": null,
      "outputs": []
    },
    {
      "cell_type": "code",
      "metadata": {
        "id": "EGL11Uhr3o89"
      },
      "source": [
        "df2 = df2.drop_duplicates(['id'])\n",
        "df2.head(10)"
      ],
      "execution_count": null,
      "outputs": []
    },
    {
      "cell_type": "code",
      "metadata": {
        "colab": {
          "base_uri": "https://localhost:8080/"
        },
        "id": "vYcy8tlu4Ad2",
        "outputId": "5f12d094-1177-4596-d887-657abd8cefe2"
      },
      "source": [
        "df2.shape"
      ],
      "execution_count": null,
      "outputs": [
        {
          "output_type": "execute_result",
          "data": {
            "text/plain": [
              "(45429, 12)"
            ]
          },
          "metadata": {
            "tags": []
          },
          "execution_count": 70
        }
      ]
    },
    {
      "cell_type": "markdown",
      "metadata": {
        "id": "CCWX8Vq-ySTM"
      },
      "source": [
        "### Convert the Cleaned and Tranformed Dataframe to csv for use in the recommender system & Streamlit"
      ]
    },
    {
      "cell_type": "code",
      "metadata": {
        "id": "LeXeJefOHxOo",
        "colab": {
          "base_uri": "https://localhost:8080/"
        },
        "outputId": "23302b03-3b72-4bd7-969a-7e0bef2b6f7b"
      },
      "source": [
        "from google.colab import drive\n",
        "drive.mount('/content/drive', force_remount=True)"
      ],
      "execution_count": null,
      "outputs": [
        {
          "output_type": "stream",
          "text": [
            "Mounted at /content/drive\n"
          ],
          "name": "stdout"
        }
      ]
    },
    {
      "cell_type": "code",
      "metadata": {
        "id": "py1q6wmxH2Lv"
      },
      "source": [
        "df2.to_csv('/content/drive/My Drive/Big Data Project/data/KaggleMovies.csv', index=False)"
      ],
      "execution_count": null,
      "outputs": []
    }
  ]
}